{
 "cells": [
  {
   "cell_type": "markdown",
   "metadata": {},
   "source": [
    "### FEATURE ENGINEERING"
   ]
  },
  {
   "cell_type": "markdown",
   "metadata": {},
   "source": [
    "Feature engineering is the process of using domain knowledge to extract new variables from raw data that make machine learning algorithms work.\n",
    "\n",
    "Sometimes in order to gain meaningful insights from our data, we need to extract new features from the existing ones, inpute missing values, encode some features, scale some features, deal with the dates and many more, which we will see in this tutorial.\n",
    "\n",
    "For instance;\n",
    "\n",
    "If we want to predict when a customer will purchase an item next, we would like a single numeric feature matrix with a row for every customer. We can then use this in a machine learning algorithm.\n",
    "\n",
    "Our dataset might probably contain the order dates of previuos purchases, or the dataset might even be coming from diferent product sales department.\n",
    "\n",
    "We may want to then extract new features from the date column such as:\n",
    "\n",
    "1. Average time between past purchases\n",
    "2. Average amount of past purchases\n",
    "3. Maximum amount of past purchases\n",
    "4. Time elapsed since last purchase\n",
    "4. Total number of past purchases etc."
   ]
  },
  {
   "cell_type": "markdown",
   "metadata": {},
   "source": [
    "In order for us to be in a good position in dealing with unstructured data, we will consider several Feature Engineering Techniques such as:\n",
    "\n",
    "1. Dealing With Outliers\n",
    "2. Dealing With Missing Values\n",
    "3. Dealing With Dates And Time\n",
    "4. Dealing With Various Data Types\n",
    "5. Feature Scaling\n",
    "6. Feature/Variable Transformation\n",
    "7. Feature Encoding"
   ]
  },
  {
   "cell_type": "code",
   "execution_count": null,
   "metadata": {},
   "outputs": [],
   "source": []
  }
 ],
 "metadata": {
  "language_info": {
   "name": "python"
  },
  "orig_nbformat": 4
 },
 "nbformat": 4,
 "nbformat_minor": 2
}
