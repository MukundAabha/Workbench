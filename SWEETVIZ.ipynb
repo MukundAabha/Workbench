{
 "cells": [
  {
   "cell_type": "markdown",
   "metadata": {
    "id": "xip333eudSNH"
   },
   "source": [
    "![image.png](data:image/png;base64,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)"
   ]
  },
  {
   "cell_type": "markdown",
   "metadata": {
    "id": "gH0ACkMwdALK"
   },
   "source": [
    "Sweetviz is an open source Python library that generates beautiful, high-density visualizations to kickstart EDA (Exploratory Data Analysis) with just two lines of code. Output is a fully self-contained HTML application.\n",
    "\n",
    "The system is built around quickly visualizing target values and comparing datasets. Its goal is to help quick analysis of target characteristics, training vs testing data, and other such data characterization tasks.\n",
    "\n"
   ]
  },
  {
   "cell_type": "markdown",
   "metadata": {
    "id": "crTeiIEadv_b"
   },
   "source": [
    "#**Installation**"
   ]
  },
  {
   "cell_type": "code",
   "execution_count": null,
   "metadata": {
    "colab": {
     "base_uri": "https://localhost:8080/"
    },
    "id": "sLGPGQrKdvsB",
    "outputId": "533c20d6-ae7c-4991-c155-a06c0c74975c"
   },
   "outputs": [
    {
     "name": "stdout",
     "output_type": "stream",
     "text": [
      "Collecting sweetviz\n",
      "\u001b[?25l  Downloading https://files.pythonhosted.org/packages/bf/c8/e96d6f6f50ecb2ff57c33aa21ec730db0e60b0a9b685c2904192e5f29cbb/sweetviz-2.0.4-py3-none-any.whl (15.1MB)\n",
      "\u001b[K     |████████████████████████████████| 15.1MB 334kB/s \n",
      "\u001b[?25hRequirement already satisfied: jinja2>=2.11.1 in /usr/local/lib/python3.6/dist-packages (from sweetviz) (2.11.2)\n",
      "Requirement already satisfied: importlib-resources>=1.2.0 in /usr/local/lib/python3.6/dist-packages (from sweetviz) (3.3.0)\n",
      "Requirement already satisfied: numpy>=1.16.0 in /usr/local/lib/python3.6/dist-packages (from sweetviz) (1.19.4)\n",
      "Requirement already satisfied: matplotlib>=3.1.3 in /usr/local/lib/python3.6/dist-packages (from sweetviz) (3.2.2)\n",
      "Requirement already satisfied: pandas!=1.0.0,!=1.0.1,!=1.0.2,>=0.25.3 in /usr/local/lib/python3.6/dist-packages (from sweetviz) (1.1.5)\n",
      "Requirement already satisfied: scipy>=1.3.2 in /usr/local/lib/python3.6/dist-packages (from sweetviz) (1.4.1)\n",
      "Collecting tqdm>=4.43.0\n",
      "\u001b[?25l  Downloading https://files.pythonhosted.org/packages/ac/a2/1fc6ceff232a4755fa85e2bd3aaca1145c3103b298000129381309995072/tqdm-4.55.1-py2.py3-none-any.whl (68kB)\n",
      "\u001b[K     |████████████████████████████████| 71kB 10.6MB/s \n",
      "\u001b[?25hRequirement already satisfied: MarkupSafe>=0.23 in /usr/local/lib/python3.6/dist-packages (from jinja2>=2.11.1->sweetviz) (1.1.1)\n",
      "Requirement already satisfied: zipp>=0.4; python_version < \"3.8\" in /usr/local/lib/python3.6/dist-packages (from importlib-resources>=1.2.0->sweetviz) (3.4.0)\n",
      "Requirement already satisfied: kiwisolver>=1.0.1 in /usr/local/lib/python3.6/dist-packages (from matplotlib>=3.1.3->sweetviz) (1.3.1)\n",
      "Requirement already satisfied: cycler>=0.10 in /usr/local/lib/python3.6/dist-packages (from matplotlib>=3.1.3->sweetviz) (0.10.0)\n",
      "Requirement already satisfied: pyparsing!=2.0.4,!=2.1.2,!=2.1.6,>=2.0.1 in /usr/local/lib/python3.6/dist-packages (from matplotlib>=3.1.3->sweetviz) (2.4.7)\n",
      "Requirement already satisfied: python-dateutil>=2.1 in /usr/local/lib/python3.6/dist-packages (from matplotlib>=3.1.3->sweetviz) (2.8.1)\n",
      "Requirement already satisfied: pytz>=2017.2 in /usr/local/lib/python3.6/dist-packages (from pandas!=1.0.0,!=1.0.1,!=1.0.2,>=0.25.3->sweetviz) (2018.9)\n",
      "Requirement already satisfied: six in /usr/local/lib/python3.6/dist-packages (from cycler>=0.10->matplotlib>=3.1.3->sweetviz) (1.15.0)\n",
      "Installing collected packages: tqdm, sweetviz\n",
      "  Found existing installation: tqdm 4.41.1\n",
      "    Uninstalling tqdm-4.41.1:\n",
      "      Successfully uninstalled tqdm-4.41.1\n",
      "Successfully installed sweetviz-2.0.4 tqdm-4.55.1\n"
     ]
    }
   ],
   "source": [
    "!pip install sweetviz"
   ]
  },
  {
   "cell_type": "code",
   "execution_count": null,
   "metadata": {
    "id": "Ox_Vr6J8euhI"
   },
   "outputs": [],
   "source": []
  },
  {
   "cell_type": "markdown",
   "metadata": {
    "id": "FCpSpKgle_hy"
   },
   "source": [
    "## **Import Sweetviz**"
   ]
  },
  {
   "cell_type": "code",
   "execution_count": null,
   "metadata": {
    "id": "c7Eksvj1c9uQ"
   },
   "outputs": [],
   "source": [
    "import sweetviz"
   ]
  },
  {
   "cell_type": "code",
   "execution_count": null,
   "metadata": {
    "id": "tmsOuVRue62Y"
   },
   "outputs": [],
   "source": [
    "#we will be using the titanic dataset\n",
    "\n",
    "import pandas as pd\n",
    "train = pd.read_csv(\"/content/train.txt\")\n",
    "test = pd.read_csv(\"/content/test.txt\")"
   ]
  },
  {
   "cell_type": "code",
   "execution_count": null,
   "metadata": {
    "colab": {
     "base_uri": "https://localhost:8080/",
     "height": 255
    },
    "id": "v-h9IrzNfK3m",
    "outputId": "7de3d970-210b-4d9e-ad4f-b0ed57309988"
   },
   "outputs": [
    {
     "data": {
      "text/html": [
       "<div>\n",
       "<style scoped>\n",
       "    .dataframe tbody tr th:only-of-type {\n",
       "        vertical-align: middle;\n",
       "    }\n",
       "\n",
       "    .dataframe tbody tr th {\n",
       "        vertical-align: top;\n",
       "    }\n",
       "\n",
       "    .dataframe thead th {\n",
       "        text-align: right;\n",
       "    }\n",
       "</style>\n",
       "<table border=\"1\" class=\"dataframe\">\n",
       "  <thead>\n",
       "    <tr style=\"text-align: right;\">\n",
       "      <th></th>\n",
       "      <th>PassengerId</th>\n",
       "      <th>Survived</th>\n",
       "      <th>Pclass</th>\n",
       "      <th>Name</th>\n",
       "      <th>Sex</th>\n",
       "      <th>Age</th>\n",
       "      <th>SibSp</th>\n",
       "      <th>Parch</th>\n",
       "      <th>Ticket</th>\n",
       "      <th>Fare</th>\n",
       "      <th>Cabin</th>\n",
       "      <th>Embarked</th>\n",
       "    </tr>\n",
       "  </thead>\n",
       "  <tbody>\n",
       "    <tr>\n",
       "      <th>0</th>\n",
       "      <td>1</td>\n",
       "      <td>0</td>\n",
       "      <td>3</td>\n",
       "      <td>Braund, Mr. Owen Harris</td>\n",
       "      <td>male</td>\n",
       "      <td>22.0</td>\n",
       "      <td>1</td>\n",
       "      <td>0</td>\n",
       "      <td>A/5 21171</td>\n",
       "      <td>7.2500</td>\n",
       "      <td>NaN</td>\n",
       "      <td>S</td>\n",
       "    </tr>\n",
       "    <tr>\n",
       "      <th>1</th>\n",
       "      <td>2</td>\n",
       "      <td>1</td>\n",
       "      <td>1</td>\n",
       "      <td>Cumings, Mrs. John Bradley (Florence Briggs Th...</td>\n",
       "      <td>female</td>\n",
       "      <td>38.0</td>\n",
       "      <td>1</td>\n",
       "      <td>0</td>\n",
       "      <td>PC 17599</td>\n",
       "      <td>71.2833</td>\n",
       "      <td>C85</td>\n",
       "      <td>C</td>\n",
       "    </tr>\n",
       "    <tr>\n",
       "      <th>2</th>\n",
       "      <td>3</td>\n",
       "      <td>1</td>\n",
       "      <td>3</td>\n",
       "      <td>Heikkinen, Miss. Laina</td>\n",
       "      <td>female</td>\n",
       "      <td>26.0</td>\n",
       "      <td>0</td>\n",
       "      <td>0</td>\n",
       "      <td>STON/O2. 3101282</td>\n",
       "      <td>7.9250</td>\n",
       "      <td>NaN</td>\n",
       "      <td>S</td>\n",
       "    </tr>\n",
       "    <tr>\n",
       "      <th>3</th>\n",
       "      <td>4</td>\n",
       "      <td>1</td>\n",
       "      <td>1</td>\n",
       "      <td>Futrelle, Mrs. Jacques Heath (Lily May Peel)</td>\n",
       "      <td>female</td>\n",
       "      <td>35.0</td>\n",
       "      <td>1</td>\n",
       "      <td>0</td>\n",
       "      <td>113803</td>\n",
       "      <td>53.1000</td>\n",
       "      <td>C123</td>\n",
       "      <td>S</td>\n",
       "    </tr>\n",
       "    <tr>\n",
       "      <th>4</th>\n",
       "      <td>5</td>\n",
       "      <td>0</td>\n",
       "      <td>3</td>\n",
       "      <td>Allen, Mr. William Henry</td>\n",
       "      <td>male</td>\n",
       "      <td>35.0</td>\n",
       "      <td>0</td>\n",
       "      <td>0</td>\n",
       "      <td>373450</td>\n",
       "      <td>8.0500</td>\n",
       "      <td>NaN</td>\n",
       "      <td>S</td>\n",
       "    </tr>\n",
       "  </tbody>\n",
       "</table>\n",
       "</div>"
      ],
      "text/plain": [
       "   PassengerId  Survived  Pclass  ...     Fare Cabin  Embarked\n",
       "0            1         0       3  ...   7.2500   NaN         S\n",
       "1            2         1       1  ...  71.2833   C85         C\n",
       "2            3         1       3  ...   7.9250   NaN         S\n",
       "3            4         1       1  ...  53.1000  C123         S\n",
       "4            5         0       3  ...   8.0500   NaN         S\n",
       "\n",
       "[5 rows x 12 columns]"
      ]
     },
     "execution_count": 5,
     "metadata": {
      "tags": []
     },
     "output_type": "execute_result"
    }
   ],
   "source": [
    "train.head()"
   ]
  },
  {
   "cell_type": "markdown",
   "metadata": {
    "id": "m-TG-aG0fbhL"
   },
   "source": [
    "we would like to analyze the target value “Survived”. "
   ]
  },
  {
   "cell_type": "markdown",
   "metadata": {
    "id": "uNQAezN7f2B8"
   },
   "source": [
    "We can generate a report with the following line of code\n"
   ]
  },
  {
   "cell_type": "code",
   "execution_count": null,
   "metadata": {
    "colab": {
     "base_uri": "https://localhost:8080/",
     "height": 579,
     "referenced_widgets": [
      "9197a612f595429fbdd008966b9c746c",
      "fa96781d9ea34bf58115f23bfb80f5ff",
      "57bb6b8e48e24f2f813e47384e0bf33d",
      "55ba4f71b5af4fc89f1d8f90fde130de",
      "3944c6df0f194b6fb0b0bba25096bee2",
      "ea81eec6c9cc4cc0b6820a1fa8a576b1",
      "894d50ac57e94aed81232cac43941e68",
      "c75f76f20c4046dd98be2a78e41c4fec",
      "13e88cfbe2474eb08b345b4baaf890dc",
      "bb15cfdb3def4de384222261586d949b",
      "a8a50183fe8548e6b32e102e52656ec3"
     ]
    },
    "id": "1AGHiOfafQOe",
    "outputId": "a6c9a906-96e7-425a-bdd2-0de7f970634d"
   },
   "outputs": [
    {
     "data": {
      "application/vnd.jupyter.widget-view+json": {
       "model_id": "9197a612f595429fbdd008966b9c746c",
       "version_major": 2,
       "version_minor": 0
      },
      "text/plain": [
       "                                             |          | [  0%]   00:00 -> (? left)"
      ]
     },
     "metadata": {
      "tags": []
     },
     "output_type": "display_data"
    },
    {
     "name": "stderr",
     "output_type": "stream",
     "text": [
      "/usr/local/lib/python3.6/dist-packages/numpy/core/_asarray.py:83: VisibleDeprecationWarning: Creating an ndarray from ragged nested sequences (which is a list-or-tuple of lists-or-tuples-or ndarrays with different lengths or shapes) is deprecated. If you meant to do this, you must specify 'dtype=object' when creating the ndarray\n",
      "  return array(a, dtype, copy=False, order=order)\n",
      "/usr/local/lib/python3.6/dist-packages/numpy/core/_asarray.py:83: VisibleDeprecationWarning: Creating an ndarray from ragged nested sequences (which is a list-or-tuple of lists-or-tuples-or ndarrays with different lengths or shapes) is deprecated. If you meant to do this, you must specify 'dtype=object' when creating the ndarray\n",
      "  return array(a, dtype, copy=False, order=order)\n",
      "/usr/local/lib/python3.6/dist-packages/numpy/core/_asarray.py:83: VisibleDeprecationWarning: Creating an ndarray from ragged nested sequences (which is a list-or-tuple of lists-or-tuples-or ndarrays with different lengths or shapes) is deprecated. If you meant to do this, you must specify 'dtype=object' when creating the ndarray\n",
      "  return array(a, dtype, copy=False, order=order)\n",
      "/usr/local/lib/python3.6/dist-packages/numpy/core/_asarray.py:83: VisibleDeprecationWarning: Creating an ndarray from ragged nested sequences (which is a list-or-tuple of lists-or-tuples-or ndarrays with different lengths or shapes) is deprecated. If you meant to do this, you must specify 'dtype=object' when creating the ndarray\n",
      "  return array(a, dtype, copy=False, order=order)\n",
      "/usr/local/lib/python3.6/dist-packages/numpy/core/_asarray.py:83: VisibleDeprecationWarning: Creating an ndarray from ragged nested sequences (which is a list-or-tuple of lists-or-tuples-or ndarrays with different lengths or shapes) is deprecated. If you meant to do this, you must specify 'dtype=object' when creating the ndarray\n",
      "  return array(a, dtype, copy=False, order=order)\n",
      "/usr/local/lib/python3.6/dist-packages/numpy/core/_asarray.py:83: VisibleDeprecationWarning: Creating an ndarray from ragged nested sequences (which is a list-or-tuple of lists-or-tuples-or ndarrays with different lengths or shapes) is deprecated. If you meant to do this, you must specify 'dtype=object' when creating the ndarray\n",
      "  return array(a, dtype, copy=False, order=order)\n",
      "/usr/local/lib/python3.6/dist-packages/numpy/core/_asarray.py:83: VisibleDeprecationWarning: Creating an ndarray from ragged nested sequences (which is a list-or-tuple of lists-or-tuples-or ndarrays with different lengths or shapes) is deprecated. If you meant to do this, you must specify 'dtype=object' when creating the ndarray\n",
      "  return array(a, dtype, copy=False, order=order)\n",
      "/usr/local/lib/python3.6/dist-packages/numpy/core/_asarray.py:83: VisibleDeprecationWarning: Creating an ndarray from ragged nested sequences (which is a list-or-tuple of lists-or-tuples-or ndarrays with different lengths or shapes) is deprecated. If you meant to do this, you must specify 'dtype=object' when creating the ndarray\n",
      "  return array(a, dtype, copy=False, order=order)\n",
      "/usr/local/lib/python3.6/dist-packages/numpy/core/_asarray.py:83: VisibleDeprecationWarning: Creating an ndarray from ragged nested sequences (which is a list-or-tuple of lists-or-tuples-or ndarrays with different lengths or shapes) is deprecated. If you meant to do this, you must specify 'dtype=object' when creating the ndarray\n",
      "  return array(a, dtype, copy=False, order=order)\n",
      "/usr/local/lib/python3.6/dist-packages/numpy/core/_asarray.py:83: VisibleDeprecationWarning: Creating an ndarray from ragged nested sequences (which is a list-or-tuple of lists-or-tuples-or ndarrays with different lengths or shapes) is deprecated. If you meant to do this, you must specify 'dtype=object' when creating the ndarray\n",
      "  return array(a, dtype, copy=False, order=order)\n",
      "/usr/local/lib/python3.6/dist-packages/numpy/core/_asarray.py:83: VisibleDeprecationWarning: Creating an ndarray from ragged nested sequences (which is a list-or-tuple of lists-or-tuples-or ndarrays with different lengths or shapes) is deprecated. If you meant to do this, you must specify 'dtype=object' when creating the ndarray\n",
      "  return array(a, dtype, copy=False, order=order)\n",
      "/usr/local/lib/python3.6/dist-packages/numpy/core/_asarray.py:83: VisibleDeprecationWarning: Creating an ndarray from ragged nested sequences (which is a list-or-tuple of lists-or-tuples-or ndarrays with different lengths or shapes) is deprecated. If you meant to do this, you must specify 'dtype=object' when creating the ndarray\n",
      "  return array(a, dtype, copy=False, order=order)\n",
      "/usr/local/lib/python3.6/dist-packages/numpy/core/_asarray.py:83: VisibleDeprecationWarning: Creating an ndarray from ragged nested sequences (which is a list-or-tuple of lists-or-tuples-or ndarrays with different lengths or shapes) is deprecated. If you meant to do this, you must specify 'dtype=object' when creating the ndarray\n",
      "  return array(a, dtype, copy=False, order=order)\n",
      "/usr/local/lib/python3.6/dist-packages/numpy/core/_asarray.py:83: VisibleDeprecationWarning: Creating an ndarray from ragged nested sequences (which is a list-or-tuple of lists-or-tuples-or ndarrays with different lengths or shapes) is deprecated. If you meant to do this, you must specify 'dtype=object' when creating the ndarray\n",
      "  return array(a, dtype, copy=False, order=order)\n",
      "/usr/local/lib/python3.6/dist-packages/numpy/core/_asarray.py:83: VisibleDeprecationWarning: Creating an ndarray from ragged nested sequences (which is a list-or-tuple of lists-or-tuples-or ndarrays with different lengths or shapes) is deprecated. If you meant to do this, you must specify 'dtype=object' when creating the ndarray\n",
      "  return array(a, dtype, copy=False, order=order)\n"
     ]
    }
   ],
   "source": [
    "\n",
    "my_report = sweetviz.compare([train, \"Train\"], [test, \"Test\"], \"Survived\")"
   ]
  },
  {
   "cell_type": "markdown",
   "metadata": {
    "id": "lzJg2judgJd-"
   },
   "source": [
    "Running this command will perform the analysis and create the report object. To get the output, simply use the show_html() command:"
   ]
  },
  {
   "cell_type": "code",
   "execution_count": null,
   "metadata": {
    "colab": {
     "base_uri": "https://localhost:8080/"
    },
    "collapsed": true,
    "id": "iocLki-Nf98R",
    "outputId": "e1c85b36-143d-4cbf-a1c2-f8ed6ddd32b2"
   },
   "outputs": [
    {
     "name": "stdout",
     "output_type": "stream",
     "text": [
      "Report Report.html was generated! NOTEBOOK/COLAB USERS: the web browser MAY not pop up, regardless, the report IS saved in your notebook/colab files.\n"
     ]
    }
   ],
   "source": [
    "\n",
    "my_report.show_html(\"Report.html\")"
   ]
  },
  {
   "cell_type": "markdown",
   "metadata": {
    "id": "9F3-i51thvMp"
   },
   "source": [
    "#**Comparison**"
   ]
  },
  {
   "cell_type": "markdown",
   "metadata": {
    "id": "LtxbqZpviBaB"
   },
   "source": [
    "Sweetviz provides the ***compare_intra()*** function. To use it, you provide a boolean test that splits the population (here we try train[\"Sex\"] == 'male', to get a sense of the different gender populations), and give a name to each subpopulation."
   ]
  },
  {
   "cell_type": "code",
   "execution_count": null,
   "metadata": {
    "colab": {
     "base_uri": "https://localhost:8080/",
     "height": 596,
     "referenced_widgets": [
      "28440f73d33247cabba2381b0ca69308",
      "084983aae2f24fab941b9008c4ecf9bc",
      "47cd30bc882b4f128090e665d50ec890",
      "216f62c38a9e458c973379c646ce487c",
      "45e2c96da4f34ce1b9247d8c3d36e066",
      "5d8bacb4766d407d90ff138b2a56f41f",
      "23d9b16a89a14d2092f2f7273a7026a7",
      "2939402efb884cc08eab07e6fac60d04",
      "0482ebb9d7884afc8f5358e1c90dac82",
      "0884a544f73345f192eb303bdaa9117b",
      "7b08de717abd422b821116a93b0b87fb"
     ]
    },
    "collapsed": true,
    "id": "QA36a90GgRYL",
    "outputId": "0734c1b7-708c-465d-ac04-31ef57fe8ba3"
   },
   "outputs": [
    {
     "data": {
      "application/vnd.jupyter.widget-view+json": {
       "model_id": "28440f73d33247cabba2381b0ca69308",
       "version_major": 2,
       "version_minor": 0
      },
      "text/plain": [
       "                                             |          | [  0%]   00:00 -> (? left)"
      ]
     },
     "metadata": {
      "tags": []
     },
     "output_type": "display_data"
    },
    {
     "name": "stderr",
     "output_type": "stream",
     "text": [
      "/usr/local/lib/python3.6/dist-packages/numpy/core/_asarray.py:83: VisibleDeprecationWarning: Creating an ndarray from ragged nested sequences (which is a list-or-tuple of lists-or-tuples-or ndarrays with different lengths or shapes) is deprecated. If you meant to do this, you must specify 'dtype=object' when creating the ndarray\n",
      "  return array(a, dtype, copy=False, order=order)\n",
      "/usr/local/lib/python3.6/dist-packages/numpy/core/_asarray.py:83: VisibleDeprecationWarning: Creating an ndarray from ragged nested sequences (which is a list-or-tuple of lists-or-tuples-or ndarrays with different lengths or shapes) is deprecated. If you meant to do this, you must specify 'dtype=object' when creating the ndarray\n",
      "  return array(a, dtype, copy=False, order=order)\n",
      "/usr/local/lib/python3.6/dist-packages/numpy/core/_asarray.py:83: VisibleDeprecationWarning: Creating an ndarray from ragged nested sequences (which is a list-or-tuple of lists-or-tuples-or ndarrays with different lengths or shapes) is deprecated. If you meant to do this, you must specify 'dtype=object' when creating the ndarray\n",
      "  return array(a, dtype, copy=False, order=order)\n",
      "/usr/local/lib/python3.6/dist-packages/numpy/core/_asarray.py:83: VisibleDeprecationWarning: Creating an ndarray from ragged nested sequences (which is a list-or-tuple of lists-or-tuples-or ndarrays with different lengths or shapes) is deprecated. If you meant to do this, you must specify 'dtype=object' when creating the ndarray\n",
      "  return array(a, dtype, copy=False, order=order)\n",
      "/usr/local/lib/python3.6/dist-packages/numpy/core/_asarray.py:83: VisibleDeprecationWarning: Creating an ndarray from ragged nested sequences (which is a list-or-tuple of lists-or-tuples-or ndarrays with different lengths or shapes) is deprecated. If you meant to do this, you must specify 'dtype=object' when creating the ndarray\n",
      "  return array(a, dtype, copy=False, order=order)\n",
      "/usr/local/lib/python3.6/dist-packages/numpy/core/_asarray.py:83: VisibleDeprecationWarning: Creating an ndarray from ragged nested sequences (which is a list-or-tuple of lists-or-tuples-or ndarrays with different lengths or shapes) is deprecated. If you meant to do this, you must specify 'dtype=object' when creating the ndarray\n",
      "  return array(a, dtype, copy=False, order=order)\n",
      "/usr/local/lib/python3.6/dist-packages/numpy/core/_asarray.py:83: VisibleDeprecationWarning: Creating an ndarray from ragged nested sequences (which is a list-or-tuple of lists-or-tuples-or ndarrays with different lengths or shapes) is deprecated. If you meant to do this, you must specify 'dtype=object' when creating the ndarray\n",
      "  return array(a, dtype, copy=False, order=order)\n",
      "/usr/local/lib/python3.6/dist-packages/numpy/core/_asarray.py:83: VisibleDeprecationWarning: Creating an ndarray from ragged nested sequences (which is a list-or-tuple of lists-or-tuples-or ndarrays with different lengths or shapes) is deprecated. If you meant to do this, you must specify 'dtype=object' when creating the ndarray\n",
      "  return array(a, dtype, copy=False, order=order)\n",
      "/usr/local/lib/python3.6/dist-packages/numpy/core/_asarray.py:83: VisibleDeprecationWarning: Creating an ndarray from ragged nested sequences (which is a list-or-tuple of lists-or-tuples-or ndarrays with different lengths or shapes) is deprecated. If you meant to do this, you must specify 'dtype=object' when creating the ndarray\n",
      "  return array(a, dtype, copy=False, order=order)\n",
      "/usr/local/lib/python3.6/dist-packages/numpy/core/_asarray.py:83: VisibleDeprecationWarning: Creating an ndarray from ragged nested sequences (which is a list-or-tuple of lists-or-tuples-or ndarrays with different lengths or shapes) is deprecated. If you meant to do this, you must specify 'dtype=object' when creating the ndarray\n",
      "  return array(a, dtype, copy=False, order=order)\n",
      "/usr/local/lib/python3.6/dist-packages/numpy/core/_asarray.py:83: VisibleDeprecationWarning: Creating an ndarray from ragged nested sequences (which is a list-or-tuple of lists-or-tuples-or ndarrays with different lengths or shapes) is deprecated. If you meant to do this, you must specify 'dtype=object' when creating the ndarray\n",
      "  return array(a, dtype, copy=False, order=order)\n",
      "/usr/local/lib/python3.6/dist-packages/numpy/core/_asarray.py:83: VisibleDeprecationWarning: Creating an ndarray from ragged nested sequences (which is a list-or-tuple of lists-or-tuples-or ndarrays with different lengths or shapes) is deprecated. If you meant to do this, you must specify 'dtype=object' when creating the ndarray\n",
      "  return array(a, dtype, copy=False, order=order)\n",
      "/usr/local/lib/python3.6/dist-packages/numpy/core/_asarray.py:83: VisibleDeprecationWarning: Creating an ndarray from ragged nested sequences (which is a list-or-tuple of lists-or-tuples-or ndarrays with different lengths or shapes) is deprecated. If you meant to do this, you must specify 'dtype=object' when creating the ndarray\n",
      "  return array(a, dtype, copy=False, order=order)\n",
      "/usr/local/lib/python3.6/dist-packages/numpy/core/_asarray.py:83: VisibleDeprecationWarning: Creating an ndarray from ragged nested sequences (which is a list-or-tuple of lists-or-tuples-or ndarrays with different lengths or shapes) is deprecated. If you meant to do this, you must specify 'dtype=object' when creating the ndarray\n",
      "  return array(a, dtype, copy=False, order=order)\n",
      "/usr/local/lib/python3.6/dist-packages/numpy/core/_asarray.py:83: VisibleDeprecationWarning: Creating an ndarray from ragged nested sequences (which is a list-or-tuple of lists-or-tuples-or ndarrays with different lengths or shapes) is deprecated. If you meant to do this, you must specify 'dtype=object' when creating the ndarray\n",
      "  return array(a, dtype, copy=False, order=order)\n"
     ]
    },
    {
     "name": "stdout",
     "output_type": "stream",
     "text": [
      "Report SWEETVIZ_REPORT.html was generated! NOTEBOOK/COLAB USERS: the web browser MAY not pop up, regardless, the report IS saved in your notebook/colab files.\n"
     ]
    }
   ],
   "source": [
    "\n",
    "my_report = sweetviz.compare_intra(train, train[\"Sex\"] == 'male', [\"Male\", \"Female\"], 'Survived')\n",
    "my_report.show_html()"
   ]
  },
  {
   "cell_type": "markdown",
   "metadata": {
    "id": "2B80fUbMil8M"
   },
   "source": [
    "An html will be generated for you.  Not providing a filename will default to SWEETVIZ_REPORT.html\n",
    "\n",
    "Note that the target value (“Survived” in this case) is now plotted as separate lines, one for each compared dataset (e.g. male in blue, female in orange)."
   ]
  },
  {
   "cell_type": "markdown",
   "metadata": {
    "id": "qxnKd9Hujpck"
   },
   "source": [
    "This will be very useful when preparing your data for machine learning model building like we will learn in the [Data Science/Machine learning Projects Mastery](https://www.udemy.com/course/data-science-and-machine-learning-projects-mastery/?referralCode=AF7865ACCACC24F02082)."
   ]
  },
  {
   "cell_type": "code",
   "execution_count": null,
   "metadata": {
    "colab": {
     "base_uri": "https://localhost:8080/"
    },
    "id": "gGoDfbzqiAdf",
    "outputId": "2fbac637-9dc6-49d2-d8d0-f7e37176136c"
   },
   "outputs": [
    {
     "name": "stdout",
     "output_type": "stream",
     "text": [
      "/content\n"
     ]
    }
   ],
   "source": [
    "!pwd"
   ]
  },
  {
   "cell_type": "code",
   "execution_count": null,
   "metadata": {
    "id": "fyw76jai_PPF"
   },
   "outputs": [],
   "source": []
  }
 ],
 "metadata": {
  "colab": {
   "name": "SWEETVIZ.ipynb",
   "provenance": []
  },
  "kernelspec": {
   "display_name": "Python 3",
   "language": "python",
   "name": "python3"
  },
  "language_info": {
   "codemirror_mode": {
    "name": "ipython",
    "version": 3
   },
   "file_extension": ".py",
   "mimetype": "text/x-python",
   "name": "python",
   "nbconvert_exporter": "python",
   "pygments_lexer": "ipython3",
   "version": "3.8.8"
  },
  "widgets": {
   "application/vnd.jupyter.widget-state+json": {
    "0482ebb9d7884afc8f5358e1c90dac82": {
     "model_module": "@jupyter-widgets/base",
     "model_module_version": "1.2.0",
     "model_name": "LayoutModel",
     "state": {
      "_model_module": "@jupyter-widgets/base",
      "_model_module_version": "1.2.0",
      "_model_name": "LayoutModel",
      "_view_count": null,
      "_view_module": "@jupyter-widgets/base",
      "_view_module_version": "1.2.0",
      "_view_name": "LayoutView",
      "align_content": null,
      "align_items": null,
      "align_self": null,
      "border": null,
      "bottom": null,
      "display": null,
      "flex": "2",
      "flex_flow": null,
      "grid_area": null,
      "grid_auto_columns": null,
      "grid_auto_flow": null,
      "grid_auto_rows": null,
      "grid_column": null,
      "grid_gap": null,
      "grid_row": null,
      "grid_template_areas": null,
      "grid_template_columns": null,
      "grid_template_rows": null,
      "height": null,
      "justify_content": null,
      "justify_items": null,
      "left": null,
      "margin": null,
      "max_height": null,
      "max_width": null,
      "min_height": null,
      "min_width": null,
      "object_fit": null,
      "object_position": null,
      "order": null,
      "overflow": null,
      "overflow_x": null,
      "overflow_y": null,
      "padding": null,
      "right": null,
      "top": null,
      "visibility": null,
      "width": null
     }
    },
    "084983aae2f24fab941b9008c4ecf9bc": {
     "model_module": "@jupyter-widgets/base",
     "model_module_version": "1.2.0",
     "model_name": "LayoutModel",
     "state": {
      "_model_module": "@jupyter-widgets/base",
      "_model_module_version": "1.2.0",
      "_model_name": "LayoutModel",
      "_view_count": null,
      "_view_module": "@jupyter-widgets/base",
      "_view_module_version": "1.2.0",
      "_view_name": "LayoutView",
      "align_content": null,
      "align_items": null,
      "align_self": null,
      "border": null,
      "bottom": null,
      "display": "inline-flex",
      "flex": null,
      "flex_flow": "row wrap",
      "grid_area": null,
      "grid_auto_columns": null,
      "grid_auto_flow": null,
      "grid_auto_rows": null,
      "grid_column": null,
      "grid_gap": null,
      "grid_row": null,
      "grid_template_areas": null,
      "grid_template_columns": null,
      "grid_template_rows": null,
      "height": null,
      "justify_content": null,
      "justify_items": null,
      "left": null,
      "margin": null,
      "max_height": null,
      "max_width": null,
      "min_height": null,
      "min_width": null,
      "object_fit": null,
      "object_position": null,
      "order": null,
      "overflow": null,
      "overflow_x": null,
      "overflow_y": null,
      "padding": null,
      "right": null,
      "top": null,
      "visibility": null,
      "width": "100%"
     }
    },
    "0884a544f73345f192eb303bdaa9117b": {
     "model_module": "@jupyter-widgets/controls",
     "model_module_version": "1.5.0",
     "model_name": "DescriptionStyleModel",
     "state": {
      "_model_module": "@jupyter-widgets/controls",
      "_model_module_version": "1.5.0",
      "_model_name": "DescriptionStyleModel",
      "_view_count": null,
      "_view_module": "@jupyter-widgets/base",
      "_view_module_version": "1.2.0",
      "_view_name": "StyleView",
      "description_width": ""
     }
    },
    "13e88cfbe2474eb08b345b4baaf890dc": {
     "model_module": "@jupyter-widgets/base",
     "model_module_version": "1.2.0",
     "model_name": "LayoutModel",
     "state": {
      "_model_module": "@jupyter-widgets/base",
      "_model_module_version": "1.2.0",
      "_model_name": "LayoutModel",
      "_view_count": null,
      "_view_module": "@jupyter-widgets/base",
      "_view_module_version": "1.2.0",
      "_view_name": "LayoutView",
      "align_content": null,
      "align_items": null,
      "align_self": null,
      "border": null,
      "bottom": null,
      "display": null,
      "flex": "2",
      "flex_flow": null,
      "grid_area": null,
      "grid_auto_columns": null,
      "grid_auto_flow": null,
      "grid_auto_rows": null,
      "grid_column": null,
      "grid_gap": null,
      "grid_row": null,
      "grid_template_areas": null,
      "grid_template_columns": null,
      "grid_template_rows": null,
      "height": null,
      "justify_content": null,
      "justify_items": null,
      "left": null,
      "margin": null,
      "max_height": null,
      "max_width": null,
      "min_height": null,
      "min_width": null,
      "object_fit": null,
      "object_position": null,
      "order": null,
      "overflow": null,
      "overflow_x": null,
      "overflow_y": null,
      "padding": null,
      "right": null,
      "top": null,
      "visibility": null,
      "width": null
     }
    },
    "216f62c38a9e458c973379c646ce487c": {
     "model_module": "@jupyter-widgets/controls",
     "model_module_version": "1.5.0",
     "model_name": "FloatProgressModel",
     "state": {
      "_dom_classes": [],
      "_model_module": "@jupyter-widgets/controls",
      "_model_module_version": "1.5.0",
      "_model_name": "FloatProgressModel",
      "_view_count": null,
      "_view_module": "@jupyter-widgets/controls",
      "_view_module_version": "1.5.0",
      "_view_name": "ProgressView",
      "bar_style": "success",
      "description": "",
      "description_tooltip": null,
      "layout": "IPY_MODEL_0482ebb9d7884afc8f5358e1c90dac82",
      "max": 1,
      "min": 0,
      "orientation": "horizontal",
      "style": "IPY_MODEL_2939402efb884cc08eab07e6fac60d04",
      "value": 1
     }
    },
    "23d9b16a89a14d2092f2f7273a7026a7": {
     "model_module": "@jupyter-widgets/base",
     "model_module_version": "1.2.0",
     "model_name": "LayoutModel",
     "state": {
      "_model_module": "@jupyter-widgets/base",
      "_model_module_version": "1.2.0",
      "_model_name": "LayoutModel",
      "_view_count": null,
      "_view_module": "@jupyter-widgets/base",
      "_view_module_version": "1.2.0",
      "_view_name": "LayoutView",
      "align_content": null,
      "align_items": null,
      "align_self": null,
      "border": null,
      "bottom": null,
      "display": null,
      "flex": null,
      "flex_flow": null,
      "grid_area": null,
      "grid_auto_columns": null,
      "grid_auto_flow": null,
      "grid_auto_rows": null,
      "grid_column": null,
      "grid_gap": null,
      "grid_row": null,
      "grid_template_areas": null,
      "grid_template_columns": null,
      "grid_template_rows": null,
      "height": null,
      "justify_content": null,
      "justify_items": null,
      "left": null,
      "margin": null,
      "max_height": null,
      "max_width": null,
      "min_height": null,
      "min_width": null,
      "object_fit": null,
      "object_position": null,
      "order": null,
      "overflow": null,
      "overflow_x": null,
      "overflow_y": null,
      "padding": null,
      "right": null,
      "top": null,
      "visibility": null,
      "width": null
     }
    },
    "28440f73d33247cabba2381b0ca69308": {
     "model_module": "@jupyter-widgets/controls",
     "model_module_version": "1.5.0",
     "model_name": "HBoxModel",
     "state": {
      "_dom_classes": [],
      "_model_module": "@jupyter-widgets/controls",
      "_model_module_version": "1.5.0",
      "_model_name": "HBoxModel",
      "_view_count": null,
      "_view_module": "@jupyter-widgets/controls",
      "_view_module_version": "1.5.0",
      "_view_name": "HBoxView",
      "box_style": "",
      "children": [
       "IPY_MODEL_47cd30bc882b4f128090e665d50ec890",
       "IPY_MODEL_216f62c38a9e458c973379c646ce487c",
       "IPY_MODEL_45e2c96da4f34ce1b9247d8c3d36e066"
      ],
      "layout": "IPY_MODEL_084983aae2f24fab941b9008c4ecf9bc"
     }
    },
    "2939402efb884cc08eab07e6fac60d04": {
     "model_module": "@jupyter-widgets/controls",
     "model_module_version": "1.5.0",
     "model_name": "ProgressStyleModel",
     "state": {
      "_model_module": "@jupyter-widgets/controls",
      "_model_module_version": "1.5.0",
      "_model_name": "ProgressStyleModel",
      "_view_count": null,
      "_view_module": "@jupyter-widgets/base",
      "_view_module_version": "1.2.0",
      "_view_name": "StyleView",
      "bar_color": null,
      "description_width": ""
     }
    },
    "3944c6df0f194b6fb0b0bba25096bee2": {
     "model_module": "@jupyter-widgets/controls",
     "model_module_version": "1.5.0",
     "model_name": "HTMLModel",
     "state": {
      "_dom_classes": [],
      "_model_module": "@jupyter-widgets/controls",
      "_model_module_version": "1.5.0",
      "_model_name": "HTMLModel",
      "_view_count": null,
      "_view_module": "@jupyter-widgets/controls",
      "_view_module_version": "1.5.0",
      "_view_name": "HTMLView",
      "description": "",
      "description_tooltip": null,
      "layout": "IPY_MODEL_a8a50183fe8548e6b32e102e52656ec3",
      "placeholder": "​",
      "style": "IPY_MODEL_bb15cfdb3def4de384222261586d949b",
      "value": " [100%]   00:01 -&gt; (00:00 left)"
     }
    },
    "45e2c96da4f34ce1b9247d8c3d36e066": {
     "model_module": "@jupyter-widgets/controls",
     "model_module_version": "1.5.0",
     "model_name": "HTMLModel",
     "state": {
      "_dom_classes": [],
      "_model_module": "@jupyter-widgets/controls",
      "_model_module_version": "1.5.0",
      "_model_name": "HTMLModel",
      "_view_count": null,
      "_view_module": "@jupyter-widgets/controls",
      "_view_module_version": "1.5.0",
      "_view_name": "HTMLView",
      "description": "",
      "description_tooltip": null,
      "layout": "IPY_MODEL_7b08de717abd422b821116a93b0b87fb",
      "placeholder": "​",
      "style": "IPY_MODEL_0884a544f73345f192eb303bdaa9117b",
      "value": " [100%]   00:01 -&gt; (00:00 left)"
     }
    },
    "47cd30bc882b4f128090e665d50ec890": {
     "model_module": "@jupyter-widgets/controls",
     "model_module_version": "1.5.0",
     "model_name": "HTMLModel",
     "state": {
      "_dom_classes": [],
      "_model_module": "@jupyter-widgets/controls",
      "_model_module_version": "1.5.0",
      "_model_name": "HTMLModel",
      "_view_count": null,
      "_view_module": "@jupyter-widgets/controls",
      "_view_module_version": "1.5.0",
      "_view_name": "HTMLView",
      "description": "",
      "description_tooltip": null,
      "layout": "IPY_MODEL_23d9b16a89a14d2092f2f7273a7026a7",
      "placeholder": "​",
      "style": "IPY_MODEL_5d8bacb4766d407d90ff138b2a56f41f",
      "value": "Done! Use &#x27;show&#x27; commands to display/save.   "
     }
    },
    "55ba4f71b5af4fc89f1d8f90fde130de": {
     "model_module": "@jupyter-widgets/controls",
     "model_module_version": "1.5.0",
     "model_name": "FloatProgressModel",
     "state": {
      "_dom_classes": [],
      "_model_module": "@jupyter-widgets/controls",
      "_model_module_version": "1.5.0",
      "_model_name": "FloatProgressModel",
      "_view_count": null,
      "_view_module": "@jupyter-widgets/controls",
      "_view_module_version": "1.5.0",
      "_view_name": "ProgressView",
      "bar_style": "success",
      "description": "",
      "description_tooltip": null,
      "layout": "IPY_MODEL_13e88cfbe2474eb08b345b4baaf890dc",
      "max": 1,
      "min": 0,
      "orientation": "horizontal",
      "style": "IPY_MODEL_c75f76f20c4046dd98be2a78e41c4fec",
      "value": 1
     }
    },
    "57bb6b8e48e24f2f813e47384e0bf33d": {
     "model_module": "@jupyter-widgets/controls",
     "model_module_version": "1.5.0",
     "model_name": "HTMLModel",
     "state": {
      "_dom_classes": [],
      "_model_module": "@jupyter-widgets/controls",
      "_model_module_version": "1.5.0",
      "_model_name": "HTMLModel",
      "_view_count": null,
      "_view_module": "@jupyter-widgets/controls",
      "_view_module_version": "1.5.0",
      "_view_name": "HTMLView",
      "description": "",
      "description_tooltip": null,
      "layout": "IPY_MODEL_894d50ac57e94aed81232cac43941e68",
      "placeholder": "​",
      "style": "IPY_MODEL_ea81eec6c9cc4cc0b6820a1fa8a576b1",
      "value": "Done! Use &#x27;show&#x27; commands to display/save.   "
     }
    },
    "5d8bacb4766d407d90ff138b2a56f41f": {
     "model_module": "@jupyter-widgets/controls",
     "model_module_version": "1.5.0",
     "model_name": "DescriptionStyleModel",
     "state": {
      "_model_module": "@jupyter-widgets/controls",
      "_model_module_version": "1.5.0",
      "_model_name": "DescriptionStyleModel",
      "_view_count": null,
      "_view_module": "@jupyter-widgets/base",
      "_view_module_version": "1.2.0",
      "_view_name": "StyleView",
      "description_width": ""
     }
    },
    "7b08de717abd422b821116a93b0b87fb": {
     "model_module": "@jupyter-widgets/base",
     "model_module_version": "1.2.0",
     "model_name": "LayoutModel",
     "state": {
      "_model_module": "@jupyter-widgets/base",
      "_model_module_version": "1.2.0",
      "_model_name": "LayoutModel",
      "_view_count": null,
      "_view_module": "@jupyter-widgets/base",
      "_view_module_version": "1.2.0",
      "_view_name": "LayoutView",
      "align_content": null,
      "align_items": null,
      "align_self": null,
      "border": null,
      "bottom": null,
      "display": null,
      "flex": null,
      "flex_flow": null,
      "grid_area": null,
      "grid_auto_columns": null,
      "grid_auto_flow": null,
      "grid_auto_rows": null,
      "grid_column": null,
      "grid_gap": null,
      "grid_row": null,
      "grid_template_areas": null,
      "grid_template_columns": null,
      "grid_template_rows": null,
      "height": null,
      "justify_content": null,
      "justify_items": null,
      "left": null,
      "margin": null,
      "max_height": null,
      "max_width": null,
      "min_height": null,
      "min_width": null,
      "object_fit": null,
      "object_position": null,
      "order": null,
      "overflow": null,
      "overflow_x": null,
      "overflow_y": null,
      "padding": null,
      "right": null,
      "top": null,
      "visibility": null,
      "width": null
     }
    },
    "894d50ac57e94aed81232cac43941e68": {
     "model_module": "@jupyter-widgets/base",
     "model_module_version": "1.2.0",
     "model_name": "LayoutModel",
     "state": {
      "_model_module": "@jupyter-widgets/base",
      "_model_module_version": "1.2.0",
      "_model_name": "LayoutModel",
      "_view_count": null,
      "_view_module": "@jupyter-widgets/base",
      "_view_module_version": "1.2.0",
      "_view_name": "LayoutView",
      "align_content": null,
      "align_items": null,
      "align_self": null,
      "border": null,
      "bottom": null,
      "display": null,
      "flex": null,
      "flex_flow": null,
      "grid_area": null,
      "grid_auto_columns": null,
      "grid_auto_flow": null,
      "grid_auto_rows": null,
      "grid_column": null,
      "grid_gap": null,
      "grid_row": null,
      "grid_template_areas": null,
      "grid_template_columns": null,
      "grid_template_rows": null,
      "height": null,
      "justify_content": null,
      "justify_items": null,
      "left": null,
      "margin": null,
      "max_height": null,
      "max_width": null,
      "min_height": null,
      "min_width": null,
      "object_fit": null,
      "object_position": null,
      "order": null,
      "overflow": null,
      "overflow_x": null,
      "overflow_y": null,
      "padding": null,
      "right": null,
      "top": null,
      "visibility": null,
      "width": null
     }
    },
    "9197a612f595429fbdd008966b9c746c": {
     "model_module": "@jupyter-widgets/controls",
     "model_module_version": "1.5.0",
     "model_name": "HBoxModel",
     "state": {
      "_dom_classes": [],
      "_model_module": "@jupyter-widgets/controls",
      "_model_module_version": "1.5.0",
      "_model_name": "HBoxModel",
      "_view_count": null,
      "_view_module": "@jupyter-widgets/controls",
      "_view_module_version": "1.5.0",
      "_view_name": "HBoxView",
      "box_style": "",
      "children": [
       "IPY_MODEL_57bb6b8e48e24f2f813e47384e0bf33d",
       "IPY_MODEL_55ba4f71b5af4fc89f1d8f90fde130de",
       "IPY_MODEL_3944c6df0f194b6fb0b0bba25096bee2"
      ],
      "layout": "IPY_MODEL_fa96781d9ea34bf58115f23bfb80f5ff"
     }
    },
    "a8a50183fe8548e6b32e102e52656ec3": {
     "model_module": "@jupyter-widgets/base",
     "model_module_version": "1.2.0",
     "model_name": "LayoutModel",
     "state": {
      "_model_module": "@jupyter-widgets/base",
      "_model_module_version": "1.2.0",
      "_model_name": "LayoutModel",
      "_view_count": null,
      "_view_module": "@jupyter-widgets/base",
      "_view_module_version": "1.2.0",
      "_view_name": "LayoutView",
      "align_content": null,
      "align_items": null,
      "align_self": null,
      "border": null,
      "bottom": null,
      "display": null,
      "flex": null,
      "flex_flow": null,
      "grid_area": null,
      "grid_auto_columns": null,
      "grid_auto_flow": null,
      "grid_auto_rows": null,
      "grid_column": null,
      "grid_gap": null,
      "grid_row": null,
      "grid_template_areas": null,
      "grid_template_columns": null,
      "grid_template_rows": null,
      "height": null,
      "justify_content": null,
      "justify_items": null,
      "left": null,
      "margin": null,
      "max_height": null,
      "max_width": null,
      "min_height": null,
      "min_width": null,
      "object_fit": null,
      "object_position": null,
      "order": null,
      "overflow": null,
      "overflow_x": null,
      "overflow_y": null,
      "padding": null,
      "right": null,
      "top": null,
      "visibility": null,
      "width": null
     }
    },
    "bb15cfdb3def4de384222261586d949b": {
     "model_module": "@jupyter-widgets/controls",
     "model_module_version": "1.5.0",
     "model_name": "DescriptionStyleModel",
     "state": {
      "_model_module": "@jupyter-widgets/controls",
      "_model_module_version": "1.5.0",
      "_model_name": "DescriptionStyleModel",
      "_view_count": null,
      "_view_module": "@jupyter-widgets/base",
      "_view_module_version": "1.2.0",
      "_view_name": "StyleView",
      "description_width": ""
     }
    },
    "c75f76f20c4046dd98be2a78e41c4fec": {
     "model_module": "@jupyter-widgets/controls",
     "model_module_version": "1.5.0",
     "model_name": "ProgressStyleModel",
     "state": {
      "_model_module": "@jupyter-widgets/controls",
      "_model_module_version": "1.5.0",
      "_model_name": "ProgressStyleModel",
      "_view_count": null,
      "_view_module": "@jupyter-widgets/base",
      "_view_module_version": "1.2.0",
      "_view_name": "StyleView",
      "bar_color": null,
      "description_width": ""
     }
    },
    "ea81eec6c9cc4cc0b6820a1fa8a576b1": {
     "model_module": "@jupyter-widgets/controls",
     "model_module_version": "1.5.0",
     "model_name": "DescriptionStyleModel",
     "state": {
      "_model_module": "@jupyter-widgets/controls",
      "_model_module_version": "1.5.0",
      "_model_name": "DescriptionStyleModel",
      "_view_count": null,
      "_view_module": "@jupyter-widgets/base",
      "_view_module_version": "1.2.0",
      "_view_name": "StyleView",
      "description_width": ""
     }
    },
    "fa96781d9ea34bf58115f23bfb80f5ff": {
     "model_module": "@jupyter-widgets/base",
     "model_module_version": "1.2.0",
     "model_name": "LayoutModel",
     "state": {
      "_model_module": "@jupyter-widgets/base",
      "_model_module_version": "1.2.0",
      "_model_name": "LayoutModel",
      "_view_count": null,
      "_view_module": "@jupyter-widgets/base",
      "_view_module_version": "1.2.0",
      "_view_name": "LayoutView",
      "align_content": null,
      "align_items": null,
      "align_self": null,
      "border": null,
      "bottom": null,
      "display": "inline-flex",
      "flex": null,
      "flex_flow": "row wrap",
      "grid_area": null,
      "grid_auto_columns": null,
      "grid_auto_flow": null,
      "grid_auto_rows": null,
      "grid_column": null,
      "grid_gap": null,
      "grid_row": null,
      "grid_template_areas": null,
      "grid_template_columns": null,
      "grid_template_rows": null,
      "height": null,
      "justify_content": null,
      "justify_items": null,
      "left": null,
      "margin": null,
      "max_height": null,
      "max_width": null,
      "min_height": null,
      "min_width": null,
      "object_fit": null,
      "object_position": null,
      "order": null,
      "overflow": null,
      "overflow_x": null,
      "overflow_y": null,
      "padding": null,
      "right": null,
      "top": null,
      "visibility": null,
      "width": "100%"
     }
    }
   }
  }
 },
 "nbformat": 4,
 "nbformat_minor": 1
}
