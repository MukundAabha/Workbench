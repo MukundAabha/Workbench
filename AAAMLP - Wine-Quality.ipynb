{
 "cells": [
  {
   "cell_type": "code",
   "execution_count": 1,
   "id": "7f67e778",
   "metadata": {},
   "outputs": [],
   "source": [
    "import pandas as pd\n",
    "import numpy as np\n",
    "\n",
    "from sklearn import datasets\n",
    "from sklearn import tree, metrics\n",
    "from sklearn import model_selection\n",
    "\n",
    "import matplotlib\n",
    "import matplotlib.pyplot as plt\n",
    "import seaborn as sns\n",
    "\n",
    "#This line ensures that the plot is displayed inside the notebook\n",
    "%matplotlib inline\n",
    "\n",
    "# this is our global size of label text on the plots\n",
    "matplotlib.rc('xtick', labelsize=20) \n",
    "matplotlib.rc('ytick', labelsize=20) "
   ]
  },
  {
   "cell_type": "code",
   "execution_count": 2,
   "id": "a64c22ea",
   "metadata": {},
   "outputs": [],
   "source": [
    "dataset_url = 'https://archive.ics.uci.edu/ml/machine-learning-databases/wine-quality/winequality-red.csv'\n",
    "df = pd.read_csv(dataset_url, sep=';')"
   ]
  },
  {
   "cell_type": "code",
   "execution_count": 3,
   "id": "443a0eac",
   "metadata": {},
   "outputs": [
    {
     "name": "stdout",
     "output_type": "stream",
     "text": [
      "   fixed acidity  volatile acidity  citric acid  residual sugar  chlorides  \\\n",
      "0            7.4              0.70         0.00             1.9      0.076   \n",
      "1            7.8              0.88         0.00             2.6      0.098   \n",
      "2            7.8              0.76         0.04             2.3      0.092   \n",
      "3           11.2              0.28         0.56             1.9      0.075   \n",
      "4            7.4              0.70         0.00             1.9      0.076   \n",
      "\n",
      "   free sulfur dioxide  total sulfur dioxide  density    pH  sulphates  \\\n",
      "0                 11.0                  34.0   0.9978  3.51       0.56   \n",
      "1                 25.0                  67.0   0.9968  3.20       0.68   \n",
      "2                 15.0                  54.0   0.9970  3.26       0.65   \n",
      "3                 17.0                  60.0   0.9980  3.16       0.58   \n",
      "4                 11.0                  34.0   0.9978  3.51       0.56   \n",
      "\n",
      "   alcohol  quality  \n",
      "0      9.4        5  \n",
      "1      9.8        5  \n",
      "2      9.8        5  \n",
      "3      9.8        6  \n",
      "4      9.4        5  \n"
     ]
    }
   ],
   "source": [
    "print(df.head())"
   ]
  },
  {
   "cell_type": "markdown",
   "id": "76fbfc57",
   "metadata": {},
   "source": [
    "We have 1,599 samples and 12 features, including our target feature"
   ]
  },
  {
   "cell_type": "code",
   "execution_count": 4,
   "id": "e6f4b3e0",
   "metadata": {},
   "outputs": [
    {
     "data": {
      "text/plain": [
       "(1599, 12)"
      ]
     },
     "execution_count": 4,
     "metadata": {},
     "output_type": "execute_result"
    }
   ],
   "source": [
    "df.shape"
   ]
  },
  {
   "cell_type": "code",
   "execution_count": 5,
   "id": "c0466550",
   "metadata": {},
   "outputs": [
    {
     "data": {
      "text/html": [
       "<div>\n",
       "<style scoped>\n",
       "    .dataframe tbody tr th:only-of-type {\n",
       "        vertical-align: middle;\n",
       "    }\n",
       "\n",
       "    .dataframe tbody tr th {\n",
       "        vertical-align: top;\n",
       "    }\n",
       "\n",
       "    .dataframe thead th {\n",
       "        text-align: right;\n",
       "    }\n",
       "</style>\n",
       "<table border=\"1\" class=\"dataframe\">\n",
       "  <thead>\n",
       "    <tr style=\"text-align: right;\">\n",
       "      <th></th>\n",
       "      <th>fixed acidity</th>\n",
       "      <th>volatile acidity</th>\n",
       "      <th>citric acid</th>\n",
       "      <th>residual sugar</th>\n",
       "      <th>chlorides</th>\n",
       "      <th>free sulfur dioxide</th>\n",
       "      <th>total sulfur dioxide</th>\n",
       "      <th>density</th>\n",
       "      <th>pH</th>\n",
       "      <th>sulphates</th>\n",
       "      <th>alcohol</th>\n",
       "      <th>quality</th>\n",
       "    </tr>\n",
       "  </thead>\n",
       "  <tbody>\n",
       "    <tr>\n",
       "      <th>count</th>\n",
       "      <td>1599.000000</td>\n",
       "      <td>1599.000000</td>\n",
       "      <td>1599.000000</td>\n",
       "      <td>1599.000000</td>\n",
       "      <td>1599.000000</td>\n",
       "      <td>1599.000000</td>\n",
       "      <td>1599.000000</td>\n",
       "      <td>1599.000000</td>\n",
       "      <td>1599.000000</td>\n",
       "      <td>1599.000000</td>\n",
       "      <td>1599.000000</td>\n",
       "      <td>1599.000000</td>\n",
       "    </tr>\n",
       "    <tr>\n",
       "      <th>mean</th>\n",
       "      <td>8.319637</td>\n",
       "      <td>0.527821</td>\n",
       "      <td>0.270976</td>\n",
       "      <td>2.538806</td>\n",
       "      <td>0.087467</td>\n",
       "      <td>15.874922</td>\n",
       "      <td>46.467792</td>\n",
       "      <td>0.996747</td>\n",
       "      <td>3.311113</td>\n",
       "      <td>0.658149</td>\n",
       "      <td>10.422983</td>\n",
       "      <td>5.636023</td>\n",
       "    </tr>\n",
       "    <tr>\n",
       "      <th>std</th>\n",
       "      <td>1.741096</td>\n",
       "      <td>0.179060</td>\n",
       "      <td>0.194801</td>\n",
       "      <td>1.409928</td>\n",
       "      <td>0.047065</td>\n",
       "      <td>10.460157</td>\n",
       "      <td>32.895324</td>\n",
       "      <td>0.001887</td>\n",
       "      <td>0.154386</td>\n",
       "      <td>0.169507</td>\n",
       "      <td>1.065668</td>\n",
       "      <td>0.807569</td>\n",
       "    </tr>\n",
       "    <tr>\n",
       "      <th>min</th>\n",
       "      <td>4.600000</td>\n",
       "      <td>0.120000</td>\n",
       "      <td>0.000000</td>\n",
       "      <td>0.900000</td>\n",
       "      <td>0.012000</td>\n",
       "      <td>1.000000</td>\n",
       "      <td>6.000000</td>\n",
       "      <td>0.990070</td>\n",
       "      <td>2.740000</td>\n",
       "      <td>0.330000</td>\n",
       "      <td>8.400000</td>\n",
       "      <td>3.000000</td>\n",
       "    </tr>\n",
       "    <tr>\n",
       "      <th>25%</th>\n",
       "      <td>7.100000</td>\n",
       "      <td>0.390000</td>\n",
       "      <td>0.090000</td>\n",
       "      <td>1.900000</td>\n",
       "      <td>0.070000</td>\n",
       "      <td>7.000000</td>\n",
       "      <td>22.000000</td>\n",
       "      <td>0.995600</td>\n",
       "      <td>3.210000</td>\n",
       "      <td>0.550000</td>\n",
       "      <td>9.500000</td>\n",
       "      <td>5.000000</td>\n",
       "    </tr>\n",
       "    <tr>\n",
       "      <th>50%</th>\n",
       "      <td>7.900000</td>\n",
       "      <td>0.520000</td>\n",
       "      <td>0.260000</td>\n",
       "      <td>2.200000</td>\n",
       "      <td>0.079000</td>\n",
       "      <td>14.000000</td>\n",
       "      <td>38.000000</td>\n",
       "      <td>0.996750</td>\n",
       "      <td>3.310000</td>\n",
       "      <td>0.620000</td>\n",
       "      <td>10.200000</td>\n",
       "      <td>6.000000</td>\n",
       "    </tr>\n",
       "    <tr>\n",
       "      <th>75%</th>\n",
       "      <td>9.200000</td>\n",
       "      <td>0.640000</td>\n",
       "      <td>0.420000</td>\n",
       "      <td>2.600000</td>\n",
       "      <td>0.090000</td>\n",
       "      <td>21.000000</td>\n",
       "      <td>62.000000</td>\n",
       "      <td>0.997835</td>\n",
       "      <td>3.400000</td>\n",
       "      <td>0.730000</td>\n",
       "      <td>11.100000</td>\n",
       "      <td>6.000000</td>\n",
       "    </tr>\n",
       "    <tr>\n",
       "      <th>max</th>\n",
       "      <td>15.900000</td>\n",
       "      <td>1.580000</td>\n",
       "      <td>1.000000</td>\n",
       "      <td>15.500000</td>\n",
       "      <td>0.611000</td>\n",
       "      <td>72.000000</td>\n",
       "      <td>289.000000</td>\n",
       "      <td>1.003690</td>\n",
       "      <td>4.010000</td>\n",
       "      <td>2.000000</td>\n",
       "      <td>14.900000</td>\n",
       "      <td>8.000000</td>\n",
       "    </tr>\n",
       "  </tbody>\n",
       "</table>\n",
       "</div>"
      ],
      "text/plain": [
       "       fixed acidity  volatile acidity  citric acid  residual sugar  \\\n",
       "count    1599.000000       1599.000000  1599.000000     1599.000000   \n",
       "mean        8.319637          0.527821     0.270976        2.538806   \n",
       "std         1.741096          0.179060     0.194801        1.409928   \n",
       "min         4.600000          0.120000     0.000000        0.900000   \n",
       "25%         7.100000          0.390000     0.090000        1.900000   \n",
       "50%         7.900000          0.520000     0.260000        2.200000   \n",
       "75%         9.200000          0.640000     0.420000        2.600000   \n",
       "max        15.900000          1.580000     1.000000       15.500000   \n",
       "\n",
       "         chlorides  free sulfur dioxide  total sulfur dioxide      density  \\\n",
       "count  1599.000000          1599.000000           1599.000000  1599.000000   \n",
       "mean      0.087467            15.874922             46.467792     0.996747   \n",
       "std       0.047065            10.460157             32.895324     0.001887   \n",
       "min       0.012000             1.000000              6.000000     0.990070   \n",
       "25%       0.070000             7.000000             22.000000     0.995600   \n",
       "50%       0.079000            14.000000             38.000000     0.996750   \n",
       "75%       0.090000            21.000000             62.000000     0.997835   \n",
       "max       0.611000            72.000000            289.000000     1.003690   \n",
       "\n",
       "                pH    sulphates      alcohol      quality  \n",
       "count  1599.000000  1599.000000  1599.000000  1599.000000  \n",
       "mean      3.311113     0.658149    10.422983     5.636023  \n",
       "std       0.154386     0.169507     1.065668     0.807569  \n",
       "min       2.740000     0.330000     8.400000     3.000000  \n",
       "25%       3.210000     0.550000     9.500000     5.000000  \n",
       "50%       3.310000     0.620000    10.200000     6.000000  \n",
       "75%       3.400000     0.730000    11.100000     6.000000  \n",
       "max       4.010000     2.000000    14.900000     8.000000  "
      ]
     },
     "execution_count": 5,
     "metadata": {},
     "output_type": "execute_result"
    }
   ],
   "source": [
    "df.describe()"
   ]
  },
  {
   "cell_type": "markdown",
   "id": "64555b01",
   "metadata": {},
   "source": [
    "Here’s the list of all the features:\n",
    "\n",
    "- quality (target)\n",
    "- fixed acidity\n",
    "- volatile acidity\n",
    "- citric acid\n",
    "- residual sugar\n",
    "- chlorides\n",
    "- free sulfur dioxide\n",
    "- total sulfur dioxide\n",
    "- density\n",
    "- pH\n",
    "- sulphates\n",
    "- alcohol"
   ]
  },
  {
   "cell_type": "code",
   "execution_count": 6,
   "id": "9a28a04a",
   "metadata": {},
   "outputs": [],
   "source": [
    "# a mapping dictionary that maps the quality values from 0 to 5\n",
    "quality_mapping = {\n",
    " 3: 0,\n",
    " 4: 1,\n",
    " 5: 2,\n",
    " 6: 3,\n",
    " 7: 4,\n",
    " 8: 5\n",
    "}"
   ]
  },
  {
   "cell_type": "code",
   "execution_count": 7,
   "id": "feb0536a",
   "metadata": {},
   "outputs": [],
   "source": [
    "# you can use the map function of pandas with\n",
    "# any dictionary to convert the values in a given\n",
    "# column to values in the dictionary\n",
    "\n",
    "df.loc[:, \"quality\"] = df.quality.map(quality_mapping)"
   ]
  },
  {
   "cell_type": "markdown",
   "id": "0f66755e",
   "metadata": {},
   "source": [
    "This dataset has 1599 samples. We keep 1000 samples for training and 599 \n",
    "as a separate set."
   ]
  },
  {
   "cell_type": "code",
   "execution_count": 8,
   "id": "b80936b4",
   "metadata": {},
   "outputs": [],
   "source": [
    "#use sample with frac=1 to shuffle the dataframe we reset the indices since they change after shuffling the dataframe\n",
    "df = df.sample(frac=1).reset_index(drop=True)\n",
    "\n",
    "# top 1000 rows are selected for training\n",
    "df_train = df.head(1000)\n",
    "\n",
    "# bottom 599 values are selected for testing/validation\n",
    "df_test = df.tail(599)"
   ]
  },
  {
   "cell_type": "code",
   "execution_count": 9,
   "id": "86244b6e",
   "metadata": {},
   "outputs": [],
   "source": [
    "# initialize decision tree classifier class with a max_depth of 3\n",
    "clf = tree.DecisionTreeClassifier(max_depth=3)"
   ]
  },
  {
   "cell_type": "code",
   "execution_count": 10,
   "id": "03a6afff",
   "metadata": {},
   "outputs": [],
   "source": [
    "# choose the columns you want to train on these are the features for the model\n",
    "cols = ['fixed acidity', 'volatile acidity', 'citric acid','residual sugar','chlorides','free sulfur dioxide',\n",
    "        'total sulfur dioxide','density','pH','sulphates','alcohol']"
   ]
  },
  {
   "cell_type": "code",
   "execution_count": 11,
   "id": "a7753865",
   "metadata": {},
   "outputs": [
    {
     "data": {
      "text/plain": [
       "DecisionTreeClassifier(max_depth=3)"
      ]
     },
     "execution_count": 11,
     "metadata": {},
     "output_type": "execute_result"
    }
   ],
   "source": [
    "# train the model on the provided features and mapped quality from before\n",
    "clf.fit(df_train[cols], df_train.quality)"
   ]
  },
  {
   "cell_type": "markdown",
   "id": "c9937437",
   "metadata": {},
   "source": [
    "we used a max_depth of 3 for the decision tree classifier. and left all other parameters of this model to its default value.\n",
    "\n",
    "Now, we test the accuracy of this model on the training set and the test set"
   ]
  },
  {
   "cell_type": "code",
   "execution_count": 12,
   "id": "19dc1320",
   "metadata": {},
   "outputs": [],
   "source": [
    "# generate predictions on the training set\n",
    "train_predictions = clf.predict(df_train[cols])"
   ]
  },
  {
   "cell_type": "code",
   "execution_count": 13,
   "id": "d8dae19e",
   "metadata": {},
   "outputs": [],
   "source": [
    "# generate predictions on the test set\n",
    "test_predictions = clf.predict(df_test[cols])"
   ]
  },
  {
   "cell_type": "code",
   "execution_count": 14,
   "id": "a51bf261",
   "metadata": {},
   "outputs": [],
   "source": [
    "#calculate the accuracy of predictions on training data set\n",
    "train_accuracy = metrics.accuracy_score(df_train.quality, train_predictions)"
   ]
  },
  {
   "cell_type": "code",
   "execution_count": 15,
   "id": "7726bbe4",
   "metadata": {},
   "outputs": [],
   "source": [
    "#calculate the accuracy of predictions on test data set\n",
    "test_accuracy = metrics.accuracy_score(df_test.quality, test_predictions)"
   ]
  },
  {
   "cell_type": "code",
   "execution_count": 16,
   "id": "dc8b8331",
   "metadata": {},
   "outputs": [
    {
     "data": {
      "text/plain": [
       "(0.581, 0.5726210350584308)"
      ]
     },
     "execution_count": 16,
     "metadata": {},
     "output_type": "execute_result"
    }
   ],
   "source": [
    "train_accuracy,test_accuracy"
   ]
  },
  {
   "cell_type": "markdown",
   "id": "ce361571",
   "metadata": {},
   "source": [
    "The training and test accuracies are found to be 58.1% and 56.25%. "
   ]
  },
  {
   "cell_type": "code",
   "execution_count": 17,
   "id": "9e9fe207",
   "metadata": {},
   "outputs": [],
   "source": [
    "clf2 = tree.DecisionTreeClassifier(max_depth=7)"
   ]
  },
  {
   "cell_type": "code",
   "execution_count": 18,
   "id": "a36de895",
   "metadata": {},
   "outputs": [
    {
     "data": {
      "text/plain": [
       "DecisionTreeClassifier(max_depth=7)"
      ]
     },
     "execution_count": 18,
     "metadata": {},
     "output_type": "execute_result"
    }
   ],
   "source": [
    "clf2.fit(df_train[cols], df_train.quality)"
   ]
  },
  {
   "cell_type": "code",
   "execution_count": 19,
   "id": "a965ce62",
   "metadata": {},
   "outputs": [
    {
     "data": {
      "text/plain": [
       "(0.752, 0.6076794657762938)"
      ]
     },
     "execution_count": 19,
     "metadata": {},
     "output_type": "execute_result"
    }
   ],
   "source": [
    "# generate predictions on the training set\n",
    "train_predictions = clf2.predict(df_train[cols])\n",
    "\n",
    "# generate predictions on the test set\n",
    "test_predictions = clf2.predict(df_test[cols])\n",
    "\n",
    "#calculate the accuracy of predictions on training data set\n",
    "train_accuracy = metrics.accuracy_score(df_train.quality, train_predictions)\n",
    "                               \n",
    "#calculate the accuracy of predictions on test data set\n",
    "test_accuracy = metrics.accuracy_score(df_test.quality, test_predictions)\n",
    "                               \n",
    "train_accuracy,test_accuracy "
   ]
  },
  {
   "cell_type": "markdown",
   "id": "309fdac5",
   "metadata": {},
   "source": [
    "Now we increase the max_depth to 7 and repeat the process. This gives training accuracy of \n",
    "77.7% and test accuracy of 56.3%"
   ]
  },
  {
   "cell_type": "code",
   "execution_count": 20,
   "id": "14b65ddd",
   "metadata": {},
   "outputs": [],
   "source": [
    "# initialize lists to store accuracies for training and test data we start with 50% accuracy\n",
    "train_accuracies = [0.5]\n",
    "test_accuracies = [0.5]\n",
    "\n",
    "# iterate over a few depth values\n",
    "for depth in range(1, 25):\n",
    " # init the model\n",
    " clf = tree.DecisionTreeClassifier(max_depth=depth)\n",
    " # fit the model on given features\n",
    " clf.fit(df_train[cols], df_train.quality)\n",
    "    \n",
    " # create training & test predictions\n",
    " train_predictions = clf.predict(df_train[cols])\n",
    " test_predictions = clf.predict(df_test[cols])\n",
    "\n",
    " # calculate training & test accuracies\n",
    " train_accuracy = metrics.accuracy_score(df_train.quality, train_predictions)\n",
    " test_accuracy = metrics.accuracy_score(df_test.quality, test_predictions)\n",
    " \n",
    " # append accuracies\n",
    " train_accuracies.append(train_accuracy)\n",
    " test_accuracies.append(test_accuracy)"
   ]
  },
  {
   "cell_type": "code",
   "execution_count": 21,
   "id": "fd4d230b",
   "metadata": {},
   "outputs": [
    {
     "data": {
      "image/png": "[encoded data removed]",
      "text/plain": [
       "<Figure size 720x360 with 1 Axes>"
      ]
     },
     "metadata": {
      "needs_background": "light"
     },
     "output_type": "display_data"
    }
   ],
   "source": [
    "# create two plots using matplotlib and seaborn\n",
    "\n",
    "plt.figure(figsize=(10, 5))\n",
    "sns.set_style(\"whitegrid\")\n",
    "plt.plot(train_accuracies, label=\"train accuracy\")\n",
    "plt.plot(test_accuracies, label=\"test accuracy\")\n",
    "plt.legend(loc=\"upper left\", prop={'size': 15})\n",
    "plt.xticks(range(0, 26, 5))\n",
    "plt.xlabel(\"max_depth\", size=20)\n",
    "plt.ylabel(\"accuracy\", size=20)\n",
    "plt.show()"
   ]
  },
  {
   "cell_type": "markdown",
   "id": "030374e6",
   "metadata": {},
   "source": [
    "We see that the best score for test data is obtained when max_depth has a value of \n",
    "14. As we keep increasing the value of this parameter, test accuracy remains the \n",
    "same or gets worse, but the training accuracy keeps increasing. It means that our \n",
    "simple decision tree model keeps learning about the training data better and better \n",
    "with an increase in max_depth, but the performance on test data does not improve \n",
    "at all. "
   ]
  },
  {
   "cell_type": "markdown",
   "id": "a37cf232",
   "metadata": {},
   "source": [
    "**This is called overfitting.**\n",
    "\n",
    "The model fits perfectly on the training set and performs poorly when it comes to \n",
    "the test set. This means that the model will learn the training data well but will not \n",
    "generalize on unseen samples. In the dataset above, one can build a model with very \n",
    "high max_depth which will have outstanding results on training data, but that kind \n",
    "of model is not useful as it will not provide a similar result on the real-world samples \n",
    "or live data."
   ]
  },
  {
   "cell_type": "markdown",
   "id": "10648675",
   "metadata": {},
   "source": [
    "One might argue that this approach isn’t overfitting as the accuracy of the test set \n",
    "more or less remains the same. Another definition of overfitting would be when the \n",
    "test loss increases as we keep improving training loss. This is very common when \n",
    "it comes to neural networks.\n",
    "Whenever we train a neural network, we must monitor loss during the training time \n",
    "for both training and test set. If we have a very large network for a dataset which is \n",
    "quite small (i.e. very less number of samples), we will observe that the loss for both \n",
    "training and test set will decrease as we keep training. However, at some point, test \n",
    "loss will reach its minima, and after that, it will start increasing even though training \n",
    "loss decreases further. We must stop training where the validation loss reaches its \n",
    "minimum value. "
   ]
  },
  {
   "cell_type": "markdown",
   "id": "4d4f6be0",
   "metadata": {},
   "source": [
    "**Cross Validation Techniques**\n",
    "\n",
    "We use this kind of (cross-) validation when we have a large amount of data and model \n",
    "inference is a time-consuming process.\n",
    "\n",
    "There are many different ways one can do cross-validation, and it is the most critical step when it comes to building a good machine learning model which is \n",
    "generalizable when it comes to unseen data. Choosing the right cross-validation\n",
    "depends on the dataset you are dealing with, and one’s choice of cross-validation \n",
    "on one dataset may or may not apply to other datasets. However, there are a few \n",
    "types of cross-validation techniques which are the most popular and widely used. \n",
    "These include:\n",
    "\n",
    "• k-fold cross-validation\n",
    "\n",
    "• stratified k-fold cross-validation\n",
    "\n",
    "• hold-out based validation\n",
    "\n",
    "• leave-one-out cross-validation\n",
    "\n",
    "• group k-fold cross-validation\n",
    "\n",
    "Cross-validation is dividing training data into a few parts. We train the model on \n",
    "some of these parts and test on the remaining parts."
   ]
  },
  {
   "cell_type": "markdown",
   "id": "234eb527",
   "metadata": {},
   "source": [
    "### k-fold cross-validation"
   ]
  },
  {
   "cell_type": "code",
   "execution_count": 23,
   "id": "40820ecf",
   "metadata": {},
   "outputs": [],
   "source": [
    "# we create a new column called kfold and fill it with -1\n",
    "df[\"kfold\"] = -1\n",
    "\n",
    "# the next step is to randomize the rows of the data\n",
    "df = df.sample(frac=1).reset_index(drop=True)\n",
    "\n",
    "# initiate the kfold class from model_selection module\n",
    "kf = model_selection.KFold(n_splits=5)\n",
    "\n",
    "# fill the new kfold column\n",
    "for fold, (trn_, val_) in enumerate(kf.split(X=df)):\n",
    "    df.loc[val_, 'kfold'] = fold\n",
    "    \n",
    "# save the new csv with kfold column \n",
    "df.to_csv(\"train_folds.csv\", index=False)"
   ]
  },
  {
   "cell_type": "markdown",
   "id": "b7c601bf",
   "metadata": {},
   "source": [
    "### Stratified k-fold"
   ]
  },
  {
   "cell_type": "markdown",
   "id": "dbe71b37",
   "metadata": {},
   "source": [
    "If you have a \n",
    "skewed dataset for binary classification with 90% positive samples and only 10% \n",
    "negative samples, you don't want to use random k-fold cross-validation.\n",
    "\n",
    "Using \n",
    "simple k-fold cross-validation for a dataset like this can result in folds with all \n",
    "negative samples. \n",
    "\n",
    "In these cases, we prefer using stratified k-fold cross-validation. \n",
    "Stratified k-fold cross-validation keeps the ratio of labels in each fold constant. So, \n",
    "in each fold, you will have the same 90% positive and 10% negative samples. Thus, \n",
    "whatever metric you choose to evaluate, it will give similar results across all folds.\n"
   ]
  },
  {
   "cell_type": "code",
   "execution_count": 24,
   "id": "86898083",
   "metadata": {},
   "outputs": [],
   "source": [
    "# # import pandas and model_selection module of scikit-learn\n",
    "# import pandas as pd\n",
    "# from sklearn import model_selection\n",
    "# if __name__ == \"__main__\":\n",
    "# # Training data is in a csv file called train.csv\n",
    "# df = pd.read_csv(\"train.csv\")\n",
    "# # we create a new column called kfold and fill it with -1\n",
    "# df[\"kfold\"] = -1\n",
    "# # the next step is to randomize the rows of the data\n",
    "# df = df.sample(frac=1).reset_index(drop=True)\n",
    "# # fetch targets\n",
    "# y = df.target.values\n",
    "# # initiate the kfold class from model_selection module\n",
    "# kf = model_selection.StratifiedKFold(n_splits=5)\n",
    "# # fill the new kfold column\n",
    "# for f, (t_, v_) in enumerate(kf.split(X=df, y=y)):\n",
    "# df.loc[v_, 'kfold'] = f\n",
    "# # save the new csv with kfold column\n",
    "# df.to_csv(\"train_folds.csv\", index=False)"
   ]
  },
  {
   "cell_type": "code",
   "execution_count": 25,
   "id": "e2ae5a84",
   "metadata": {},
   "outputs": [
    {
     "data": {
      "text/plain": [
       "Text(0, 0.5, 'count')"
      ]
     },
     "execution_count": 25,
     "metadata": {},
     "output_type": "execute_result"
    },
    {
     "data": {
      "image/png": "[encoded data removed]",
      "text/plain": [
       "<Figure size 432x288 with 1 Axes>"
      ]
     },
     "metadata": {},
     "output_type": "display_data"
    }
   ],
   "source": [
    "b = sns.countplot(x='quality', data=df)\n",
    "b.set_xlabel(\"quality\", fontsize=20)\n",
    "b.set_ylabel(\"count\", fontsize=20)"
   ]
  },
  {
   "cell_type": "markdown",
   "id": "cec48b5d",
   "metadata": {},
   "source": [
    "Looking at figure we can say that the quality is very much skewed. Some classes \n",
    "have a lot of samples, and some don’t have that many. If we do a simple k-fold, we \n",
    "won’t have an equal distribution of targets in every fold. Thus, we choose stratified \n",
    "k-fold in this case.\n",
    "\n",
    "The rule is simple. If it’s a standard classification problem, choose stratified k-fold \n",
    "blindly."
   ]
  },
  {
   "cell_type": "markdown",
   "id": "a784a786",
   "metadata": {},
   "source": [
    "**Regression.**\n",
    "\n",
    "The good thing about regression problems is that \n",
    "we can use all the cross-validation techniques mentioned above for regression \n",
    "problems except for stratified k-fold. That is we cannot use stratified k-fold directly, \n",
    "but there are ways to change the problem a bit so that we can use stratified k-fold \n",
    "for regression problems. Mostly, simple k-fold cross-validation works for any \n",
    "regression problem. However, if you see that the distribution of targets is not \n",
    "consistent, you can use stratified k-fold.\n",
    "\n",
    "To use stratified k-fold for a regression problem, we have first to divide the target \n",
    "into bins, and then we can use stratified k-fold in the same way as for classification \n",
    "problems. There are several choices for selecting the appropriate number of bins. If \n",
    "you have a lot of samples( > 10k, > 100k), then you don’t need to care about the \n",
    "number of bins. Just divide the data into 10 or 20 bins. If you do not have a lot of \n",
    "samples, you can use a simple rule like Sturge’s Rule to calculate the appropriate \n",
    "number of bins.\n",
    "\n",
    "**Sturge’s rule:Number of Bins = 1 + log2(N)**\n",
    "Where N is the number of samples you have in your dataset. "
   ]
  },
  {
   "cell_type": "code",
   "execution_count": 26,
   "id": "56712701",
   "metadata": {},
   "outputs": [
    {
     "name": "stderr",
     "output_type": "stream",
     "text": [
      "C:\\ProgramData\\Anaconda3\\lib\\site-packages\\sklearn\\model_selection\\_split.py:666: UserWarning: The least populated class in y has only 3 members, which is less than n_splits=5.\n",
      "  warnings.warn((\"The least populated class in y has only %d\"\n"
     ]
    }
   ],
   "source": [
    "# stratified-kfold for regression\n",
    "\n",
    "def create_folds(data):\n",
    " # we create a new column called kfold and fill it with -1\n",
    " data[\"kfold\"] = -1\n",
    " \n",
    " # the next step is to randomize the rows of the data\n",
    " data = data.sample(frac=1).reset_index(drop=True)\n",
    "\n",
    "# calculate the number of bins by Sturge's rule,I take the floor of the value, you can also just round it\n",
    " num_bins = int(np.floor(1 + np.log2(len(data))))\n",
    "    \n",
    " # bin targets\n",
    " data.loc[:, \"bins\"] = pd.cut(data[\"target\"], bins=num_bins, labels=False)\n",
    " \n",
    " # initiate the kfold class from model_selection module\n",
    " kf = model_selection.StratifiedKFold(n_splits=5)\n",
    " \n",
    " # fill the new kfold column note that, instead of targets, we use bins!\n",
    " for f, (t_, v_) in enumerate(kf.split(X=data, y=data.bins.values)):\n",
    "        data.loc[v_, 'kfold'] = f\n",
    " \n",
    " # drop the bins column\n",
    " data = data.drop(\"bins\", axis=1)\n",
    "    \n",
    " # return dataframe with folds\n",
    " return data\n",
    "\n",
    "if __name__ == \"__main__\":\n",
    " # we create a sample dataset with 15000 samples \n",
    " # and 100 features and 1 target\n",
    " X, y = datasets.make_regression(n_samples=15000, n_features=100, n_targets=1)\n",
    "\n",
    " # create a dataframe out of our numpy arrays\n",
    " df = pd.DataFrame(X,columns=[f\"f_{i}\" for i in range(X.shape[1])])\n",
    "\n",
    " df.loc[:, \"target\"] = y\n",
    " # create folds\n",
    " df = create_folds(df)"
   ]
  },
  {
   "cell_type": "code",
   "execution_count": 27,
   "id": "6605dbd8",
   "metadata": {},
   "outputs": [
    {
     "data": {
      "text/html": [
       "<div>\n",
       "<style scoped>\n",
       "    .dataframe tbody tr th:only-of-type {\n",
       "        vertical-align: middle;\n",
       "    }\n",
       "\n",
       "    .dataframe tbody tr th {\n",
       "        vertical-align: top;\n",
       "    }\n",
       "\n",
       "    .dataframe thead th {\n",
       "        text-align: right;\n",
       "    }\n",
       "</style>\n",
       "<table border=\"1\" class=\"dataframe\">\n",
       "  <thead>\n",
       "    <tr style=\"text-align: right;\">\n",
       "      <th></th>\n",
       "      <th>f_0</th>\n",
       "      <th>f_1</th>\n",
       "      <th>f_2</th>\n",
       "      <th>f_3</th>\n",
       "      <th>f_4</th>\n",
       "      <th>f_5</th>\n",
       "      <th>f_6</th>\n",
       "      <th>f_7</th>\n",
       "      <th>f_8</th>\n",
       "      <th>f_9</th>\n",
       "      <th>...</th>\n",
       "      <th>f_92</th>\n",
       "      <th>f_93</th>\n",
       "      <th>f_94</th>\n",
       "      <th>f_95</th>\n",
       "      <th>f_96</th>\n",
       "      <th>f_97</th>\n",
       "      <th>f_98</th>\n",
       "      <th>f_99</th>\n",
       "      <th>target</th>\n",
       "      <th>kfold</th>\n",
       "    </tr>\n",
       "  </thead>\n",
       "  <tbody>\n",
       "    <tr>\n",
       "      <th>0</th>\n",
       "      <td>-1.052940</td>\n",
       "      <td>1.085821</td>\n",
       "      <td>-0.913791</td>\n",
       "      <td>-0.284332</td>\n",
       "      <td>-1.307960</td>\n",
       "      <td>-0.562826</td>\n",
       "      <td>-0.825270</td>\n",
       "      <td>-0.552355</td>\n",
       "      <td>-0.201170</td>\n",
       "      <td>0.347741</td>\n",
       "      <td>...</td>\n",
       "      <td>0.013042</td>\n",
       "      <td>-1.693452</td>\n",
       "      <td>1.338567</td>\n",
       "      <td>-0.018660</td>\n",
       "      <td>-0.284110</td>\n",
       "      <td>-0.923030</td>\n",
       "      <td>0.189967</td>\n",
       "      <td>1.508650</td>\n",
       "      <td>-124.157194</td>\n",
       "      <td>0</td>\n",
       "    </tr>\n",
       "    <tr>\n",
       "      <th>1</th>\n",
       "      <td>0.792889</td>\n",
       "      <td>0.891058</td>\n",
       "      <td>-0.911293</td>\n",
       "      <td>-0.268912</td>\n",
       "      <td>1.825190</td>\n",
       "      <td>-0.074454</td>\n",
       "      <td>0.394064</td>\n",
       "      <td>-0.457943</td>\n",
       "      <td>2.468051</td>\n",
       "      <td>-0.383952</td>\n",
       "      <td>...</td>\n",
       "      <td>0.018906</td>\n",
       "      <td>-0.147237</td>\n",
       "      <td>-0.243697</td>\n",
       "      <td>0.666459</td>\n",
       "      <td>0.162119</td>\n",
       "      <td>-0.188845</td>\n",
       "      <td>0.687079</td>\n",
       "      <td>1.155201</td>\n",
       "      <td>-190.526667</td>\n",
       "      <td>0</td>\n",
       "    </tr>\n",
       "    <tr>\n",
       "      <th>2</th>\n",
       "      <td>0.335606</td>\n",
       "      <td>1.141805</td>\n",
       "      <td>0.963092</td>\n",
       "      <td>-0.603603</td>\n",
       "      <td>0.684978</td>\n",
       "      <td>0.431973</td>\n",
       "      <td>-0.855658</td>\n",
       "      <td>0.566242</td>\n",
       "      <td>-1.362129</td>\n",
       "      <td>-0.046231</td>\n",
       "      <td>...</td>\n",
       "      <td>-0.304463</td>\n",
       "      <td>1.688002</td>\n",
       "      <td>-0.616202</td>\n",
       "      <td>1.469016</td>\n",
       "      <td>0.439877</td>\n",
       "      <td>0.754579</td>\n",
       "      <td>-0.366200</td>\n",
       "      <td>-0.445643</td>\n",
       "      <td>82.900243</td>\n",
       "      <td>0</td>\n",
       "    </tr>\n",
       "    <tr>\n",
       "      <th>3</th>\n",
       "      <td>-0.290377</td>\n",
       "      <td>0.508406</td>\n",
       "      <td>-1.948884</td>\n",
       "      <td>-0.515833</td>\n",
       "      <td>0.304018</td>\n",
       "      <td>-0.192346</td>\n",
       "      <td>0.276370</td>\n",
       "      <td>-0.105106</td>\n",
       "      <td>-2.896246</td>\n",
       "      <td>-0.745062</td>\n",
       "      <td>...</td>\n",
       "      <td>0.348797</td>\n",
       "      <td>-0.076205</td>\n",
       "      <td>0.346627</td>\n",
       "      <td>-0.931669</td>\n",
       "      <td>-0.249359</td>\n",
       "      <td>-0.044207</td>\n",
       "      <td>-1.559690</td>\n",
       "      <td>-0.259300</td>\n",
       "      <td>112.595633</td>\n",
       "      <td>0</td>\n",
       "    </tr>\n",
       "    <tr>\n",
       "      <th>4</th>\n",
       "      <td>-0.060090</td>\n",
       "      <td>1.130443</td>\n",
       "      <td>-1.608669</td>\n",
       "      <td>-0.030704</td>\n",
       "      <td>0.510770</td>\n",
       "      <td>-0.773978</td>\n",
       "      <td>-0.331871</td>\n",
       "      <td>-0.521054</td>\n",
       "      <td>0.970404</td>\n",
       "      <td>0.555983</td>\n",
       "      <td>...</td>\n",
       "      <td>1.283958</td>\n",
       "      <td>-0.292855</td>\n",
       "      <td>0.632966</td>\n",
       "      <td>-1.085184</td>\n",
       "      <td>-0.629400</td>\n",
       "      <td>0.840655</td>\n",
       "      <td>0.319579</td>\n",
       "      <td>0.240255</td>\n",
       "      <td>213.330237</td>\n",
       "      <td>0</td>\n",
       "    </tr>\n",
       "  </tbody>\n",
       "</table>\n",
       "<p>5 rows × 102 columns</p>\n",
       "</div>"
      ],
      "text/plain": [
       "        f_0       f_1       f_2       f_3       f_4       f_5       f_6  \\\n",
       "0 -1.052940  1.085821 -0.913791 -0.284332 -1.307960 -0.562826 -0.825270   \n",
       "1  0.792889  0.891058 -0.911293 -0.268912  1.825190 -0.074454  0.394064   \n",
       "2  0.335606  1.141805  0.963092 -0.603603  0.684978  0.431973 -0.855658   \n",
       "3 -0.290377  0.508406 -1.948884 -0.515833  0.304018 -0.192346  0.276370   \n",
       "4 -0.060090  1.130443 -1.608669 -0.030704  0.510770 -0.773978 -0.331871   \n",
       "\n",
       "        f_7       f_8       f_9  ...      f_92      f_93      f_94      f_95  \\\n",
       "0 -0.552355 -0.201170  0.347741  ...  0.013042 -1.693452  1.338567 -0.018660   \n",
       "1 -0.457943  2.468051 -0.383952  ...  0.018906 -0.147237 -0.243697  0.666459   \n",
       "2  0.566242 -1.362129 -0.046231  ... -0.304463  1.688002 -0.616202  1.469016   \n",
       "3 -0.105106 -2.896246 -0.745062  ...  0.348797 -0.076205  0.346627 -0.931669   \n",
       "4 -0.521054  0.970404  0.555983  ...  1.283958 -0.292855  0.632966 -1.085184   \n",
       "\n",
       "       f_96      f_97      f_98      f_99      target  kfold  \n",
       "0 -0.284110 -0.923030  0.189967  1.508650 -124.157194      0  \n",
       "1  0.162119 -0.188845  0.687079  1.155201 -190.526667      0  \n",
       "2  0.439877  0.754579 -0.366200 -0.445643   82.900243      0  \n",
       "3 -0.249359 -0.044207 -1.559690 -0.259300  112.595633      0  \n",
       "4 -0.629400  0.840655  0.319579  0.240255  213.330237      0  \n",
       "\n",
       "[5 rows x 102 columns]"
      ]
     },
     "execution_count": 27,
     "metadata": {},
     "output_type": "execute_result"
    }
   ],
   "source": [
    "df.head()"
   ]
  },
  {
   "cell_type": "code",
   "execution_count": null,
   "id": "fcf18c5e",
   "metadata": {},
   "outputs": [],
   "source": []
  }
 ],
 "metadata": {
  "kernelspec": {
   "display_name": "Python 3",
   "language": "python",
   "name": "python3"
  },
  "language_info": {
   "codemirror_mode": {
    "name": "ipython",
    "version": 3
   },
   "file_extension": ".py",
   "mimetype": "text/x-python",
   "name": "python",
   "nbconvert_exporter": "python",
   "pygments_lexer": "ipython3",
   "version": "3.8.8"
  }
 },
 "nbformat": 4,
 "nbformat_minor": 5
}
