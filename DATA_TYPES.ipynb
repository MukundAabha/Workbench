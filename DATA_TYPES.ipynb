{
  "cells": [
    {
      "cell_type": "markdown",
      "metadata": {
        "id": "cqbfcqmkYVb_"
      },
      "source": [
        "#**Dealing With Various Data Types**"
      ]
    },
    {
      "cell_type": "markdown",
      "metadata": {
        "id": "k6HEuETUa-A3"
      },
      "source": [
        "##**Data types in Python**"
      ]
    },
    {
      "cell_type": "markdown",
      "metadata": {
        "id": "YDz3aNTibHGT"
      },
      "source": [
        "There are various data types in Python. We will consider some of the important regularly used types."
      ]
    },
    {
      "cell_type": "markdown",
      "metadata": {
        "id": "HZ0wN0jAbZBO"
      },
      "source": [
        "###**Python Numbers**\n",
        "\n",
        "The **Python Numbers** category consists of:\n",
        "1. Integers (***int***)\n",
        "2. Floating point numbers(***float***)\n",
        "3. Complex numbers(***complex***)\n",
        "4. String(**str**)\n",
        "5. List\n",
        "6. Tuple\n",
        "7. Set\n",
        "8. Dictionary\n",
        "\n"
      ]
    },
    {
      "cell_type": "markdown",
      "metadata": {
        "id": "Pnmtyyeap3Cg"
      },
      "source": [
        "##**Class Notes**"
      ]
    },
    {
      "cell_type": "markdown",
      "metadata": {
        "id": "_-Kilnhbi8p-"
      },
      "source": [
        "# **Integer**"
      ]
    },
    {
      "cell_type": "code",
      "execution_count": null,
      "metadata": {
        "id": "IKZKGVeXfU8Y",
        "vscode": {
          "languageId": "python"
        }
      },
      "outputs": [],
      "source": [
        "a= 10"
      ]
    },
    {
      "cell_type": "code",
      "execution_count": null,
      "metadata": {
        "colab": {
          "base_uri": "https://localhost:8080/"
        },
        "id": "aDSql99vfU4p",
        "outputId": "7f0efcec-7b71-432b-e980-be7515068a0b",
        "vscode": {
          "languageId": "python"
        }
      },
      "outputs": [
        {
          "data": {
            "text/plain": [
              "int"
            ]
          },
          "execution_count": 2,
          "metadata": {
            "tags": []
          },
          "output_type": "execute_result"
        }
      ],
      "source": [
        "type(a)"
      ]
    },
    {
      "cell_type": "code",
      "execution_count": null,
      "metadata": {
        "colab": {
          "base_uri": "https://localhost:8080/"
        },
        "id": "7dGRXxyJfU1V",
        "outputId": "da8fdf00-d5c9-48e3-83ba-476c69313d4e",
        "vscode": {
          "languageId": "python"
        }
      },
      "outputs": [
        {
          "data": {
            "text/plain": [
              "int"
            ]
          },
          "execution_count": 4,
          "metadata": {
            "tags": []
          },
          "output_type": "execute_result"
        }
      ],
      "source": [
        "type(10 + 20)"
      ]
    },
    {
      "cell_type": "markdown",
      "metadata": {
        "id": "98s_kRyPjYjG"
      },
      "source": [
        "#**Floting Point Numbers**"
      ]
    },
    {
      "cell_type": "code",
      "execution_count": null,
      "metadata": {
        "id": "awxhOqOOfUx9",
        "vscode": {
          "languageId": "python"
        }
      },
      "outputs": [],
      "source": [
        "b = 10.5"
      ]
    },
    {
      "cell_type": "code",
      "execution_count": null,
      "metadata": {
        "colab": {
          "base_uri": "https://localhost:8080/"
        },
        "id": "h5mFH8wIfUuT",
        "outputId": "cbb3517f-db40-4a58-bfb9-4cf61ef5b2d7",
        "vscode": {
          "languageId": "python"
        }
      },
      "outputs": [
        {
          "data": {
            "text/plain": [
              "float"
            ]
          },
          "execution_count": 6,
          "metadata": {
            "tags": []
          },
          "output_type": "execute_result"
        }
      ],
      "source": [
        "type(b)"
      ]
    },
    {
      "cell_type": "code",
      "execution_count": null,
      "metadata": {
        "colab": {
          "base_uri": "https://localhost:8080/"
        },
        "id": "XEKmuCkMfPIP",
        "outputId": "1e930303-c027-417c-df66-a9bf6a9a7cff",
        "vscode": {
          "languageId": "python"
        }
      },
      "outputs": [
        {
          "data": {
            "text/plain": [
              "float"
            ]
          },
          "execution_count": 8,
          "metadata": {
            "tags": []
          },
          "output_type": "execute_result"
        }
      ],
      "source": [
        "type(10.5 + 7)"
      ]
    },
    {
      "cell_type": "markdown",
      "metadata": {
        "id": "ZUnfE5S3jzWj"
      },
      "source": [
        "#**Complex Numbers**"
      ]
    },
    {
      "cell_type": "code",
      "execution_count": null,
      "metadata": {
        "id": "cHoxQSDcfPEM",
        "vscode": {
          "languageId": "python"
        }
      },
      "outputs": [],
      "source": [
        "c = 10 + 5j"
      ]
    },
    {
      "cell_type": "code",
      "execution_count": null,
      "metadata": {
        "colab": {
          "base_uri": "https://localhost:8080/"
        },
        "id": "1t1Bj0zDfPBE",
        "outputId": "3295cd28-aea3-4604-ea66-a8c1b1c9e065",
        "vscode": {
          "languageId": "python"
        }
      },
      "outputs": [
        {
          "data": {
            "text/plain": [
              "complex"
            ]
          },
          "execution_count": 10,
          "metadata": {
            "tags": []
          },
          "output_type": "execute_result"
        }
      ],
      "source": [
        "type(c)"
      ]
    },
    {
      "cell_type": "markdown",
      "metadata": {
        "id": "CJBRSDkMkHtA"
      },
      "source": [
        "#**String**"
      ]
    },
    {
      "cell_type": "code",
      "execution_count": null,
      "metadata": {
        "id": "_LJ66sG6fO99",
        "vscode": {
          "languageId": "python"
        }
      },
      "outputs": [],
      "source": [
        "d = \"mrbriit\""
      ]
    },
    {
      "cell_type": "code",
      "execution_count": null,
      "metadata": {
        "colab": {
          "base_uri": "https://localhost:8080/"
        },
        "id": "gUx_T1E6fO6n",
        "outputId": "1422d5d7-bb4b-4cb9-f05a-55bbd3d95351",
        "vscode": {
          "languageId": "python"
        }
      },
      "outputs": [
        {
          "data": {
            "text/plain": [
              "str"
            ]
          },
          "execution_count": 12,
          "metadata": {
            "tags": []
          },
          "output_type": "execute_result"
        }
      ],
      "source": [
        "type(d)"
      ]
    },
    {
      "cell_type": "code",
      "execution_count": null,
      "metadata": {
        "id": "QxP4kc3lfO3g",
        "vscode": {
          "languageId": "python"
        }
      },
      "outputs": [],
      "source": [
        "e = \"mrbriit\""
      ]
    },
    {
      "cell_type": "code",
      "execution_count": null,
      "metadata": {
        "id": "9KOf1VqwfO0N",
        "vscode": {
          "languageId": "python"
        }
      },
      "outputs": [],
      "source": [
        "f = 'we are learning python data types'"
      ]
    },
    {
      "cell_type": "code",
      "execution_count": null,
      "metadata": {
        "colab": {
          "base_uri": "https://localhost:8080/"
        },
        "id": "CDdLnHCVfOwZ",
        "outputId": "6e5d9ebf-8448-43af-8097-fd7cbe87f6e0",
        "vscode": {
          "languageId": "python"
        }
      },
      "outputs": [
        {
          "data": {
            "text/plain": [
              "str"
            ]
          },
          "execution_count": 16,
          "metadata": {
            "tags": []
          },
          "output_type": "execute_result"
        }
      ],
      "source": [
        "type(f)"
      ]
    },
    {
      "cell_type": "markdown",
      "metadata": {
        "id": "KcYsOzS1ksG8"
      },
      "source": [
        "#**List**"
      ]
    },
    {
      "cell_type": "code",
      "execution_count": null,
      "metadata": {
        "id": "1jHQKJwCfOtF",
        "vscode": {
          "languageId": "python"
        }
      },
      "outputs": [],
      "source": [
        "grades = [10,30,50,70,80,75.5,50.8,'mrbriit', 'simran', \"Ashutosh\"]"
      ]
    },
    {
      "cell_type": "code",
      "execution_count": null,
      "metadata": {
        "colab": {
          "base_uri": "https://localhost:8080/"
        },
        "id": "wr9RwRTAfOpt",
        "outputId": "08a98cdf-aa8c-4fb9-e595-5135d0f8af5c",
        "vscode": {
          "languageId": "python"
        }
      },
      "outputs": [
        {
          "data": {
            "text/plain": [
              "list"
            ]
          },
          "execution_count": 20,
          "metadata": {
            "tags": []
          },
          "output_type": "execute_result"
        }
      ],
      "source": [
        "type(grades)"
      ]
    },
    {
      "cell_type": "markdown",
      "metadata": {
        "id": "MPORfNqalTWv"
      },
      "source": [
        "#**Tuple**"
      ]
    },
    {
      "cell_type": "code",
      "execution_count": null,
      "metadata": {
        "id": "omEibMD0fOmy",
        "vscode": {
          "languageId": "python"
        }
      },
      "outputs": [],
      "source": [
        "tuple_items=(10,30,50,70,80,75.5,50.8,'mrbriit', 'simran', \"Ashutosh\")"
      ]
    },
    {
      "cell_type": "code",
      "execution_count": null,
      "metadata": {
        "colab": {
          "base_uri": "https://localhost:8080/"
        },
        "id": "3CE5B6chfOjM",
        "outputId": "a3682199-c011-46f7-a119-b0f6d62fa940",
        "vscode": {
          "languageId": "python"
        }
      },
      "outputs": [
        {
          "data": {
            "text/plain": [
              "tuple"
            ]
          },
          "execution_count": 22,
          "metadata": {
            "tags": []
          },
          "output_type": "execute_result"
        }
      ],
      "source": [
        "type(tuple_items)"
      ]
    },
    {
      "cell_type": "code",
      "execution_count": null,
      "metadata": {
        "id": "8h8H_hi1fOfL",
        "vscode": {
          "languageId": "python"
        }
      },
      "outputs": [],
      "source": [
        "grades[0]=100"
      ]
    },
    {
      "cell_type": "code",
      "execution_count": null,
      "metadata": {
        "colab": {
          "base_uri": "https://localhost:8080/"
        },
        "id": "DYi6ptgNfOb2",
        "outputId": "66df3b4d-0ae0-4db2-c74b-50c421bd5e67",
        "vscode": {
          "languageId": "python"
        }
      },
      "outputs": [
        {
          "data": {
            "text/plain": [
              "[100, 30, 50, 70, 80, 75.5, 50.8, 'mrbriit', 'simran', 'Ashutosh']"
            ]
          },
          "execution_count": 24,
          "metadata": {
            "tags": []
          },
          "output_type": "execute_result"
        }
      ],
      "source": [
        "grades"
      ]
    },
    {
      "cell_type": "code",
      "execution_count": null,
      "metadata": {
        "id": "xsbU_hZVfOY2",
        "vscode": {
          "languageId": "python"
        }
      },
      "outputs": [],
      "source": [
        "grades[7]='John'"
      ]
    },
    {
      "cell_type": "code",
      "execution_count": null,
      "metadata": {
        "colab": {
          "base_uri": "https://localhost:8080/"
        },
        "id": "qyNd2bLNfOUl",
        "outputId": "84b5513a-d311-4c5b-a0e9-e6839ab2519f",
        "vscode": {
          "languageId": "python"
        }
      },
      "outputs": [
        {
          "data": {
            "text/plain": [
              "[100, 30, 50, 70, 80, 75.5, 50.8, 'John', 'simran', 'Ashutosh']"
            ]
          },
          "execution_count": 26,
          "metadata": {
            "tags": []
          },
          "output_type": "execute_result"
        }
      ],
      "source": [
        "grades"
      ]
    },
    {
      "cell_type": "code",
      "execution_count": null,
      "metadata": {
        "colab": {
          "base_uri": "https://localhost:8080/"
        },
        "id": "QV9KkxDBfOP3",
        "outputId": "ad6713fd-2042-4575-9a47-97bca453613c",
        "vscode": {
          "languageId": "python"
        }
      },
      "outputs": [
        {
          "data": {
            "text/plain": [
              "(10, 30, 50, 70, 80, 75.5, 50.8, 'mrbriit', 'simran', 'Ashutosh')"
            ]
          },
          "execution_count": 27,
          "metadata": {
            "tags": []
          },
          "output_type": "execute_result"
        }
      ],
      "source": [
        "tuple_items"
      ]
    },
    {
      "cell_type": "code",
      "execution_count": null,
      "metadata": {
        "colab": {
          "base_uri": "https://localhost:8080/",
          "height": 164
        },
        "id": "gGwOcxHAfOBn",
        "outputId": "8c31d98c-4c60-4d9c-fb7c-38b67fb57136",
        "vscode": {
          "languageId": "python"
        }
      },
      "outputs": [
        {
          "ename": "TypeError",
          "evalue": "ignored",
          "output_type": "error",
          "traceback": [
            "\u001b[0;31m---------------------------------------------------------------------------\u001b[0m",
            "\u001b[0;31mTypeError\u001b[0m                                 Traceback (most recent call last)",
            "\u001b[0;32m<ipython-input-28-04f9c1911024>\u001b[0m in \u001b[0;36m<module>\u001b[0;34m()\u001b[0m\n\u001b[0;32m----> 1\u001b[0;31m \u001b[0mtuple_items\u001b[0m\u001b[0;34m[\u001b[0m\u001b[0;36m9\u001b[0m\u001b[0;34m]\u001b[0m\u001b[0;34m=\u001b[0m\u001b[0;34m'Mercy'\u001b[0m\u001b[0;34m\u001b[0m\u001b[0;34m\u001b[0m\u001b[0m\n\u001b[0m",
            "\u001b[0;31mTypeError\u001b[0m: 'tuple' object does not support item assignment"
          ]
        }
      ],
      "source": [
        "tuple_items[9]='Mercy'"
      ]
    },
    {
      "cell_type": "markdown",
      "metadata": {
        "id": "furdZAZkm0VC"
      },
      "source": [
        "Tuple is **immutable** BUT lits is **mutable**"
      ]
    },
    {
      "cell_type": "markdown",
      "metadata": {
        "id": "xtmmgYnYnVqE"
      },
      "source": [
        "#**Set**"
      ]
    },
    {
      "cell_type": "markdown",
      "metadata": {
        "id": "hLzKf4PqnfxQ"
      },
      "source": [
        "an unordered collection of **unique** items"
      ]
    },
    {
      "cell_type": "code",
      "execution_count": null,
      "metadata": {
        "id": "_4dOww6ffN52",
        "vscode": {
          "languageId": "python"
        }
      },
      "outputs": [],
      "source": [
        " h = {1,2,3, 7,15,25,3.5}"
      ]
    },
    {
      "cell_type": "code",
      "execution_count": null,
      "metadata": {
        "colab": {
          "base_uri": "https://localhost:8080/"
        },
        "id": "jwcpgoLufNx6",
        "outputId": "7c976681-874f-4552-f374-cc0add3c1b28",
        "vscode": {
          "languageId": "python"
        }
      },
      "outputs": [
        {
          "data": {
            "text/plain": [
              "set"
            ]
          },
          "execution_count": 30,
          "metadata": {
            "tags": []
          },
          "output_type": "execute_result"
        }
      ],
      "source": [
        "type(h)"
      ]
    },
    {
      "cell_type": "markdown",
      "metadata": {
        "id": "YZwfrr3Bn_ks"
      },
      "source": [
        "#**Dictionay**"
      ]
    },
    {
      "cell_type": "markdown",
      "metadata": {
        "id": "n56YQhUkoHlq"
      },
      "source": [
        "An unordered collection of items: **Keys-Value Pair**"
      ]
    },
    {
      "cell_type": "code",
      "execution_count": null,
      "metadata": {
        "id": "vDrGLcEafNqW",
        "vscode": {
          "languageId": "python"
        }
      },
      "outputs": [],
      "source": [
        "dict = {'Name':'MrBriit','Favorite Fruits':'Apple','Color':'Blue'}"
      ]
    },
    {
      "cell_type": "code",
      "execution_count": null,
      "metadata": {
        "colab": {
          "base_uri": "https://localhost:8080/"
        },
        "id": "Fl991yT0fNmN",
        "outputId": "290a8e53-cb80-466b-80df-1dcca0f5f9fe",
        "vscode": {
          "languageId": "python"
        }
      },
      "outputs": [
        {
          "data": {
            "text/plain": [
              "dict"
            ]
          },
          "execution_count": 32,
          "metadata": {
            "tags": []
          },
          "output_type": "execute_result"
        }
      ],
      "source": [
        "type(dict)"
      ]
    },
    {
      "cell_type": "code",
      "execution_count": null,
      "metadata": {
        "colab": {
          "base_uri": "https://localhost:8080/",
          "height": 35
        },
        "id": "5V6HkL_XfNi9",
        "outputId": "42c1b85b-4495-40b8-8839-59c31909f202",
        "vscode": {
          "languageId": "python"
        }
      },
      "outputs": [
        {
          "data": {
            "application/vnd.google.colaboratory.intrinsic+json": {
              "type": "string"
            },
            "text/plain": [
              "'Blue'"
            ]
          },
          "execution_count": 34,
          "metadata": {
            "tags": []
          },
          "output_type": "execute_result"
        }
      ],
      "source": [
        "dict['Color']"
      ]
    },
    {
      "cell_type": "code",
      "execution_count": null,
      "metadata": {
        "colab": {
          "base_uri": "https://localhost:8080/",
          "height": 35
        },
        "id": "y1U0oarDfNez",
        "outputId": "3110b597-22eb-4fcc-9cc4-0fe52102eb00",
        "vscode": {
          "languageId": "python"
        }
      },
      "outputs": [
        {
          "data": {
            "application/vnd.google.colaboratory.intrinsic+json": {
              "type": "string"
            },
            "text/plain": [
              "'MrBriit'"
            ]
          },
          "execution_count": 35,
          "metadata": {
            "tags": []
          },
          "output_type": "execute_result"
        }
      ],
      "source": [
        "dict['Name']"
      ]
    },
    {
      "cell_type": "code",
      "execution_count": null,
      "metadata": {
        "colab": {
          "base_uri": "https://localhost:8080/",
          "height": 35
        },
        "id": "WP7dSY-pfNaz",
        "outputId": "40c44304-7258-45e5-836a-02e89d83e5b1",
        "vscode": {
          "languageId": "python"
        }
      },
      "outputs": [
        {
          "data": {
            "application/vnd.google.colaboratory.intrinsic+json": {
              "type": "string"
            },
            "text/plain": [
              "'Apple'"
            ]
          },
          "execution_count": 36,
          "metadata": {
            "tags": []
          },
          "output_type": "execute_result"
        }
      ],
      "source": [
        "dict['Favorite Fruits']"
      ]
    },
    {
      "cell_type": "code",
      "execution_count": null,
      "metadata": {
        "id": "5tucyA6OfMdU",
        "vscode": {
          "languageId": "python"
        }
      },
      "outputs": [],
      "source": []
    },
    {
      "cell_type": "markdown",
      "metadata": {
        "id": "ZCWN8FzkqBsK"
      },
      "source": [
        "##**More Organised Notes(Same as above, you can skip it and go to \"Working With Python Data types\")**"
      ]
    },
    {
      "cell_type": "markdown",
      "metadata": {
        "id": "bwmaeckAcQfO"
      },
      "source": [
        "####**1. Integers(int)**"
      ]
    },
    {
      "cell_type": "code",
      "execution_count": null,
      "metadata": {
        "id": "352TzbUCYF4x",
        "vscode": {
          "languageId": "python"
        }
      },
      "outputs": [],
      "source": [
        "a=10"
      ]
    },
    {
      "cell_type": "markdown",
      "metadata": {
        "id": "MnCNxbjAcbGh"
      },
      "source": [
        "We can use the Python **type()** to check the data type."
      ]
    },
    {
      "cell_type": "code",
      "execution_count": null,
      "metadata": {
        "colab": {
          "base_uri": "https://localhost:8080/"
        },
        "id": "S5KqSB56caQC",
        "outputId": "eb306664-0852-444c-8bad-b895adf0c18e",
        "vscode": {
          "languageId": "python"
        }
      },
      "outputs": [
        {
          "data": {
            "text/plain": [
              "int"
            ]
          },
          "execution_count": 2,
          "metadata": {
            "tags": []
          },
          "output_type": "execute_result"
        }
      ],
      "source": [
        "type(a)"
      ]
    },
    {
      "cell_type": "markdown",
      "metadata": {
        "id": "D6mPfAhecoZ6"
      },
      "source": [
        "we can see from above that the variable **a** was assigned an ***integer value.***"
      ]
    },
    {
      "cell_type": "markdown",
      "metadata": {
        "id": "xEPlk-Xdc8wV"
      },
      "source": [
        "####**2. Floating point numbers(float)**"
      ]
    },
    {
      "cell_type": "code",
      "execution_count": null,
      "metadata": {
        "id": "xnSCYyvWclwh",
        "vscode": {
          "languageId": "python"
        }
      },
      "outputs": [],
      "source": [
        "b=10.75"
      ]
    },
    {
      "cell_type": "code",
      "execution_count": null,
      "metadata": {
        "colab": {
          "base_uri": "https://localhost:8080/"
        },
        "id": "Skk6im71dJmS",
        "outputId": "af954b2e-9c23-4360-8bdd-0952f0436b2d",
        "vscode": {
          "languageId": "python"
        }
      },
      "outputs": [
        {
          "data": {
            "text/plain": [
              "float"
            ]
          },
          "execution_count": 4,
          "metadata": {
            "tags": []
          },
          "output_type": "execute_result"
        }
      ],
      "source": [
        "type(b)"
      ]
    },
    {
      "cell_type": "markdown",
      "metadata": {
        "id": "Qy9pACBrdNvg"
      },
      "source": [
        "we can see from above that the variable **b** was assigned a ***floating point number.***"
      ]
    },
    {
      "cell_type": "markdown",
      "metadata": {
        "id": "k4A-RnL_dldj"
      },
      "source": [
        "####**3. Complex numbers(complex)**"
      ]
    },
    {
      "cell_type": "code",
      "execution_count": null,
      "metadata": {
        "id": "sO_E1rDxdLfM",
        "vscode": {
          "languageId": "python"
        }
      },
      "outputs": [],
      "source": [
        "c = 10+5j"
      ]
    },
    {
      "cell_type": "code",
      "execution_count": null,
      "metadata": {
        "colab": {
          "base_uri": "https://localhost:8080/"
        },
        "id": "BgTlPMjpd1G7",
        "outputId": "89fe019c-35fb-4e72-9d31-5912707cd9bd",
        "vscode": {
          "languageId": "python"
        }
      },
      "outputs": [
        {
          "data": {
            "text/plain": [
              "complex"
            ]
          },
          "execution_count": 6,
          "metadata": {
            "tags": []
          },
          "output_type": "execute_result"
        }
      ],
      "source": [
        "type(c)"
      ]
    },
    {
      "cell_type": "markdown",
      "metadata": {
        "id": "RWk8YbAud3oi"
      },
      "source": [
        "we can see from above that the variable **c** was assigned a ***complex number***."
      ]
    },
    {
      "cell_type": "markdown",
      "metadata": {
        "id": "-NnT6dqReYSK"
      },
      "source": [
        "<br>\n",
        "\n",
        "###**Python List**"
      ]
    },
    {
      "cell_type": "markdown",
      "metadata": {
        "id": "4xulF7lserCU"
      },
      "source": [
        "Python List is an ordered sequence of items. The items provided in python list do not need to be of the same type.Which means items of different data types can be included in a Python Lis. It is one of the most used datatype in Python and is very flexible. \n",
        "\n",
        "Declaring a list is pretty straight forward. Items separated by commas are enclosed within brackets [ ]."
      ]
    },
    {
      "cell_type": "code",
      "execution_count": null,
      "metadata": {
        "id": "kKsORmHwd2qq",
        "vscode": {
          "languageId": "python"
        }
      },
      "outputs": [],
      "source": [
        "d=[1,2,3,'MrBriit',0.233,'anything else']"
      ]
    },
    {
      "cell_type": "code",
      "execution_count": null,
      "metadata": {
        "colab": {
          "base_uri": "https://localhost:8080/"
        },
        "id": "zl9OQqKVfWra",
        "outputId": "a70cb0c0-2e29-4e6c-920a-23cdeea59295",
        "vscode": {
          "languageId": "python"
        }
      },
      "outputs": [
        {
          "data": {
            "text/plain": [
              "list"
            ]
          },
          "execution_count": 8,
          "metadata": {
            "tags": []
          },
          "output_type": "execute_result"
        }
      ],
      "source": [
        "type(d)"
      ]
    },
    {
      "cell_type": "markdown",
      "metadata": {
        "id": "ckxWyKGIfdyM"
      },
      "source": [
        "###**Python Tuple**"
      ]
    },
    {
      "cell_type": "markdown",
      "metadata": {
        "id": "sgGLBkA_fso5"
      },
      "source": [
        "Tuple is an ordered sequence of items similar to a list as discussed above. The only difference is that tuples are immutable. That's, once created, cannot be modified.\n",
        "\n",
        "It is defined within parentheses () where items are separated by commas."
      ]
    },
    {
      "cell_type": "code",
      "execution_count": null,
      "metadata": {
        "id": "YEKLwMpGfYvG",
        "vscode": {
          "languageId": "python"
        }
      },
      "outputs": [],
      "source": [
        "e=(1,2,3,'MrBriit',0.233,'anything else')"
      ]
    },
    {
      "cell_type": "code",
      "execution_count": null,
      "metadata": {
        "colab": {
          "base_uri": "https://localhost:8080/"
        },
        "id": "fwOGa-BRgGOv",
        "outputId": "d5fd5c66-dc83-47d6-c880-754c3e0441c4",
        "vscode": {
          "languageId": "python"
        }
      },
      "outputs": [
        {
          "data": {
            "text/plain": [
              "tuple"
            ]
          },
          "execution_count": 10,
          "metadata": {
            "tags": []
          },
          "output_type": "execute_result"
        }
      ],
      "source": [
        "type(e)"
      ]
    },
    {
      "cell_type": "code",
      "execution_count": null,
      "metadata": {
        "id": "YTKpdquXgHgK",
        "vscode": {
          "languageId": "python"
        }
      },
      "outputs": [],
      "source": [
        "#let's change some items in List d\n",
        "\n",
        "d[3]='James'"
      ]
    },
    {
      "cell_type": "code",
      "execution_count": null,
      "metadata": {
        "colab": {
          "base_uri": "https://localhost:8080/"
        },
        "id": "L4vvIPCBgWRW",
        "outputId": "14a37b15-5d3a-40ff-89d9-489b2c29045a",
        "vscode": {
          "languageId": "python"
        }
      },
      "outputs": [
        {
          "data": {
            "text/plain": [
              "[1, 2, 3, 'James', 0.233, 'anything else']"
            ]
          },
          "execution_count": 12,
          "metadata": {
            "tags": []
          },
          "output_type": "execute_result"
        }
      ],
      "source": [
        "d"
      ]
    },
    {
      "cell_type": "code",
      "execution_count": null,
      "metadata": {
        "colab": {
          "base_uri": "https://localhost:8080/",
          "height": 198
        },
        "id": "KnjPazc-gYHU",
        "outputId": "645cca4e-8208-413c-c5ce-4d43b2b9ab2a",
        "vscode": {
          "languageId": "python"
        }
      },
      "outputs": [
        {
          "ename": "TypeError",
          "evalue": "ignored",
          "output_type": "error",
          "traceback": [
            "\u001b[0;31m---------------------------------------------------------------------------\u001b[0m",
            "\u001b[0;31mTypeError\u001b[0m                                 Traceback (most recent call last)",
            "\u001b[0;32m<ipython-input-13-0b71444cdc68>\u001b[0m in \u001b[0;36m<module>\u001b[0;34m()\u001b[0m\n\u001b[1;32m      1\u001b[0m \u001b[0;31m#let's change an item in Tuple e\u001b[0m\u001b[0;34m\u001b[0m\u001b[0;34m\u001b[0m\u001b[0;34m\u001b[0m\u001b[0m\n\u001b[1;32m      2\u001b[0m \u001b[0;34m\u001b[0m\u001b[0m\n\u001b[0;32m----> 3\u001b[0;31m \u001b[0me\u001b[0m\u001b[0;34m[\u001b[0m\u001b[0;36m3\u001b[0m\u001b[0;34m]\u001b[0m\u001b[0;34m=\u001b[0m\u001b[0;34m'Akash'\u001b[0m\u001b[0;34m\u001b[0m\u001b[0;34m\u001b[0m\u001b[0m\n\u001b[0m",
            "\u001b[0;31mTypeError\u001b[0m: 'tuple' object does not support item assignment"
          ]
        }
      ],
      "source": [
        "#let's change an item in Tuple e\n",
        "\n",
        "e[3]='Akash'"
      ]
    },
    {
      "cell_type": "markdown",
      "metadata": {
        "id": "DIdA6wZ_gpf3"
      },
      "source": [
        "oops! we got an error. We cannot change the items in a Tuple"
      ]
    },
    {
      "cell_type": "markdown",
      "metadata": {
        "id": "dFpUUGW2g-m9"
      },
      "source": [
        "###**Python Strings**(str)"
      ]
    },
    {
      "cell_type": "markdown",
      "metadata": {
        "id": "IhJz6Sc5hKj7"
      },
      "source": [
        "String is sequence of Unicode characters. We can use single quotes or double quotes to represent strings. Multi-line strings can be denoted using triple quotes, **' ' '** or **\" \" \"**."
      ]
    },
    {
      "cell_type": "code",
      "execution_count": null,
      "metadata": {
        "id": "zWoVv0KggmFf",
        "vscode": {
          "languageId": "python"
        }
      },
      "outputs": [],
      "source": [
        "f='mrbriit'"
      ]
    },
    {
      "cell_type": "code",
      "execution_count": null,
      "metadata": {
        "colab": {
          "base_uri": "https://localhost:8080/"
        },
        "id": "lMizjbughZNO",
        "outputId": "caa8d701-94a7-4ebe-d2d3-440ea9ce3579",
        "vscode": {
          "languageId": "python"
        }
      },
      "outputs": [
        {
          "data": {
            "text/plain": [
              "str"
            ]
          },
          "execution_count": 15,
          "metadata": {
            "tags": []
          },
          "output_type": "execute_result"
        }
      ],
      "source": [
        "type(f)"
      ]
    },
    {
      "cell_type": "code",
      "execution_count": null,
      "metadata": {
        "id": "B0Sdaa7Ghaq9",
        "vscode": {
          "languageId": "python"
        }
      },
      "outputs": [],
      "source": [
        "g=\"August\""
      ]
    },
    {
      "cell_type": "code",
      "execution_count": null,
      "metadata": {
        "colab": {
          "base_uri": "https://localhost:8080/"
        },
        "id": "4CfQhT4Chmyn",
        "outputId": "5b0dbfc9-5ff2-4f6c-90f9-127059d0b0c1",
        "vscode": {
          "languageId": "python"
        }
      },
      "outputs": [
        {
          "data": {
            "text/plain": [
              "str"
            ]
          },
          "execution_count": 17,
          "metadata": {
            "tags": []
          },
          "output_type": "execute_result"
        }
      ],
      "source": [
        "type(g)"
      ]
    },
    {
      "cell_type": "markdown",
      "metadata": {
        "id": "FaQyby8ShuyY"
      },
      "source": [
        "###**Python Set**\n",
        "\n",
        "Set is an unordered collection of unique items. Set is defined by values separated by comma inside braces { }."
      ]
    },
    {
      "cell_type": "code",
      "execution_count": null,
      "metadata": {
        "id": "DQnWW5W4hn-F",
        "vscode": {
          "languageId": "python"
        }
      },
      "outputs": [],
      "source": [
        "h={1,2,3,15,0.5,7}"
      ]
    },
    {
      "cell_type": "code",
      "execution_count": null,
      "metadata": {
        "colab": {
          "base_uri": "https://localhost:8080/"
        },
        "id": "2MJuzJi5iIaR",
        "outputId": "09bb04f3-16be-4e4c-d6d0-cded06e58035",
        "vscode": {
          "languageId": "python"
        }
      },
      "outputs": [
        {
          "data": {
            "text/plain": [
              "set"
            ]
          },
          "execution_count": 19,
          "metadata": {
            "tags": []
          },
          "output_type": "execute_result"
        }
      ],
      "source": [
        "type(h)"
      ]
    },
    {
      "cell_type": "markdown",
      "metadata": {
        "id": "5tCnoT9GiN_n"
      },
      "source": [
        "###**Python Dictionary**"
      ]
    },
    {
      "cell_type": "markdown",
      "metadata": {
        "id": "lus9OK5oic9t"
      },
      "source": [
        "Dictionary is an unordered collection of key-value pairs.\n",
        "\n",
        "Mostly used when dealing with huge amounts of data. Dictionaries are optimized for retrieving data. We must know the key to retrieve the value.\n",
        "\n",
        "In Python, dictionaries are defined within braces {} with each item being a pair in the form **key:value**. \n",
        "\n",
        "Key and value can be of any type."
      ]
    },
    {
      "cell_type": "code",
      "execution_count": null,
      "metadata": {
        "id": "DN3gJ3cKiKHz",
        "vscode": {
          "languageId": "python"
        }
      },
      "outputs": [],
      "source": [
        "dict={'Name':'MrBriit','Color':'Blue','Shoe Size':43}"
      ]
    },
    {
      "cell_type": "code",
      "execution_count": null,
      "metadata": {
        "colab": {
          "base_uri": "https://localhost:8080/"
        },
        "id": "Z3Jv-TqqjLpm",
        "outputId": "3428d06d-7c4b-4cc3-a214-348b8abacdc2",
        "vscode": {
          "languageId": "python"
        }
      },
      "outputs": [
        {
          "data": {
            "text/plain": [
              "dict"
            ]
          },
          "execution_count": 23,
          "metadata": {
            "tags": []
          },
          "output_type": "execute_result"
        }
      ],
      "source": [
        "type(dict)"
      ]
    },
    {
      "cell_type": "code",
      "execution_count": null,
      "metadata": {
        "colab": {
          "base_uri": "https://localhost:8080/",
          "height": 35
        },
        "id": "ScSz071IjYJ2",
        "outputId": "cbdc54f5-ad7d-4ccf-8884-8d7c1a22a7ff",
        "vscode": {
          "languageId": "python"
        }
      },
      "outputs": [
        {
          "data": {
            "application/vnd.google.colaboratory.intrinsic+json": {
              "type": "string"
            },
            "text/plain": [
              "'MrBriit'"
            ]
          },
          "execution_count": 25,
          "metadata": {
            "tags": []
          },
          "output_type": "execute_result"
        }
      ],
      "source": [
        "dict['Name']"
      ]
    },
    {
      "cell_type": "code",
      "execution_count": null,
      "metadata": {
        "colab": {
          "base_uri": "https://localhost:8080/"
        },
        "id": "bnC-a_s8jUTc",
        "outputId": "6ddb5a91-18dc-47ee-e8a4-f7f8549ef8e7",
        "vscode": {
          "languageId": "python"
        }
      },
      "outputs": [
        {
          "data": {
            "text/plain": [
              "43"
            ]
          },
          "execution_count": 24,
          "metadata": {
            "tags": []
          },
          "output_type": "execute_result"
        }
      ],
      "source": [
        "dict['Shoe Size']"
      ]
    },
    {
      "cell_type": "code",
      "execution_count": null,
      "metadata": {
        "colab": {
          "base_uri": "https://localhost:8080/",
          "height": 35
        },
        "id": "TtBDEMBujbpz",
        "outputId": "2f0196da-8e95-43b8-962b-fb9060bc3ec0",
        "vscode": {
          "languageId": "python"
        }
      },
      "outputs": [
        {
          "data": {
            "application/vnd.google.colaboratory.intrinsic+json": {
              "type": "string"
            },
            "text/plain": [
              "'Blue'"
            ]
          },
          "execution_count": 27,
          "metadata": {
            "tags": []
          },
          "output_type": "execute_result"
        }
      ],
      "source": [
        "dict['Color']"
      ]
    },
    {
      "cell_type": "markdown",
      "metadata": {
        "id": "2IUA1LihnQ_Z"
      },
      "source": [
        "<br>\n",
        "\n",
        "<br>"
      ]
    },
    {
      "cell_type": "markdown",
      "metadata": {
        "id": "42my9dFfnT3m"
      },
      "source": [
        "#**Working With Python Data types**"
      ]
    },
    {
      "cell_type": "markdown",
      "metadata": {
        "id": "gEDBMFlhndis"
      },
      "source": [
        "**First thing first**\n",
        "\n",
        "Difference between Numeric and Discrete values.\n",
        "\n",
        "Data can be Descriptive (like \"high\" or \"fast\") or Numerical (numbers).\n",
        "\n",
        "**Numerical Data** can be Discrete or Continuous:\n",
        "1. Discrete data is ***counted***,\n",
        "2. Continuous data is ***measured***.\n",
        "\n",
        "\n",
        "***Discrete Data*** can only take certain values.\n",
        "\n",
        "E.g. the number of students in a class. \n",
        "\n",
        "We can't have half a student!\n",
        "\n",
        "\n",
        "***Continuous Data*** can take any value (within a range, say 0-7 feet)\n",
        "\n",
        "Examples:\n",
        "\n",
        "A person's height: could be any value\n"
      ]
    },
    {
      "cell_type": "markdown",
      "metadata": {
        "id": "yPe5jJIGqjfp"
      },
      "source": [
        "<br>\n",
        "\n",
        "###**Feature Engineering on Numeric Data**"
      ]
    },
    {
      "cell_type": "markdown",
      "metadata": {
        "id": "_61LWf4Sq9oJ"
      },
      "source": [
        "Here, by numeric data, we mean continuous data and not discrete data which is typically represented as categorical data.\n",
        "\n",
        "Integers and floats are the most common and widely used numeric data types for continuous numeric data. You can directly feed numeric data into machine learning algorithms to build models, however, it is advisable for you to engineer the features properly before continuing to build your model, and these feature engineering typically differs and are done according to the scenario, problem and domain. Hence domain knowledge is mostly important in these kind of cases.\n",
        "\n",
        "The goal of feature engineering for a numeric variable is to find a better way(greater validity, better predictive power, and improved interpretation) of representing the numeric variable in the model."
      ]
    },
    {
      "cell_type": "markdown",
      "metadata": {
        "id": "6qPW59M3uhv5"
      },
      "source": [
        "Let's perform some *feature engineering on numeric data* using the various datasets as shown below"
      ]
    },
    {
      "cell_type": "code",
      "execution_count": null,
      "metadata": {
        "id": "fglk7vUzjjn9",
        "vscode": {
          "languageId": "python"
        }
      },
      "outputs": [],
      "source": [
        "#import the required libraries\n",
        "\n",
        "import pandas as pd\n",
        "import matplotlib.pyplot as plt\n",
        "import numpy as np\n",
        "# import scipy.stats as spstats\n",
        "# %matplotlib inline"
      ]
    },
    {
      "cell_type": "code",
      "execution_count": null,
      "metadata": {
        "id": "ANzxRMnGvccd",
        "vscode": {
          "languageId": "python"
        }
      },
      "outputs": [],
      "source": [
        "#load the dataset\n",
        "\n",
        "df = pd.read_csv('/content/Pokemon.csv', encoding='utf-8') "
      ]
    },
    {
      "cell_type": "code",
      "execution_count": null,
      "metadata": {
        "colab": {
          "base_uri": "https://localhost:8080/",
          "height": 204
        },
        "id": "Vz2wofoiv3DR",
        "outputId": "a8290cb5-27b0-4ebb-f9fe-f68d1b5dddf6",
        "vscode": {
          "languageId": "python"
        }
      },
      "outputs": [
        {
          "data": {
            "text/html": [
              "<div>\n",
              "<style scoped>\n",
              "    .dataframe tbody tr th:only-of-type {\n",
              "        vertical-align: middle;\n",
              "    }\n",
              "\n",
              "    .dataframe tbody tr th {\n",
              "        vertical-align: top;\n",
              "    }\n",
              "\n",
              "    .dataframe thead th {\n",
              "        text-align: right;\n",
              "    }\n",
              "</style>\n",
              "<table border=\"1\" class=\"dataframe\">\n",
              "  <thead>\n",
              "    <tr style=\"text-align: right;\">\n",
              "      <th></th>\n",
              "      <th>#</th>\n",
              "      <th>Name</th>\n",
              "      <th>Type 1</th>\n",
              "      <th>Type 2</th>\n",
              "      <th>Total</th>\n",
              "      <th>HP</th>\n",
              "      <th>Attack</th>\n",
              "      <th>Defense</th>\n",
              "      <th>Sp. Atk</th>\n",
              "      <th>Sp. Def</th>\n",
              "      <th>Speed</th>\n",
              "      <th>Generation</th>\n",
              "      <th>Legendary</th>\n",
              "    </tr>\n",
              "  </thead>\n",
              "  <tbody>\n",
              "    <tr>\n",
              "      <th>0</th>\n",
              "      <td>1</td>\n",
              "      <td>Bulbasaur</td>\n",
              "      <td>Grass</td>\n",
              "      <td>Poison</td>\n",
              "      <td>318</td>\n",
              "      <td>45</td>\n",
              "      <td>49</td>\n",
              "      <td>49</td>\n",
              "      <td>65</td>\n",
              "      <td>65</td>\n",
              "      <td>45</td>\n",
              "      <td>1</td>\n",
              "      <td>False</td>\n",
              "    </tr>\n",
              "    <tr>\n",
              "      <th>1</th>\n",
              "      <td>2</td>\n",
              "      <td>Ivysaur</td>\n",
              "      <td>Grass</td>\n",
              "      <td>Poison</td>\n",
              "      <td>405</td>\n",
              "      <td>60</td>\n",
              "      <td>62</td>\n",
              "      <td>63</td>\n",
              "      <td>80</td>\n",
              "      <td>80</td>\n",
              "      <td>60</td>\n",
              "      <td>1</td>\n",
              "      <td>False</td>\n",
              "    </tr>\n",
              "    <tr>\n",
              "      <th>2</th>\n",
              "      <td>3</td>\n",
              "      <td>Venusaur</td>\n",
              "      <td>Grass</td>\n",
              "      <td>Poison</td>\n",
              "      <td>525</td>\n",
              "      <td>80</td>\n",
              "      <td>82</td>\n",
              "      <td>83</td>\n",
              "      <td>100</td>\n",
              "      <td>100</td>\n",
              "      <td>80</td>\n",
              "      <td>1</td>\n",
              "      <td>False</td>\n",
              "    </tr>\n",
              "    <tr>\n",
              "      <th>3</th>\n",
              "      <td>3</td>\n",
              "      <td>VenusaurMega Venusaur</td>\n",
              "      <td>Grass</td>\n",
              "      <td>Poison</td>\n",
              "      <td>625</td>\n",
              "      <td>80</td>\n",
              "      <td>100</td>\n",
              "      <td>123</td>\n",
              "      <td>122</td>\n",
              "      <td>120</td>\n",
              "      <td>80</td>\n",
              "      <td>1</td>\n",
              "      <td>False</td>\n",
              "    </tr>\n",
              "    <tr>\n",
              "      <th>4</th>\n",
              "      <td>4</td>\n",
              "      <td>Charmander</td>\n",
              "      <td>Fire</td>\n",
              "      <td>NaN</td>\n",
              "      <td>309</td>\n",
              "      <td>39</td>\n",
              "      <td>52</td>\n",
              "      <td>43</td>\n",
              "      <td>60</td>\n",
              "      <td>50</td>\n",
              "      <td>65</td>\n",
              "      <td>1</td>\n",
              "      <td>False</td>\n",
              "    </tr>\n",
              "  </tbody>\n",
              "</table>\n",
              "</div>"
            ],
            "text/plain": [
              "   #                   Name Type 1  ... Speed  Generation  Legendary\n",
              "0  1              Bulbasaur  Grass  ...    45           1      False\n",
              "1  2                Ivysaur  Grass  ...    60           1      False\n",
              "2  3               Venusaur  Grass  ...    80           1      False\n",
              "3  3  VenusaurMega Venusaur  Grass  ...    80           1      False\n",
              "4  4             Charmander   Fire  ...    65           1      False\n",
              "\n",
              "[5 rows x 13 columns]"
            ]
          },
          "execution_count": 49,
          "metadata": {
            "tags": []
          },
          "output_type": "execute_result"
        }
      ],
      "source": [
        "df.head() #let's see the firt 5 rows or records or observations"
      ]
    },
    {
      "cell_type": "code",
      "execution_count": null,
      "metadata": {
        "colab": {
          "base_uri": "https://localhost:8080/"
        },
        "id": "9nKH7o7Mv7tr",
        "outputId": "bb84a79a-14c5-44ed-bee1-aef2efad9bda",
        "vscode": {
          "languageId": "python"
        }
      },
      "outputs": [
        {
          "data": {
            "text/plain": [
              "(800, 13)"
            ]
          },
          "execution_count": 50,
          "metadata": {
            "tags": []
          },
          "output_type": "execute_result"
        }
      ],
      "source": [
        "df.shape"
      ]
    },
    {
      "cell_type": "markdown",
      "metadata": {
        "id": "bjRQnPndwJKh"
      },
      "source": [
        "Our datset contains **800 records or observations** and **13 features or variables**"
      ]
    },
    {
      "cell_type": "markdown",
      "metadata": {
        "id": "jeQ2cblawrFv"
      },
      "source": [
        "<br>\n",
        "\n",
        "We can see from the above dataframe that several attributes represent numeric raw values which can be used directly to perform analysis on or build a machine learning model.\n",
        "\n",
        "For example:"
      ]
    },
    {
      "cell_type": "code",
      "execution_count": null,
      "metadata": {
        "colab": {
          "base_uri": "https://localhost:8080/",
          "height": 419
        },
        "id": "LdSZ4vPJwHZx",
        "outputId": "34819547-4e57-4b67-c1c8-18f980eb513a",
        "vscode": {
          "languageId": "python"
        }
      },
      "outputs": [
        {
          "data": {
            "text/html": [
              "<div>\n",
              "<style scoped>\n",
              "    .dataframe tbody tr th:only-of-type {\n",
              "        vertical-align: middle;\n",
              "    }\n",
              "\n",
              "    .dataframe tbody tr th {\n",
              "        vertical-align: top;\n",
              "    }\n",
              "\n",
              "    .dataframe thead th {\n",
              "        text-align: right;\n",
              "    }\n",
              "</style>\n",
              "<table border=\"1\" class=\"dataframe\">\n",
              "  <thead>\n",
              "    <tr style=\"text-align: right;\">\n",
              "      <th></th>\n",
              "      <th>HP</th>\n",
              "      <th>Attack</th>\n",
              "      <th>Defense</th>\n",
              "      <th>Sp. Atk</th>\n",
              "      <th>Sp. Def</th>\n",
              "      <th>Speed</th>\n",
              "    </tr>\n",
              "  </thead>\n",
              "  <tbody>\n",
              "    <tr>\n",
              "      <th>0</th>\n",
              "      <td>45</td>\n",
              "      <td>49</td>\n",
              "      <td>49</td>\n",
              "      <td>65</td>\n",
              "      <td>65</td>\n",
              "      <td>45</td>\n",
              "    </tr>\n",
              "    <tr>\n",
              "      <th>1</th>\n",
              "      <td>60</td>\n",
              "      <td>62</td>\n",
              "      <td>63</td>\n",
              "      <td>80</td>\n",
              "      <td>80</td>\n",
              "      <td>60</td>\n",
              "    </tr>\n",
              "    <tr>\n",
              "      <th>2</th>\n",
              "      <td>80</td>\n",
              "      <td>82</td>\n",
              "      <td>83</td>\n",
              "      <td>100</td>\n",
              "      <td>100</td>\n",
              "      <td>80</td>\n",
              "    </tr>\n",
              "    <tr>\n",
              "      <th>3</th>\n",
              "      <td>80</td>\n",
              "      <td>100</td>\n",
              "      <td>123</td>\n",
              "      <td>122</td>\n",
              "      <td>120</td>\n",
              "      <td>80</td>\n",
              "    </tr>\n",
              "    <tr>\n",
              "      <th>4</th>\n",
              "      <td>39</td>\n",
              "      <td>52</td>\n",
              "      <td>43</td>\n",
              "      <td>60</td>\n",
              "      <td>50</td>\n",
              "      <td>65</td>\n",
              "    </tr>\n",
              "    <tr>\n",
              "      <th>...</th>\n",
              "      <td>...</td>\n",
              "      <td>...</td>\n",
              "      <td>...</td>\n",
              "      <td>...</td>\n",
              "      <td>...</td>\n",
              "      <td>...</td>\n",
              "    </tr>\n",
              "    <tr>\n",
              "      <th>795</th>\n",
              "      <td>50</td>\n",
              "      <td>100</td>\n",
              "      <td>150</td>\n",
              "      <td>100</td>\n",
              "      <td>150</td>\n",
              "      <td>50</td>\n",
              "    </tr>\n",
              "    <tr>\n",
              "      <th>796</th>\n",
              "      <td>50</td>\n",
              "      <td>160</td>\n",
              "      <td>110</td>\n",
              "      <td>160</td>\n",
              "      <td>110</td>\n",
              "      <td>110</td>\n",
              "    </tr>\n",
              "    <tr>\n",
              "      <th>797</th>\n",
              "      <td>80</td>\n",
              "      <td>110</td>\n",
              "      <td>60</td>\n",
              "      <td>150</td>\n",
              "      <td>130</td>\n",
              "      <td>70</td>\n",
              "    </tr>\n",
              "    <tr>\n",
              "      <th>798</th>\n",
              "      <td>80</td>\n",
              "      <td>160</td>\n",
              "      <td>60</td>\n",
              "      <td>170</td>\n",
              "      <td>130</td>\n",
              "      <td>80</td>\n",
              "    </tr>\n",
              "    <tr>\n",
              "      <th>799</th>\n",
              "      <td>80</td>\n",
              "      <td>110</td>\n",
              "      <td>120</td>\n",
              "      <td>130</td>\n",
              "      <td>90</td>\n",
              "      <td>70</td>\n",
              "    </tr>\n",
              "  </tbody>\n",
              "</table>\n",
              "<p>800 rows × 6 columns</p>\n",
              "</div>"
            ],
            "text/plain": [
              "     HP  Attack  Defense  Sp. Atk  Sp. Def  Speed\n",
              "0    45      49       49       65       65     45\n",
              "1    60      62       63       80       80     60\n",
              "2    80      82       83      100      100     80\n",
              "3    80     100      123      122      120     80\n",
              "4    39      52       43       60       50     65\n",
              "..   ..     ...      ...      ...      ...    ...\n",
              "795  50     100      150      100      150     50\n",
              "796  50     160      110      160      110    110\n",
              "797  80     110       60      150      130     70\n",
              "798  80     160       60      170      130     80\n",
              "799  80     110      120      130       90     70\n",
              "\n",
              "[800 rows x 6 columns]"
            ]
          },
          "execution_count": 38,
          "metadata": {
            "tags": []
          },
          "output_type": "execute_result"
        }
      ],
      "source": [
        "df[['HP',\t'Attack',\t'Defense',\t'Sp. Atk',\t'Sp. Def',\t'Speed'\t]]"
      ]
    },
    {
      "cell_type": "code",
      "execution_count": null,
      "metadata": {
        "colab": {
          "base_uri": "https://localhost:8080/",
          "height": 328
        },
        "id": "5ZI2SWsbIBHh",
        "outputId": "ae82dc39-67d2-47e8-b8f9-26dddb65dff1",
        "vscode": {
          "languageId": "python"
        }
      },
      "outputs": [
        {
          "data": {
            "text/html": [
              "<div>\n",
              "<style scoped>\n",
              "    .dataframe tbody tr th:only-of-type {\n",
              "        vertical-align: middle;\n",
              "    }\n",
              "\n",
              "    .dataframe tbody tr th {\n",
              "        vertical-align: top;\n",
              "    }\n",
              "\n",
              "    .dataframe thead th {\n",
              "        text-align: right;\n",
              "    }\n",
              "</style>\n",
              "<table border=\"1\" class=\"dataframe\">\n",
              "  <thead>\n",
              "    <tr style=\"text-align: right;\">\n",
              "      <th></th>\n",
              "      <th>count</th>\n",
              "      <th>mean</th>\n",
              "      <th>std</th>\n",
              "      <th>min</th>\n",
              "      <th>25%</th>\n",
              "      <th>50%</th>\n",
              "      <th>75%</th>\n",
              "      <th>max</th>\n",
              "    </tr>\n",
              "  </thead>\n",
              "  <tbody>\n",
              "    <tr>\n",
              "      <th>#</th>\n",
              "      <td>800.0</td>\n",
              "      <td>362.81375</td>\n",
              "      <td>208.343798</td>\n",
              "      <td>1.0</td>\n",
              "      <td>184.75</td>\n",
              "      <td>364.5</td>\n",
              "      <td>539.25</td>\n",
              "      <td>721.0</td>\n",
              "    </tr>\n",
              "    <tr>\n",
              "      <th>Total</th>\n",
              "      <td>800.0</td>\n",
              "      <td>435.10250</td>\n",
              "      <td>119.963040</td>\n",
              "      <td>180.0</td>\n",
              "      <td>330.00</td>\n",
              "      <td>450.0</td>\n",
              "      <td>515.00</td>\n",
              "      <td>780.0</td>\n",
              "    </tr>\n",
              "    <tr>\n",
              "      <th>HP</th>\n",
              "      <td>800.0</td>\n",
              "      <td>69.25875</td>\n",
              "      <td>25.534669</td>\n",
              "      <td>1.0</td>\n",
              "      <td>50.00</td>\n",
              "      <td>65.0</td>\n",
              "      <td>80.00</td>\n",
              "      <td>255.0</td>\n",
              "    </tr>\n",
              "    <tr>\n",
              "      <th>Attack</th>\n",
              "      <td>800.0</td>\n",
              "      <td>79.00125</td>\n",
              "      <td>32.457366</td>\n",
              "      <td>5.0</td>\n",
              "      <td>55.00</td>\n",
              "      <td>75.0</td>\n",
              "      <td>100.00</td>\n",
              "      <td>190.0</td>\n",
              "    </tr>\n",
              "    <tr>\n",
              "      <th>Defense</th>\n",
              "      <td>800.0</td>\n",
              "      <td>73.84250</td>\n",
              "      <td>31.183501</td>\n",
              "      <td>5.0</td>\n",
              "      <td>50.00</td>\n",
              "      <td>70.0</td>\n",
              "      <td>90.00</td>\n",
              "      <td>230.0</td>\n",
              "    </tr>\n",
              "    <tr>\n",
              "      <th>Sp. Atk</th>\n",
              "      <td>800.0</td>\n",
              "      <td>72.82000</td>\n",
              "      <td>32.722294</td>\n",
              "      <td>10.0</td>\n",
              "      <td>49.75</td>\n",
              "      <td>65.0</td>\n",
              "      <td>95.00</td>\n",
              "      <td>194.0</td>\n",
              "    </tr>\n",
              "    <tr>\n",
              "      <th>Sp. Def</th>\n",
              "      <td>800.0</td>\n",
              "      <td>71.90250</td>\n",
              "      <td>27.828916</td>\n",
              "      <td>20.0</td>\n",
              "      <td>50.00</td>\n",
              "      <td>70.0</td>\n",
              "      <td>90.00</td>\n",
              "      <td>230.0</td>\n",
              "    </tr>\n",
              "    <tr>\n",
              "      <th>Speed</th>\n",
              "      <td>800.0</td>\n",
              "      <td>68.27750</td>\n",
              "      <td>29.060474</td>\n",
              "      <td>5.0</td>\n",
              "      <td>45.00</td>\n",
              "      <td>65.0</td>\n",
              "      <td>90.00</td>\n",
              "      <td>180.0</td>\n",
              "    </tr>\n",
              "    <tr>\n",
              "      <th>Generation</th>\n",
              "      <td>800.0</td>\n",
              "      <td>3.32375</td>\n",
              "      <td>1.661290</td>\n",
              "      <td>1.0</td>\n",
              "      <td>2.00</td>\n",
              "      <td>3.0</td>\n",
              "      <td>5.00</td>\n",
              "      <td>6.0</td>\n",
              "    </tr>\n",
              "  </tbody>\n",
              "</table>\n",
              "</div>"
            ],
            "text/plain": [
              "            count       mean         std    min     25%    50%     75%    max\n",
              "#           800.0  362.81375  208.343798    1.0  184.75  364.5  539.25  721.0\n",
              "Total       800.0  435.10250  119.963040  180.0  330.00  450.0  515.00  780.0\n",
              "HP          800.0   69.25875   25.534669    1.0   50.00   65.0   80.00  255.0\n",
              "Attack      800.0   79.00125   32.457366    5.0   55.00   75.0  100.00  190.0\n",
              "Defense     800.0   73.84250   31.183501    5.0   50.00   70.0   90.00  230.0\n",
              "Sp. Atk     800.0   72.82000   32.722294   10.0   49.75   65.0   95.00  194.0\n",
              "Sp. Def     800.0   71.90250   27.828916   20.0   50.00   70.0   90.00  230.0\n",
              "Speed       800.0   68.27750   29.060474    5.0   45.00   65.0   90.00  180.0\n",
              "Generation  800.0    3.32375    1.661290    1.0    2.00    3.0    5.00    6.0"
            ]
          },
          "execution_count": 47,
          "metadata": {
            "tags": []
          },
          "output_type": "execute_result"
        }
      ],
      "source": [
        "df.describe().T"
      ]
    },
    {
      "cell_type": "markdown",
      "metadata": {
        "id": "bTgMhMzqFHfq"
      },
      "source": [
        "####**Rounding**"
      ]
    },
    {
      "cell_type": "markdown",
      "metadata": {
        "id": "PO72hf96GcJG"
      },
      "source": [
        "."
      ]
    },
    {
      "cell_type": "markdown",
      "metadata": {
        "id": "EthIw9IzFnIn"
      },
      "source": [
        "In most of the cases, when dealing with *continuous numerical values*, you might want cut off the many decimal points and *round* your values on a scale of **1-10** or **1-100**.\n",
        "\n",
        "Let's see how we will do that below."
      ]
    },
    {
      "cell_type": "code",
      "execution_count": null,
      "metadata": {
        "id": "CuEH1z6-xjwU",
        "vscode": {
          "languageId": "python"
        }
      },
      "outputs": [],
      "source": [
        "item_df = pd.read_csv('/content/item_popularity.txt', encoding='utf-8') "
      ]
    },
    {
      "cell_type": "code",
      "execution_count": null,
      "metadata": {
        "colab": {
          "base_uri": "https://localhost:8080/",
          "height": 204
        },
        "id": "-22SZZhNA4_4",
        "outputId": "1495ab85-92fa-4561-9e5f-99850b43a299",
        "vscode": {
          "languageId": "python"
        }
      },
      "outputs": [
        {
          "data": {
            "text/html": [
              "<div>\n",
              "<style scoped>\n",
              "    .dataframe tbody tr th:only-of-type {\n",
              "        vertical-align: middle;\n",
              "    }\n",
              "\n",
              "    .dataframe tbody tr th {\n",
              "        vertical-align: top;\n",
              "    }\n",
              "\n",
              "    .dataframe thead th {\n",
              "        text-align: right;\n",
              "    }\n",
              "</style>\n",
              "<table border=\"1\" class=\"dataframe\">\n",
              "  <thead>\n",
              "    <tr style=\"text-align: right;\">\n",
              "      <th></th>\n",
              "      <th>item_id</th>\n",
              "      <th>pop_percent</th>\n",
              "    </tr>\n",
              "  </thead>\n",
              "  <tbody>\n",
              "    <tr>\n",
              "      <th>0</th>\n",
              "      <td>it_01345</td>\n",
              "      <td>0.98324</td>\n",
              "    </tr>\n",
              "    <tr>\n",
              "      <th>1</th>\n",
              "      <td>it_03431</td>\n",
              "      <td>0.56123</td>\n",
              "    </tr>\n",
              "    <tr>\n",
              "      <th>2</th>\n",
              "      <td>it_04572</td>\n",
              "      <td>0.12098</td>\n",
              "    </tr>\n",
              "    <tr>\n",
              "      <th>3</th>\n",
              "      <td>it_98021</td>\n",
              "      <td>0.35476</td>\n",
              "    </tr>\n",
              "    <tr>\n",
              "      <th>4</th>\n",
              "      <td>it_01298</td>\n",
              "      <td>0.92101</td>\n",
              "    </tr>\n",
              "  </tbody>\n",
              "</table>\n",
              "</div>"
            ],
            "text/plain": [
              "    item_id  pop_percent\n",
              "0  it_01345      0.98324\n",
              "1  it_03431      0.56123\n",
              "2  it_04572      0.12098\n",
              "3  it_98021      0.35476\n",
              "4  it_01298      0.92101"
            ]
          },
          "execution_count": 46,
          "metadata": {
            "tags": []
          },
          "output_type": "execute_result"
        }
      ],
      "source": [
        "item_df.head()"
      ]
    },
    {
      "cell_type": "markdown",
      "metadata": {
        "id": "mufC-WNpGlq6"
      },
      "source": [
        "Let's round the **pop_percent** on a scale of **1-10** and also **1-100**."
      ]
    },
    {
      "cell_type": "code",
      "execution_count": null,
      "metadata": {
        "colab": {
          "base_uri": "https://localhost:8080/"
        },
        "id": "iZFGCZlC3_7A",
        "outputId": "4aa7bfb9-42b1-4d58-870f-bd3fdad9891a",
        "vscode": {
          "languageId": "python"
        }
      },
      "outputs": [
        {
          "data": {
            "text/plain": [
              "9.8324"
            ]
          },
          "execution_count": 50,
          "metadata": {
            "tags": []
          },
          "output_type": "execute_result"
        }
      ],
      "source": [
        "0.98324*10"
      ]
    },
    {
      "cell_type": "code",
      "execution_count": null,
      "metadata": {
        "colab": {
          "base_uri": "https://localhost:8080/"
        },
        "id": "u4sX-uWK30v7",
        "outputId": "be5b8f19-cafe-4311-ad34-25e8f2298621",
        "vscode": {
          "languageId": "python"
        }
      },
      "outputs": [
        {
          "data": {
            "text/plain": [
              "10.0"
            ]
          },
          "execution_count": 49,
          "metadata": {
            "tags": []
          },
          "output_type": "execute_result"
        }
      ],
      "source": [
        "np.round(0.98324*10)"
      ]
    },
    {
      "cell_type": "code",
      "execution_count": null,
      "metadata": {
        "colab": {
          "base_uri": "https://localhost:8080/",
          "height": 266
        },
        "id": "BJdeEaJvA75k",
        "outputId": "94a704a3-8469-43f8-9922-ea06c55b2631",
        "vscode": {
          "languageId": "python"
        }
      },
      "outputs": [
        {
          "data": {
            "text/html": [
              "<div>\n",
              "<style scoped>\n",
              "    .dataframe tbody tr th:only-of-type {\n",
              "        vertical-align: middle;\n",
              "    }\n",
              "\n",
              "    .dataframe tbody tr th {\n",
              "        vertical-align: top;\n",
              "    }\n",
              "\n",
              "    .dataframe thead th {\n",
              "        text-align: right;\n",
              "    }\n",
              "</style>\n",
              "<table border=\"1\" class=\"dataframe\">\n",
              "  <thead>\n",
              "    <tr style=\"text-align: right;\">\n",
              "      <th></th>\n",
              "      <th>item_id</th>\n",
              "      <th>pop_percent</th>\n",
              "      <th>pop_percent(1-10)</th>\n",
              "      <th>pop_percent(1-100)</th>\n",
              "    </tr>\n",
              "  </thead>\n",
              "  <tbody>\n",
              "    <tr>\n",
              "      <th>0</th>\n",
              "      <td>it_01345</td>\n",
              "      <td>0.98324</td>\n",
              "      <td>10</td>\n",
              "      <td>98</td>\n",
              "    </tr>\n",
              "    <tr>\n",
              "      <th>1</th>\n",
              "      <td>it_03431</td>\n",
              "      <td>0.56123</td>\n",
              "      <td>6</td>\n",
              "      <td>56</td>\n",
              "    </tr>\n",
              "    <tr>\n",
              "      <th>2</th>\n",
              "      <td>it_04572</td>\n",
              "      <td>0.12098</td>\n",
              "      <td>1</td>\n",
              "      <td>12</td>\n",
              "    </tr>\n",
              "    <tr>\n",
              "      <th>3</th>\n",
              "      <td>it_98021</td>\n",
              "      <td>0.35476</td>\n",
              "      <td>4</td>\n",
              "      <td>35</td>\n",
              "    </tr>\n",
              "    <tr>\n",
              "      <th>4</th>\n",
              "      <td>it_01298</td>\n",
              "      <td>0.92101</td>\n",
              "      <td>9</td>\n",
              "      <td>92</td>\n",
              "    </tr>\n",
              "    <tr>\n",
              "      <th>5</th>\n",
              "      <td>it_90120</td>\n",
              "      <td>0.81212</td>\n",
              "      <td>8</td>\n",
              "      <td>81</td>\n",
              "    </tr>\n",
              "    <tr>\n",
              "      <th>6</th>\n",
              "      <td>it_10123</td>\n",
              "      <td>0.56502</td>\n",
              "      <td>6</td>\n",
              "      <td>57</td>\n",
              "    </tr>\n",
              "  </tbody>\n",
              "</table>\n",
              "</div>"
            ],
            "text/plain": [
              "    item_id  pop_percent  pop_percent(1-10)  pop_percent(1-100)\n",
              "0  it_01345      0.98324                 10                  98\n",
              "1  it_03431      0.56123                  6                  56\n",
              "2  it_04572      0.12098                  1                  12\n",
              "3  it_98021      0.35476                  4                  35\n",
              "4  it_01298      0.92101                  9                  92\n",
              "5  it_90120      0.81212                  8                  81\n",
              "6  it_10123      0.56502                  6                  57"
            ]
          },
          "execution_count": 47,
          "metadata": {
            "tags": []
          },
          "output_type": "execute_result"
        }
      ],
      "source": [
        "item_df['pop_percent(1-10)'] = np.array(\n",
        "                   np.round((item_df['pop_percent'] * 10)),  \n",
        "                   dtype='int')\n",
        "\n",
        "\n",
        "item_df['pop_percent(1-100)'] = np.array(\n",
        "                  np.round((item_df['pop_percent'] * 100)),    \n",
        "                  dtype='int')\n",
        "item_df\n"
      ]
    },
    {
      "cell_type": "markdown",
      "metadata": {
        "id": "gQf9knmvG-mJ"
      },
      "source": [
        "We can therefore use these values both as numerical or categorical features based on the business problem and objective.\n"
      ]
    },
    {
      "cell_type": "markdown",
      "metadata": {
        "id": "gYHl_2PbQpS4"
      },
      "source": [
        "##From **Continous** To **Categorical**"
      ]
    },
    {
      "cell_type": "markdown",
      "metadata": {
        "id": "cP4TsF6MJrnU"
      },
      "source": [
        "###**Counts**"
      ]
    },
    {
      "cell_type": "markdown",
      "metadata": {
        "id": "B4dZRT6UJ_MO"
      },
      "source": [
        "Let's talk about numerical datasets which talk about **Counts or Frequencie** of items.\n",
        " \n",
        "We will use the *millionsong dataset* which shows the **counts or frequencies** of songs which have been heard by various users."
      ]
    },
    {
      "cell_type": "code",
      "execution_count": null,
      "metadata": {
        "id": "zHJSX8MpHCOd",
        "vscode": {
          "languageId": "python"
        }
      },
      "outputs": [],
      "source": [
        "song=pd.read_csv('/content/song_views.txt',encoding='utf-8')\n",
        "song.drop(['user_id','song_id'],axis=1,inplace=True)"
      ]
    },
    {
      "cell_type": "code",
      "execution_count": null,
      "metadata": {
        "colab": {
          "base_uri": "https://localhost:8080/",
          "height": 669
        },
        "id": "RQHvJzMBJnQ5",
        "outputId": "d289f07a-650c-495b-e9cb-27a892a42c8d",
        "vscode": {
          "languageId": "python"
        }
      },
      "outputs": [
        {
          "data": {
            "text/html": [
              "<div>\n",
              "<style scoped>\n",
              "    .dataframe tbody tr th:only-of-type {\n",
              "        vertical-align: middle;\n",
              "    }\n",
              "\n",
              "    .dataframe tbody tr th {\n",
              "        vertical-align: top;\n",
              "    }\n",
              "\n",
              "    .dataframe thead th {\n",
              "        text-align: right;\n",
              "    }\n",
              "</style>\n",
              "<table border=\"1\" class=\"dataframe\">\n",
              "  <thead>\n",
              "    <tr style=\"text-align: right;\">\n",
              "      <th></th>\n",
              "      <th>title</th>\n",
              "      <th>listen_count</th>\n",
              "    </tr>\n",
              "  </thead>\n",
              "  <tbody>\n",
              "    <tr>\n",
              "      <th>0</th>\n",
              "      <td>You're The One</td>\n",
              "      <td>2</td>\n",
              "    </tr>\n",
              "    <tr>\n",
              "      <th>1</th>\n",
              "      <td>You're The One</td>\n",
              "      <td>0</td>\n",
              "    </tr>\n",
              "    <tr>\n",
              "      <th>2</th>\n",
              "      <td>You're The One</td>\n",
              "      <td>0</td>\n",
              "    </tr>\n",
              "    <tr>\n",
              "      <th>3</th>\n",
              "      <td>You're The One</td>\n",
              "      <td>0</td>\n",
              "    </tr>\n",
              "    <tr>\n",
              "      <th>4</th>\n",
              "      <td>You're The One</td>\n",
              "      <td>0</td>\n",
              "    </tr>\n",
              "    <tr>\n",
              "      <th>5</th>\n",
              "      <td>You're The One</td>\n",
              "      <td>0</td>\n",
              "    </tr>\n",
              "    <tr>\n",
              "      <th>6</th>\n",
              "      <td>You're The One</td>\n",
              "      <td>17</td>\n",
              "    </tr>\n",
              "    <tr>\n",
              "      <th>7</th>\n",
              "      <td>You're The One</td>\n",
              "      <td>0</td>\n",
              "    </tr>\n",
              "    <tr>\n",
              "      <th>8</th>\n",
              "      <td>You're The One</td>\n",
              "      <td>68</td>\n",
              "    </tr>\n",
              "    <tr>\n",
              "      <th>9</th>\n",
              "      <td>You're The One</td>\n",
              "      <td>0</td>\n",
              "    </tr>\n",
              "    <tr>\n",
              "      <th>10</th>\n",
              "      <td>You're The One</td>\n",
              "      <td>1</td>\n",
              "    </tr>\n",
              "    <tr>\n",
              "      <th>11</th>\n",
              "      <td>You're The One</td>\n",
              "      <td>0</td>\n",
              "    </tr>\n",
              "    <tr>\n",
              "      <th>12</th>\n",
              "      <td>You're The One</td>\n",
              "      <td>0</td>\n",
              "    </tr>\n",
              "    <tr>\n",
              "      <th>13</th>\n",
              "      <td>You're The One</td>\n",
              "      <td>0</td>\n",
              "    </tr>\n",
              "    <tr>\n",
              "      <th>14</th>\n",
              "      <td>You're The One</td>\n",
              "      <td>0</td>\n",
              "    </tr>\n",
              "    <tr>\n",
              "      <th>15</th>\n",
              "      <td>You're The One</td>\n",
              "      <td>0</td>\n",
              "    </tr>\n",
              "    <tr>\n",
              "      <th>16</th>\n",
              "      <td>You're The One</td>\n",
              "      <td>20</td>\n",
              "    </tr>\n",
              "    <tr>\n",
              "      <th>17</th>\n",
              "      <td>You're The One</td>\n",
              "      <td>0</td>\n",
              "    </tr>\n",
              "    <tr>\n",
              "      <th>18</th>\n",
              "      <td>You're The One</td>\n",
              "      <td>0</td>\n",
              "    </tr>\n",
              "    <tr>\n",
              "      <th>19</th>\n",
              "      <td>You're The One</td>\n",
              "      <td>1</td>\n",
              "    </tr>\n",
              "  </tbody>\n",
              "</table>\n",
              "</div>"
            ],
            "text/plain": [
              "             title  listen_count\n",
              "0   You're The One             2\n",
              "1   You're The One             0\n",
              "2   You're The One             0\n",
              "3   You're The One             0\n",
              "4   You're The One             0\n",
              "5   You're The One             0\n",
              "6   You're The One            17\n",
              "7   You're The One             0\n",
              "8   You're The One            68\n",
              "9   You're The One             0\n",
              "10  You're The One             1\n",
              "11  You're The One             0\n",
              "12  You're The One             0\n",
              "13  You're The One             0\n",
              "14  You're The One             0\n",
              "15  You're The One             0\n",
              "16  You're The One            20\n",
              "17  You're The One             0\n",
              "18  You're The One             0\n",
              "19  You're The One             1"
            ]
          },
          "execution_count": 54,
          "metadata": {
            "tags": []
          },
          "output_type": "execute_result"
        }
      ],
      "source": [
        "song.head(20)"
      ]
    },
    {
      "cell_type": "markdown",
      "metadata": {
        "id": "w_KZ0KeLKvfB"
      },
      "source": [
        "From the above dataset, we can see a feature named as ***listen_count***, this feature shows the number of times a user has listened to a song.\n",
        "\n",
        "What if according to our business problem statement, we are only interested in whether a person has listened to a particular song or not in order to make song recommendation?\n",
        "\n",
        "In such a scenario, we will not need to know how many times the user has listened to the song, we just have to figure out whether or not the person has listened to the song.\n",
        "\n",
        "We will therefore do what is called **Binarization**"
      ]
    },
    {
      "cell_type": "markdown",
      "metadata": {
        "id": "wV9ljm9PMMP0"
      },
      "source": [
        "<br>\n",
        "\n",
        "###**Binarization**"
      ]
    },
    {
      "cell_type": "markdown",
      "metadata": {
        "id": "ivP9wc8HNvpb"
      },
      "source": [
        "Binarization is the process of transforming data features of any entity into vectors of binary numbers. Mostly used in transforming an image's gray-scale from the 0-255 spectrum to a 0-1 spectrum"
      ]
    },
    {
      "cell_type": "markdown",
      "metadata": {
        "id": "DNQMBhrlOc6C"
      },
      "source": [
        "**Manual Process**"
      ]
    },
    {
      "cell_type": "code",
      "execution_count": null,
      "metadata": {
        "id": "Z4IPrlGtJpBH",
        "vscode": {
          "languageId": "python"
        }
      },
      "outputs": [],
      "source": [
        "has_watched = np.array(song['listen_count'])\n",
        "\n",
        "#let's make all values greater than or equal to (>=) 1 as 1. \n",
        "#Tha's, all users that have listened to the song, either once or more are counted as \"has_watched\". \n",
        "#Since those who have not watched are already marked as zero(0), there's no need to worry about them.\n",
        "\n",
        "has_watched[has_watched >= 1] = 1\n",
        "\n",
        "#add to the dataframe\n",
        "\n",
        "song['has_watched'] = has_watched"
      ]
    },
    {
      "cell_type": "code",
      "execution_count": null,
      "metadata": {
        "colab": {
          "base_uri": "https://localhost:8080/",
          "height": 669
        },
        "id": "z59q089nNj3A",
        "outputId": "bf35b353-edfb-4b1d-eec3-553ab769f2e8",
        "vscode": {
          "languageId": "python"
        }
      },
      "outputs": [
        {
          "data": {
            "text/html": [
              "<div>\n",
              "<style scoped>\n",
              "    .dataframe tbody tr th:only-of-type {\n",
              "        vertical-align: middle;\n",
              "    }\n",
              "\n",
              "    .dataframe tbody tr th {\n",
              "        vertical-align: top;\n",
              "    }\n",
              "\n",
              "    .dataframe thead th {\n",
              "        text-align: right;\n",
              "    }\n",
              "</style>\n",
              "<table border=\"1\" class=\"dataframe\">\n",
              "  <thead>\n",
              "    <tr style=\"text-align: right;\">\n",
              "      <th></th>\n",
              "      <th>title</th>\n",
              "      <th>listen_count</th>\n",
              "      <th>has_watched</th>\n",
              "    </tr>\n",
              "  </thead>\n",
              "  <tbody>\n",
              "    <tr>\n",
              "      <th>0</th>\n",
              "      <td>You're The One</td>\n",
              "      <td>2</td>\n",
              "      <td>1</td>\n",
              "    </tr>\n",
              "    <tr>\n",
              "      <th>1</th>\n",
              "      <td>You're The One</td>\n",
              "      <td>0</td>\n",
              "      <td>0</td>\n",
              "    </tr>\n",
              "    <tr>\n",
              "      <th>2</th>\n",
              "      <td>You're The One</td>\n",
              "      <td>0</td>\n",
              "      <td>0</td>\n",
              "    </tr>\n",
              "    <tr>\n",
              "      <th>3</th>\n",
              "      <td>You're The One</td>\n",
              "      <td>0</td>\n",
              "      <td>0</td>\n",
              "    </tr>\n",
              "    <tr>\n",
              "      <th>4</th>\n",
              "      <td>You're The One</td>\n",
              "      <td>0</td>\n",
              "      <td>0</td>\n",
              "    </tr>\n",
              "    <tr>\n",
              "      <th>5</th>\n",
              "      <td>You're The One</td>\n",
              "      <td>0</td>\n",
              "      <td>0</td>\n",
              "    </tr>\n",
              "    <tr>\n",
              "      <th>6</th>\n",
              "      <td>You're The One</td>\n",
              "      <td>17</td>\n",
              "      <td>1</td>\n",
              "    </tr>\n",
              "    <tr>\n",
              "      <th>7</th>\n",
              "      <td>You're The One</td>\n",
              "      <td>0</td>\n",
              "      <td>0</td>\n",
              "    </tr>\n",
              "    <tr>\n",
              "      <th>8</th>\n",
              "      <td>You're The One</td>\n",
              "      <td>68</td>\n",
              "      <td>1</td>\n",
              "    </tr>\n",
              "    <tr>\n",
              "      <th>9</th>\n",
              "      <td>You're The One</td>\n",
              "      <td>0</td>\n",
              "      <td>0</td>\n",
              "    </tr>\n",
              "    <tr>\n",
              "      <th>10</th>\n",
              "      <td>You're The One</td>\n",
              "      <td>1</td>\n",
              "      <td>1</td>\n",
              "    </tr>\n",
              "    <tr>\n",
              "      <th>11</th>\n",
              "      <td>You're The One</td>\n",
              "      <td>0</td>\n",
              "      <td>0</td>\n",
              "    </tr>\n",
              "    <tr>\n",
              "      <th>12</th>\n",
              "      <td>You're The One</td>\n",
              "      <td>0</td>\n",
              "      <td>0</td>\n",
              "    </tr>\n",
              "    <tr>\n",
              "      <th>13</th>\n",
              "      <td>You're The One</td>\n",
              "      <td>0</td>\n",
              "      <td>0</td>\n",
              "    </tr>\n",
              "    <tr>\n",
              "      <th>14</th>\n",
              "      <td>You're The One</td>\n",
              "      <td>0</td>\n",
              "      <td>0</td>\n",
              "    </tr>\n",
              "    <tr>\n",
              "      <th>15</th>\n",
              "      <td>You're The One</td>\n",
              "      <td>0</td>\n",
              "      <td>0</td>\n",
              "    </tr>\n",
              "    <tr>\n",
              "      <th>16</th>\n",
              "      <td>You're The One</td>\n",
              "      <td>20</td>\n",
              "      <td>1</td>\n",
              "    </tr>\n",
              "    <tr>\n",
              "      <th>17</th>\n",
              "      <td>You're The One</td>\n",
              "      <td>0</td>\n",
              "      <td>0</td>\n",
              "    </tr>\n",
              "    <tr>\n",
              "      <th>18</th>\n",
              "      <td>You're The One</td>\n",
              "      <td>0</td>\n",
              "      <td>0</td>\n",
              "    </tr>\n",
              "    <tr>\n",
              "      <th>19</th>\n",
              "      <td>You're The One</td>\n",
              "      <td>1</td>\n",
              "      <td>1</td>\n",
              "    </tr>\n",
              "  </tbody>\n",
              "</table>\n",
              "</div>"
            ],
            "text/plain": [
              "             title  listen_count  has_watched\n",
              "0   You're The One             2            1\n",
              "1   You're The One             0            0\n",
              "2   You're The One             0            0\n",
              "3   You're The One             0            0\n",
              "4   You're The One             0            0\n",
              "5   You're The One             0            0\n",
              "6   You're The One            17            1\n",
              "7   You're The One             0            0\n",
              "8   You're The One            68            1\n",
              "9   You're The One             0            0\n",
              "10  You're The One             1            1\n",
              "11  You're The One             0            0\n",
              "12  You're The One             0            0\n",
              "13  You're The One             0            0\n",
              "14  You're The One             0            0\n",
              "15  You're The One             0            0\n",
              "16  You're The One            20            1\n",
              "17  You're The One             0            0\n",
              "18  You're The One             0            0\n",
              "19  You're The One             1            1"
            ]
          },
          "execution_count": 41,
          "metadata": {
            "tags": []
          },
          "output_type": "execute_result"
        }
      ],
      "source": [
        "song.head(20)"
      ]
    },
    {
      "cell_type": "markdown",
      "metadata": {
        "id": "IhvmoMM4OoKh"
      },
      "source": [
        "<br>\n",
        "\n",
        "**Scikit-learn:** Binarizer\n",
        "\n",
        "Scikit-learn's Binarizer will also help us to achieve the same thing."
      ]
    },
    {
      "cell_type": "code",
      "execution_count": null,
      "metadata": {
        "id": "4KEchasSNmrS",
        "vscode": {
          "languageId": "python"
        }
      },
      "outputs": [],
      "source": [
        "#import the Binarizer library\n",
        "from sklearn.preprocessing import Binarizer\n",
        "\n",
        "bin = Binarizer(threshold=0.9)\n",
        "Scikit_has_watched = bin.transform([song['listen_count']])[0]\n",
        "song['Scikit_has_watched'] = Scikit_has_watched"
      ]
    },
    {
      "cell_type": "code",
      "execution_count": null,
      "metadata": {
        "colab": {
          "base_uri": "https://localhost:8080/",
          "height": 669
        },
        "id": "hfsg7QwaQdZN",
        "outputId": "173aa254-c259-413e-e1b8-9dd15146a5c7",
        "vscode": {
          "languageId": "python"
        }
      },
      "outputs": [
        {
          "data": {
            "text/html": [
              "<div>\n",
              "<style scoped>\n",
              "    .dataframe tbody tr th:only-of-type {\n",
              "        vertical-align: middle;\n",
              "    }\n",
              "\n",
              "    .dataframe tbody tr th {\n",
              "        vertical-align: top;\n",
              "    }\n",
              "\n",
              "    .dataframe thead th {\n",
              "        text-align: right;\n",
              "    }\n",
              "</style>\n",
              "<table border=\"1\" class=\"dataframe\">\n",
              "  <thead>\n",
              "    <tr style=\"text-align: right;\">\n",
              "      <th></th>\n",
              "      <th>title</th>\n",
              "      <th>listen_count</th>\n",
              "      <th>has_watched</th>\n",
              "      <th>Scikit_has_watched</th>\n",
              "    </tr>\n",
              "  </thead>\n",
              "  <tbody>\n",
              "    <tr>\n",
              "      <th>0</th>\n",
              "      <td>You're The One</td>\n",
              "      <td>2</td>\n",
              "      <td>1</td>\n",
              "      <td>1</td>\n",
              "    </tr>\n",
              "    <tr>\n",
              "      <th>1</th>\n",
              "      <td>You're The One</td>\n",
              "      <td>0</td>\n",
              "      <td>0</td>\n",
              "      <td>0</td>\n",
              "    </tr>\n",
              "    <tr>\n",
              "      <th>2</th>\n",
              "      <td>You're The One</td>\n",
              "      <td>0</td>\n",
              "      <td>0</td>\n",
              "      <td>0</td>\n",
              "    </tr>\n",
              "    <tr>\n",
              "      <th>3</th>\n",
              "      <td>You're The One</td>\n",
              "      <td>0</td>\n",
              "      <td>0</td>\n",
              "      <td>0</td>\n",
              "    </tr>\n",
              "    <tr>\n",
              "      <th>4</th>\n",
              "      <td>You're The One</td>\n",
              "      <td>0</td>\n",
              "      <td>0</td>\n",
              "      <td>0</td>\n",
              "    </tr>\n",
              "    <tr>\n",
              "      <th>5</th>\n",
              "      <td>You're The One</td>\n",
              "      <td>0</td>\n",
              "      <td>0</td>\n",
              "      <td>0</td>\n",
              "    </tr>\n",
              "    <tr>\n",
              "      <th>6</th>\n",
              "      <td>You're The One</td>\n",
              "      <td>17</td>\n",
              "      <td>1</td>\n",
              "      <td>1</td>\n",
              "    </tr>\n",
              "    <tr>\n",
              "      <th>7</th>\n",
              "      <td>You're The One</td>\n",
              "      <td>0</td>\n",
              "      <td>0</td>\n",
              "      <td>0</td>\n",
              "    </tr>\n",
              "    <tr>\n",
              "      <th>8</th>\n",
              "      <td>You're The One</td>\n",
              "      <td>68</td>\n",
              "      <td>1</td>\n",
              "      <td>1</td>\n",
              "    </tr>\n",
              "    <tr>\n",
              "      <th>9</th>\n",
              "      <td>You're The One</td>\n",
              "      <td>0</td>\n",
              "      <td>0</td>\n",
              "      <td>0</td>\n",
              "    </tr>\n",
              "    <tr>\n",
              "      <th>10</th>\n",
              "      <td>You're The One</td>\n",
              "      <td>1</td>\n",
              "      <td>1</td>\n",
              "      <td>1</td>\n",
              "    </tr>\n",
              "    <tr>\n",
              "      <th>11</th>\n",
              "      <td>You're The One</td>\n",
              "      <td>0</td>\n",
              "      <td>0</td>\n",
              "      <td>0</td>\n",
              "    </tr>\n",
              "    <tr>\n",
              "      <th>12</th>\n",
              "      <td>You're The One</td>\n",
              "      <td>0</td>\n",
              "      <td>0</td>\n",
              "      <td>0</td>\n",
              "    </tr>\n",
              "    <tr>\n",
              "      <th>13</th>\n",
              "      <td>You're The One</td>\n",
              "      <td>0</td>\n",
              "      <td>0</td>\n",
              "      <td>0</td>\n",
              "    </tr>\n",
              "    <tr>\n",
              "      <th>14</th>\n",
              "      <td>You're The One</td>\n",
              "      <td>0</td>\n",
              "      <td>0</td>\n",
              "      <td>0</td>\n",
              "    </tr>\n",
              "    <tr>\n",
              "      <th>15</th>\n",
              "      <td>You're The One</td>\n",
              "      <td>0</td>\n",
              "      <td>0</td>\n",
              "      <td>0</td>\n",
              "    </tr>\n",
              "    <tr>\n",
              "      <th>16</th>\n",
              "      <td>You're The One</td>\n",
              "      <td>20</td>\n",
              "      <td>1</td>\n",
              "      <td>1</td>\n",
              "    </tr>\n",
              "    <tr>\n",
              "      <th>17</th>\n",
              "      <td>You're The One</td>\n",
              "      <td>0</td>\n",
              "      <td>0</td>\n",
              "      <td>0</td>\n",
              "    </tr>\n",
              "    <tr>\n",
              "      <th>18</th>\n",
              "      <td>You're The One</td>\n",
              "      <td>0</td>\n",
              "      <td>0</td>\n",
              "      <td>0</td>\n",
              "    </tr>\n",
              "    <tr>\n",
              "      <th>19</th>\n",
              "      <td>You're The One</td>\n",
              "      <td>1</td>\n",
              "      <td>1</td>\n",
              "      <td>1</td>\n",
              "    </tr>\n",
              "  </tbody>\n",
              "</table>\n",
              "</div>"
            ],
            "text/plain": [
              "             title  listen_count  has_watched  Scikit_has_watched\n",
              "0   You're The One             2            1                   1\n",
              "1   You're The One             0            0                   0\n",
              "2   You're The One             0            0                   0\n",
              "3   You're The One             0            0                   0\n",
              "4   You're The One             0            0                   0\n",
              "5   You're The One             0            0                   0\n",
              "6   You're The One            17            1                   1\n",
              "7   You're The One             0            0                   0\n",
              "8   You're The One            68            1                   1\n",
              "9   You're The One             0            0                   0\n",
              "10  You're The One             1            1                   1\n",
              "11  You're The One             0            0                   0\n",
              "12  You're The One             0            0                   0\n",
              "13  You're The One             0            0                   0\n",
              "14  You're The One             0            0                   0\n",
              "15  You're The One             0            0                   0\n",
              "16  You're The One            20            1                   1\n",
              "17  You're The One             0            0                   0\n",
              "18  You're The One             0            0                   0\n",
              "19  You're The One             1            1                   1"
            ]
          },
          "execution_count": 66,
          "metadata": {
            "tags": []
          },
          "output_type": "execute_result"
        }
      ],
      "source": [
        "song.head(20)"
      ]
    },
    {
      "cell_type": "code",
      "execution_count": null,
      "metadata": {
        "id": "Se-TJe01Qf8u",
        "vscode": {
          "languageId": "python"
        }
      },
      "outputs": [],
      "source": []
    },
    {
      "cell_type": "markdown",
      "metadata": {
        "id": "WZvwe6wYRRah"
      },
      "source": [
        "###**Binning/Quantization or Bucketing**"
      ]
    },
    {
      "cell_type": "markdown",
      "metadata": {
        "id": "sWvFfvPRRikx"
      },
      "source": [
        "Logically some songs will have range of values higher than other. That is, some songs have more number of views than others and therefore the count range will be skewed. This will make some of the values occur more frequently than others.\n",
        "\n",
        "Binning/Quantization is used for transforming continuous numeric features into discrete ones (categories).\n",
        "\n",
        "We create categories or bins and then put the raw, continuous numeric values into these bins or groups.\n",
        "\n",
        "Let's see how we do this with an example."
      ]
    },
    {
      "cell_type": "code",
      "execution_count": null,
      "metadata": {
        "id": "J4BwrDlTRb4L",
        "vscode": {
          "languageId": "python"
        }
      },
      "outputs": [],
      "source": [
        "fcc=pd.read_csv('/content/fcc_2016.csv',encoding='utf-8')"
      ]
    },
    {
      "cell_type": "code",
      "execution_count": null,
      "metadata": {
        "colab": {
          "base_uri": "https://localhost:8080/",
          "height": 428
        },
        "id": "5uu0Dus-dXsk",
        "outputId": "d1066070-3819-4dd5-e17a-437d6412d159",
        "vscode": {
          "languageId": "python"
        }
      },
      "outputs": [
        {
          "data": {
            "text/html": [
              "<div>\n",
              "<style scoped>\n",
              "    .dataframe tbody tr th:only-of-type {\n",
              "        vertical-align: middle;\n",
              "    }\n",
              "\n",
              "    .dataframe tbody tr th {\n",
              "        vertical-align: top;\n",
              "    }\n",
              "\n",
              "    .dataframe thead th {\n",
              "        text-align: right;\n",
              "    }\n",
              "</style>\n",
              "<table border=\"1\" class=\"dataframe\">\n",
              "  <thead>\n",
              "    <tr style=\"text-align: right;\">\n",
              "      <th></th>\n",
              "      <th>ID.x</th>\n",
              "      <th>Age</th>\n",
              "      <th>ChildrenNumber</th>\n",
              "      <th>CountryCitizen</th>\n",
              "      <th>EmploymentField</th>\n",
              "      <th>EmploymentStatus</th>\n",
              "      <th>ExpectedEarning</th>\n",
              "      <th>Gender</th>\n",
              "      <th>Income</th>\n",
              "      <th>JobPref</th>\n",
              "      <th>JobRoleInterest</th>\n",
              "      <th>LanguageAtHome</th>\n",
              "      <th>MaritalStatus</th>\n",
              "      <th>SchoolDegree</th>\n",
              "      <th>StudentDebtOwe</th>\n",
              "    </tr>\n",
              "  </thead>\n",
              "  <tbody>\n",
              "    <tr>\n",
              "      <th>0</th>\n",
              "      <td>cef35615d61b202f1dc794ef2746df14</td>\n",
              "      <td>28.0</td>\n",
              "      <td>NaN</td>\n",
              "      <td>United States of America</td>\n",
              "      <td>office and administrative support</td>\n",
              "      <td>Employed for wages</td>\n",
              "      <td>NaN</td>\n",
              "      <td>male</td>\n",
              "      <td>32000.0</td>\n",
              "      <td>freelance</td>\n",
              "      <td>NaN</td>\n",
              "      <td>English</td>\n",
              "      <td>married or domestic partnership</td>\n",
              "      <td>some college credit, no degree</td>\n",
              "      <td>20000.0</td>\n",
              "    </tr>\n",
              "    <tr>\n",
              "      <th>1</th>\n",
              "      <td>323e5a113644d18185c743c241407754</td>\n",
              "      <td>22.0</td>\n",
              "      <td>NaN</td>\n",
              "      <td>United States of America</td>\n",
              "      <td>food and beverage</td>\n",
              "      <td>Employed for wages</td>\n",
              "      <td>50000.0</td>\n",
              "      <td>male</td>\n",
              "      <td>15000.0</td>\n",
              "      <td>work for a startup</td>\n",
              "      <td>Front-End Web Developer</td>\n",
              "      <td>English</td>\n",
              "      <td>NaN</td>\n",
              "      <td>some college credit, no degree</td>\n",
              "      <td>NaN</td>\n",
              "    </tr>\n",
              "    <tr>\n",
              "      <th>2</th>\n",
              "      <td>b29a1027e5cd062e654a63764157461d</td>\n",
              "      <td>19.0</td>\n",
              "      <td>NaN</td>\n",
              "      <td>United States of America</td>\n",
              "      <td>finance</td>\n",
              "      <td>Employed for wages</td>\n",
              "      <td>NaN</td>\n",
              "      <td>male</td>\n",
              "      <td>48000.0</td>\n",
              "      <td>start your own business</td>\n",
              "      <td>NaN</td>\n",
              "      <td>English</td>\n",
              "      <td>NaN</td>\n",
              "      <td>high school diploma or equivalent (GED)</td>\n",
              "      <td>NaN</td>\n",
              "    </tr>\n",
              "    <tr>\n",
              "      <th>3</th>\n",
              "      <td>04a11e4bcb573a1261eb0d9948d32637</td>\n",
              "      <td>26.0</td>\n",
              "      <td>NaN</td>\n",
              "      <td>United States of America</td>\n",
              "      <td>arts, entertainment, sports, or media</td>\n",
              "      <td>Employed for wages</td>\n",
              "      <td>65000.0</td>\n",
              "      <td>female</td>\n",
              "      <td>43000.0</td>\n",
              "      <td>work for a startup</td>\n",
              "      <td>Front-End Web Developer</td>\n",
              "      <td>English</td>\n",
              "      <td>NaN</td>\n",
              "      <td>bachelor's degree</td>\n",
              "      <td>7000.0</td>\n",
              "    </tr>\n",
              "    <tr>\n",
              "      <th>4</th>\n",
              "      <td>9368291c93d5d5f5c8cdb1a575e18bec</td>\n",
              "      <td>20.0</td>\n",
              "      <td>NaN</td>\n",
              "      <td>United States of America</td>\n",
              "      <td>education</td>\n",
              "      <td>Employed for wages</td>\n",
              "      <td>45000.0</td>\n",
              "      <td>female</td>\n",
              "      <td>6000.0</td>\n",
              "      <td>work for a medium-sized company</td>\n",
              "      <td>Full-Stack Web Developer</td>\n",
              "      <td>Khmer</td>\n",
              "      <td>NaN</td>\n",
              "      <td>some college credit, no degree</td>\n",
              "      <td>NaN</td>\n",
              "    </tr>\n",
              "  </tbody>\n",
              "</table>\n",
              "</div>"
            ],
            "text/plain": [
              "                               ID.x  ...  StudentDebtOwe\n",
              "0  cef35615d61b202f1dc794ef2746df14  ...         20000.0\n",
              "1  323e5a113644d18185c743c241407754  ...             NaN\n",
              "2  b29a1027e5cd062e654a63764157461d  ...             NaN\n",
              "3  04a11e4bcb573a1261eb0d9948d32637  ...          7000.0\n",
              "4  9368291c93d5d5f5c8cdb1a575e18bec  ...             NaN\n",
              "\n",
              "[5 rows x 15 columns]"
            ]
          },
          "execution_count": 68,
          "metadata": {
            "tags": []
          },
          "output_type": "execute_result"
        }
      ],
      "source": [
        "fcc.head()"
      ]
    },
    {
      "cell_type": "markdown",
      "metadata": {
        "id": "drCHjIBVdmlt"
      },
      "source": [
        "Let's select some features to work with."
      ]
    },
    {
      "cell_type": "code",
      "execution_count": null,
      "metadata": {
        "colab": {
          "base_uri": "https://localhost:8080/",
          "height": 419
        },
        "id": "ONPAelQNdaWr",
        "outputId": "a1759d7f-50e8-4e7c-bace-fa140f75e8f9",
        "vscode": {
          "languageId": "python"
        }
      },
      "outputs": [
        {
          "data": {
            "text/html": [
              "<div>\n",
              "<style scoped>\n",
              "    .dataframe tbody tr th:only-of-type {\n",
              "        vertical-align: middle;\n",
              "    }\n",
              "\n",
              "    .dataframe tbody tr th {\n",
              "        vertical-align: top;\n",
              "    }\n",
              "\n",
              "    .dataframe thead th {\n",
              "        text-align: right;\n",
              "    }\n",
              "</style>\n",
              "<table border=\"1\" class=\"dataframe\">\n",
              "  <thead>\n",
              "    <tr style=\"text-align: right;\">\n",
              "      <th></th>\n",
              "      <th>CountryCitizen</th>\n",
              "      <th>Gender</th>\n",
              "      <th>Age</th>\n",
              "      <th>Income</th>\n",
              "    </tr>\n",
              "  </thead>\n",
              "  <tbody>\n",
              "    <tr>\n",
              "      <th>0</th>\n",
              "      <td>United States of America</td>\n",
              "      <td>male</td>\n",
              "      <td>28.0</td>\n",
              "      <td>32000.0</td>\n",
              "    </tr>\n",
              "    <tr>\n",
              "      <th>1</th>\n",
              "      <td>United States of America</td>\n",
              "      <td>male</td>\n",
              "      <td>22.0</td>\n",
              "      <td>15000.0</td>\n",
              "    </tr>\n",
              "    <tr>\n",
              "      <th>2</th>\n",
              "      <td>United States of America</td>\n",
              "      <td>male</td>\n",
              "      <td>19.0</td>\n",
              "      <td>48000.0</td>\n",
              "    </tr>\n",
              "    <tr>\n",
              "      <th>3</th>\n",
              "      <td>United States of America</td>\n",
              "      <td>female</td>\n",
              "      <td>26.0</td>\n",
              "      <td>43000.0</td>\n",
              "    </tr>\n",
              "    <tr>\n",
              "      <th>4</th>\n",
              "      <td>United States of America</td>\n",
              "      <td>female</td>\n",
              "      <td>20.0</td>\n",
              "      <td>6000.0</td>\n",
              "    </tr>\n",
              "    <tr>\n",
              "      <th>...</th>\n",
              "      <td>...</td>\n",
              "      <td>...</td>\n",
              "      <td>...</td>\n",
              "      <td>...</td>\n",
              "    </tr>\n",
              "    <tr>\n",
              "      <th>15615</th>\n",
              "      <td>Kenya</td>\n",
              "      <td>male</td>\n",
              "      <td>39.0</td>\n",
              "      <td>10000.0</td>\n",
              "    </tr>\n",
              "    <tr>\n",
              "      <th>15616</th>\n",
              "      <td>India</td>\n",
              "      <td>male</td>\n",
              "      <td>27.0</td>\n",
              "      <td>10000.0</td>\n",
              "    </tr>\n",
              "    <tr>\n",
              "      <th>15617</th>\n",
              "      <td>Nigeria</td>\n",
              "      <td>male</td>\n",
              "      <td>37.0</td>\n",
              "      <td>48000.0</td>\n",
              "    </tr>\n",
              "    <tr>\n",
              "      <th>15618</th>\n",
              "      <td>Spain</td>\n",
              "      <td>male</td>\n",
              "      <td>26.0</td>\n",
              "      <td>10000.0</td>\n",
              "    </tr>\n",
              "    <tr>\n",
              "      <th>15619</th>\n",
              "      <td>Trinidad &amp; Tobago</td>\n",
              "      <td>female</td>\n",
              "      <td>22.0</td>\n",
              "      <td>18000.0</td>\n",
              "    </tr>\n",
              "  </tbody>\n",
              "</table>\n",
              "<p>15620 rows × 4 columns</p>\n",
              "</div>"
            ],
            "text/plain": [
              "                 CountryCitizen  Gender   Age   Income\n",
              "0      United States of America    male  28.0  32000.0\n",
              "1      United States of America    male  22.0  15000.0\n",
              "2      United States of America    male  19.0  48000.0\n",
              "3      United States of America  female  26.0  43000.0\n",
              "4      United States of America  female  20.0   6000.0\n",
              "...                         ...     ...   ...      ...\n",
              "15615                     Kenya    male  39.0  10000.0\n",
              "15616                     India    male  27.0  10000.0\n",
              "15617                   Nigeria    male  37.0  48000.0\n",
              "15618                     Spain    male  26.0  10000.0\n",
              "15619         Trinidad & Tobago  female  22.0  18000.0\n",
              "\n",
              "[15620 rows x 4 columns]"
            ]
          },
          "execution_count": 72,
          "metadata": {
            "tags": []
          },
          "output_type": "execute_result"
        }
      ],
      "source": [
        "selected_fcc=fcc[['CountryCitizen','Gender','Age','Income']]\n",
        "selected_fcc"
      ]
    },
    {
      "cell_type": "code",
      "execution_count": null,
      "metadata": {
        "id": "N3e5GzyQirqa",
        "vscode": {
          "languageId": "python"
        }
      },
      "outputs": [],
      "source": [
        "import warnings\n",
        "warnings.filterwarnings(\"ignore\")"
      ]
    },
    {
      "cell_type": "code",
      "execution_count": null,
      "metadata": {
        "id": "xmIY8z5hd66r",
        "vscode": {
          "languageId": "python"
        }
      },
      "outputs": [],
      "source": [
        "#set the bin range and the bin labels or names\n",
        "bin_ranges = [0, 20, 40,60, 80, 100]\n",
        "bin_names = [1, 2, 3, 4, 5]\n",
        "\n",
        "selected_fcc['Age_bin'] = pd.cut(\n",
        "                                  np.array(\n",
        "                                  selected_fcc['Age']), \n",
        "                                  bins=bin_ranges)\n",
        "selected_fcc['Age_bin_label'] = pd.cut(\n",
        "                                       np.array(\n",
        "                                       selected_fcc['Age']), \n",
        "                                       bins=bin_ranges,            \n",
        "                                       labels=bin_names)"
      ]
    },
    {
      "cell_type": "code",
      "execution_count": null,
      "metadata": {
        "colab": {
          "base_uri": "https://localhost:8080/",
          "height": 669
        },
        "collapsed": true,
        "id": "AGhg5fJQhBCU",
        "outputId": "ce7255e7-71ff-4032-f072-3707af077927",
        "vscode": {
          "languageId": "python"
        }
      },
      "outputs": [
        {
          "data": {
            "text/html": [
              "<div>\n",
              "<style scoped>\n",
              "    .dataframe tbody tr th:only-of-type {\n",
              "        vertical-align: middle;\n",
              "    }\n",
              "\n",
              "    .dataframe tbody tr th {\n",
              "        vertical-align: top;\n",
              "    }\n",
              "\n",
              "    .dataframe thead th {\n",
              "        text-align: right;\n",
              "    }\n",
              "</style>\n",
              "<table border=\"1\" class=\"dataframe\">\n",
              "  <thead>\n",
              "    <tr style=\"text-align: right;\">\n",
              "      <th></th>\n",
              "      <th>CountryCitizen</th>\n",
              "      <th>Gender</th>\n",
              "      <th>Age</th>\n",
              "      <th>Income</th>\n",
              "      <th>Age_bin</th>\n",
              "      <th>Age_bin_label</th>\n",
              "    </tr>\n",
              "  </thead>\n",
              "  <tbody>\n",
              "    <tr>\n",
              "      <th>15600</th>\n",
              "      <td>United States of America</td>\n",
              "      <td>female</td>\n",
              "      <td>28.0</td>\n",
              "      <td>200000.0</td>\n",
              "      <td>(20, 40]</td>\n",
              "      <td>2</td>\n",
              "    </tr>\n",
              "    <tr>\n",
              "      <th>15601</th>\n",
              "      <td>United States of America</td>\n",
              "      <td>male</td>\n",
              "      <td>25.0</td>\n",
              "      <td>200000.0</td>\n",
              "      <td>(20, 40]</td>\n",
              "      <td>2</td>\n",
              "    </tr>\n",
              "    <tr>\n",
              "      <th>15602</th>\n",
              "      <td>India</td>\n",
              "      <td>male</td>\n",
              "      <td>22.0</td>\n",
              "      <td>200000.0</td>\n",
              "      <td>(20, 40]</td>\n",
              "      <td>2</td>\n",
              "    </tr>\n",
              "    <tr>\n",
              "      <th>15603</th>\n",
              "      <td>United States of America</td>\n",
              "      <td>male</td>\n",
              "      <td>33.0</td>\n",
              "      <td>200000.0</td>\n",
              "      <td>(20, 40]</td>\n",
              "      <td>2</td>\n",
              "    </tr>\n",
              "    <tr>\n",
              "      <th>15604</th>\n",
              "      <td>Portugal</td>\n",
              "      <td>male</td>\n",
              "      <td>35.0</td>\n",
              "      <td>200000.0</td>\n",
              "      <td>(20, 40]</td>\n",
              "      <td>2</td>\n",
              "    </tr>\n",
              "    <tr>\n",
              "      <th>15605</th>\n",
              "      <td>Portugal</td>\n",
              "      <td>male</td>\n",
              "      <td>31.0</td>\n",
              "      <td>200000.0</td>\n",
              "      <td>(20, 40]</td>\n",
              "      <td>2</td>\n",
              "    </tr>\n",
              "    <tr>\n",
              "      <th>15606</th>\n",
              "      <td>Canada</td>\n",
              "      <td>male</td>\n",
              "      <td>43.0</td>\n",
              "      <td>200000.0</td>\n",
              "      <td>(40, 60]</td>\n",
              "      <td>3</td>\n",
              "    </tr>\n",
              "    <tr>\n",
              "      <th>15607</th>\n",
              "      <td>Philippines</td>\n",
              "      <td>male</td>\n",
              "      <td>25.0</td>\n",
              "      <td>200000.0</td>\n",
              "      <td>(20, 40]</td>\n",
              "      <td>2</td>\n",
              "    </tr>\n",
              "    <tr>\n",
              "      <th>15608</th>\n",
              "      <td>United States of America</td>\n",
              "      <td>male</td>\n",
              "      <td>43.0</td>\n",
              "      <td>200000.0</td>\n",
              "      <td>(40, 60]</td>\n",
              "      <td>3</td>\n",
              "    </tr>\n",
              "    <tr>\n",
              "      <th>15609</th>\n",
              "      <td>Mexico</td>\n",
              "      <td>male</td>\n",
              "      <td>33.0</td>\n",
              "      <td>200000.0</td>\n",
              "      <td>(20, 40]</td>\n",
              "      <td>2</td>\n",
              "    </tr>\n",
              "    <tr>\n",
              "      <th>15610</th>\n",
              "      <td>United States of America</td>\n",
              "      <td>male</td>\n",
              "      <td>29.0</td>\n",
              "      <td>200000.0</td>\n",
              "      <td>(20, 40]</td>\n",
              "      <td>2</td>\n",
              "    </tr>\n",
              "    <tr>\n",
              "      <th>15611</th>\n",
              "      <td>India</td>\n",
              "      <td>male</td>\n",
              "      <td>37.0</td>\n",
              "      <td>200000.0</td>\n",
              "      <td>(20, 40]</td>\n",
              "      <td>2</td>\n",
              "    </tr>\n",
              "    <tr>\n",
              "      <th>15612</th>\n",
              "      <td>United States of America</td>\n",
              "      <td>female</td>\n",
              "      <td>45.0</td>\n",
              "      <td>200000.0</td>\n",
              "      <td>(40, 60]</td>\n",
              "      <td>3</td>\n",
              "    </tr>\n",
              "    <tr>\n",
              "      <th>15613</th>\n",
              "      <td>South Africa</td>\n",
              "      <td>male</td>\n",
              "      <td>30.0</td>\n",
              "      <td>200000.0</td>\n",
              "      <td>(20, 40]</td>\n",
              "      <td>2</td>\n",
              "    </tr>\n",
              "    <tr>\n",
              "      <th>15614</th>\n",
              "      <td>United States of America</td>\n",
              "      <td>male</td>\n",
              "      <td>47.0</td>\n",
              "      <td>26000.0</td>\n",
              "      <td>(40, 60]</td>\n",
              "      <td>3</td>\n",
              "    </tr>\n",
              "    <tr>\n",
              "      <th>15615</th>\n",
              "      <td>Kenya</td>\n",
              "      <td>male</td>\n",
              "      <td>39.0</td>\n",
              "      <td>10000.0</td>\n",
              "      <td>(20, 40]</td>\n",
              "      <td>2</td>\n",
              "    </tr>\n",
              "    <tr>\n",
              "      <th>15616</th>\n",
              "      <td>India</td>\n",
              "      <td>male</td>\n",
              "      <td>27.0</td>\n",
              "      <td>10000.0</td>\n",
              "      <td>(20, 40]</td>\n",
              "      <td>2</td>\n",
              "    </tr>\n",
              "    <tr>\n",
              "      <th>15617</th>\n",
              "      <td>Nigeria</td>\n",
              "      <td>male</td>\n",
              "      <td>37.0</td>\n",
              "      <td>48000.0</td>\n",
              "      <td>(20, 40]</td>\n",
              "      <td>2</td>\n",
              "    </tr>\n",
              "    <tr>\n",
              "      <th>15618</th>\n",
              "      <td>Spain</td>\n",
              "      <td>male</td>\n",
              "      <td>26.0</td>\n",
              "      <td>10000.0</td>\n",
              "      <td>(20, 40]</td>\n",
              "      <td>2</td>\n",
              "    </tr>\n",
              "    <tr>\n",
              "      <th>15619</th>\n",
              "      <td>Trinidad &amp; Tobago</td>\n",
              "      <td>female</td>\n",
              "      <td>22.0</td>\n",
              "      <td>18000.0</td>\n",
              "      <td>(20, 40]</td>\n",
              "      <td>2</td>\n",
              "    </tr>\n",
              "  </tbody>\n",
              "</table>\n",
              "</div>"
            ],
            "text/plain": [
              "                 CountryCitizen  Gender   Age    Income   Age_bin Age_bin_label\n",
              "15600  United States of America  female  28.0  200000.0  (20, 40]             2\n",
              "15601  United States of America    male  25.0  200000.0  (20, 40]             2\n",
              "15602                     India    male  22.0  200000.0  (20, 40]             2\n",
              "15603  United States of America    male  33.0  200000.0  (20, 40]             2\n",
              "15604                  Portugal    male  35.0  200000.0  (20, 40]             2\n",
              "15605                  Portugal    male  31.0  200000.0  (20, 40]             2\n",
              "15606                    Canada    male  43.0  200000.0  (40, 60]             3\n",
              "15607               Philippines    male  25.0  200000.0  (20, 40]             2\n",
              "15608  United States of America    male  43.0  200000.0  (40, 60]             3\n",
              "15609                    Mexico    male  33.0  200000.0  (20, 40]             2\n",
              "15610  United States of America    male  29.0  200000.0  (20, 40]             2\n",
              "15611                     India    male  37.0  200000.0  (20, 40]             2\n",
              "15612  United States of America  female  45.0  200000.0  (40, 60]             3\n",
              "15613              South Africa    male  30.0  200000.0  (20, 40]             2\n",
              "15614  United States of America    male  47.0   26000.0  (40, 60]             3\n",
              "15615                     Kenya    male  39.0   10000.0  (20, 40]             2\n",
              "15616                     India    male  27.0   10000.0  (20, 40]             2\n",
              "15617                   Nigeria    male  37.0   48000.0  (20, 40]             2\n",
              "15618                     Spain    male  26.0   10000.0  (20, 40]             2\n",
              "15619         Trinidad & Tobago  female  22.0   18000.0  (20, 40]             2"
            ]
          },
          "execution_count": 80,
          "metadata": {
            "tags": []
          },
          "output_type": "execute_result"
        }
      ],
      "source": [
        "# view the binned features \n",
        "selected_fcc.tail(20)"
      ]
    },
    {
      "cell_type": "markdown",
      "metadata": {
        "id": "ZWLkeUytlPqb"
      },
      "source": [
        "datasets used:\n",
        "\n",
        "![image.png](data:image/png;base64,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)"
      ]
    },
    {
      "cell_type": "code",
      "execution_count": null,
      "metadata": {
        "id": "CxLKtReshMpl",
        "vscode": {
          "languageId": "python"
        }
      },
      "outputs": [],
      "source": []
    }
  ],
  "metadata": {
    "colab": {
      "name": "DATA TYPES.ipynb",
      "provenance": []
    },
    "kernelspec": {
      "display_name": "Python 3",
      "name": "python3"
    }
  },
  "nbformat": 4,
  "nbformat_minor": 0
}
