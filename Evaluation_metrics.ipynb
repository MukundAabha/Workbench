{
 "cells": [
  {
   "cell_type": "markdown",
   "id": "c7e35531",
   "metadata": {},
   "source": [
    "If we talk about classification problems, the most common metrics used are:\n",
    "- Accuracy\n",
    "- Precision (P)\n",
    "- Recall (R)\n",
    "- F1 score (F1)\n",
    "- Area under the ROC (Receiver Operating Characteristic) curve or simply AUC (AUC)\n",
    "- Log loss\n",
    "- Precision at k (P@k)\n",
    "- Average precision at k (AP@k)\n",
    "- Mean average precision at k (MAP@k)\n",
    "When it comes to regression, the most commonly used evaluation metrics are:\n",
    "- Mean absolute error (MAE)\n",
    "- Mean squared error (MSE)\n",
    "- Root mean squared error (RMSE)\n",
    "- Root mean squared logarithmic error (RMSLE)\n",
    "- Mean percentage error (MPE)\n",
    "- Mean absolute percentage error (MAPE)\n",
    "- R2"
   ]
  },
  {
   "cell_type": "markdown",
   "id": "d0f060dc",
   "metadata": {},
   "source": [
    "### Accuracy: \n",
    "\n",
    "It is one of the most straightforward metrics used in machine learning. It defines how accurate your model is. if you \n",
    "build a model that classifies 90 images accurately, your accuracy is 90% or 0.90. If only 83 images are classified correctly, the accuracy of your model is 83% or 0.83. \n",
    "Simple."
   ]
  },
  {
   "cell_type": "code",
   "execution_count": 4,
   "id": "e57c4d1f",
   "metadata": {},
   "outputs": [],
   "source": [
    "def accuracy(y_true, y_pred):\n",
    " \"\"\"\n",
    " Function to calculate accuracy\n",
    " :param y_true: list of true values\n",
    " :param y_pred: list of predicted values\n",
    " :return: accuracy score\n",
    " \"\"\"\n",
    " # initialize a simple counter for correct predictions\n",
    " correct_counter = 0\n",
    " # loop over all elements of y_true\n",
    " # and y_pred \"together\"\n",
    " for yt, yp in zip(y_true, y_pred):\n",
    "        if yt == yp:\n",
    "            # if prediction is equal to truth, increase the counter\n",
    "            correct_counter += 1\n",
    "            # return accuracy\n",
    "            # which is correct predictions over the number of samples\n",
    "            return correct_counter / len(y_true)"
   ]
  },
  {
   "cell_type": "markdown",
   "id": "30b7d39a",
   "metadata": {},
   "source": [
    "Now, let’s say we change the dataset a bit such that there are 180 chest x-ray images \n",
    "which do not have pneumothorax and only 20 with pneumothorax. Even in this \n",
    "case, we will create the training and validation sets with the same ratio of positive \n",
    "to negative (pneumothorax to non- pneumothorax) targets. In each set, we have 90 \n",
    "non- pneumothorax and 10 pneumothorax images. If you say that all images in the \n",
    "validation set are non-pneumothorax, what would your accuracy be? Let’s see; you\n",
    "classified 90% of the images correctly. So, your accuracy is 90%. \n",
    "\n",
    "But look at it one more time. \n",
    "\n",
    "You didn’t even build a model and got an accuracy of 90%. That seems kind of \n",
    "useless. If we look carefully, we will see that the dataset is skewed, i.e., the number \n",
    "of samples in one class outnumber the number of samples in other class by a lot. In \n",
    "these kinds of cases, it is not advisable to use accuracy as an evaluation metric as it \n",
    "is not representative of the data. So, you might get high accuracy, but your model \n",
    "will probably not perform that well when it comes to real-world samples, and you \n",
    "won’t be able to explain to your managers why.\n",
    "\n",
    "In these cases, it’s better to look at other metrics such as precision. \n",
    "Before learning about precision, we need to know a few terms. Here we have \n",
    "assumed that chest x-ray images with pneumothorax are positive class (1) and \n",
    "without pneumothorax are negative class (0).\n",
    "\n",
    "True positive (TP): Given an image, if your model predicts the image has \n",
    "pneumothorax, and the actual target for that image has pneumothorax, it is \n",
    "considered a true positive.\n",
    "\n",
    "True negative (TN): Given an image, if your model predicts that the image does not \n",
    "have pneumothorax and the actual target says that it is a non-pneumothorax image, \n",
    "it is considered a true negative.\n",
    "\n",
    "In simple words, if your model correctly predicts positive class, it is true positive, \n",
    "and if your model accurately predicts negative class, it is a true negative.\n",
    "\n",
    "False positive (FP): Given an image, if your model predicts pneumothorax and the \n",
    "actual target for that image is non- pneumothorax, it a false positive.\n",
    "\n",
    "False negative (FN): Given an image, if your model predicts non-pneumothorax \n",
    "and the actual target for that image is pneumothorax, it is a false negative.\n",
    "\n",
    "In simple words, if your model incorrectly (or falsely) predicts positive class, it is \n",
    "a false positive. If your model incorrectly (or falsely) predicts negative class, it is a \n",
    "false negative"
   ]
  },
  {
   "cell_type": "code",
   "execution_count": 6,
   "id": "fa506fe2",
   "metadata": {},
   "outputs": [],
   "source": [
    "def true_positive(y_true, y_pred):\n",
    " \"\"\"\n",
    " Function to calculate True Positives\n",
    " :param y_true: list of true values\n",
    " :param y_pred: list of predicted values\n",
    " :return: number of true positives\n",
    " \"\"\"\n",
    " # initialize\n",
    " tp = 0\n",
    " for yt, yp in zip(y_true, y_pred):\n",
    "        if yt == 1 and yp == 1:\n",
    "            tp += 1\n",
    " return tp\n",
    "\n",
    "def true_negative(y_true, y_pred):\n",
    " \"\"\"\n",
    " Function to calculate True Negatives\n",
    " :param y_true: list of true values\n",
    " :param y_pred: list of predicted values\n",
    " :return: number of true negatives\n",
    " \"\"\"\n",
    " # initialize\n",
    " tn = 0\n",
    " for yt, yp in zip(y_true, y_pred):\n",
    "        if yt == 0 and yp == 0:\n",
    "            tn += 1\n",
    " return tn\n",
    "\n",
    "def false_positive(y_true, y_pred):\n",
    " \"\"\"\n",
    " Function to calculate False Positives\n",
    " :param y_true: list of true values\n",
    " :param y_pred: list of predicted values\n",
    " :return: number of false positives\n",
    " \"\"\"\n",
    " # initialize\n",
    " fp = 0\n",
    " for yt, yp in zip(y_true, y_pred):\n",
    "        if yt == 0 and yp == 1:\n",
    "            fp += 1\n",
    " return fp\n",
    "\n",
    "def false_negative(y_true, y_pred):\n",
    " \"\"\"\n",
    " Function to calculate False Negatives\n",
    " :param y_true: list of true values\n",
    " :param y_pred: list of predicted values\n",
    " :return: number of false negatives\n",
    " \"\"\"\n",
    " # initialize\n",
    " fn = 0\n",
    " for yt, yp in zip(y_true, y_pred):\n",
    "        if yt == 1 and yp == 0:\n",
    "            fn += 1\n",
    " return fn"
   ]
  },
  {
   "cell_type": "code",
   "execution_count": 9,
   "id": "9108eeec",
   "metadata": {},
   "outputs": [
    {
     "data": {
      "text/plain": [
       "2"
      ]
     },
     "execution_count": 9,
     "metadata": {},
     "output_type": "execute_result"
    }
   ],
   "source": [
    "l1 = [0,1,1,1,0,0,0,1]\n",
    "l2 = [0,1,0,1,0,1,0,0]\n",
    "\n",
    "true_positive(l1, l2)"
   ]
  },
  {
   "cell_type": "code",
   "execution_count": 10,
   "id": "0d1be252",
   "metadata": {},
   "outputs": [
    {
     "data": {
      "text/plain": [
       "1"
      ]
     },
     "execution_count": 10,
     "metadata": {},
     "output_type": "execute_result"
    }
   ],
   "source": [
    "false_positive(l1, l2)"
   ]
  },
  {
   "cell_type": "code",
   "execution_count": 11,
   "id": "b3f01cd4",
   "metadata": {},
   "outputs": [
    {
     "data": {
      "text/plain": [
       "2"
      ]
     },
     "execution_count": 11,
     "metadata": {},
     "output_type": "execute_result"
    }
   ],
   "source": [
    "false_negative(l1, l2)"
   ]
  },
  {
   "cell_type": "code",
   "execution_count": 12,
   "id": "9c959ec7",
   "metadata": {},
   "outputs": [
    {
     "data": {
      "text/plain": [
       "3"
      ]
     },
     "execution_count": 12,
     "metadata": {},
     "output_type": "execute_result"
    }
   ],
   "source": [
    "true_negative(l1, l2)"
   ]
  },
  {
   "cell_type": "markdown",
   "id": "499414de",
   "metadata": {},
   "source": [
    "If we have to define accuracy using the terms described above, we can write:\n",
    "Accuracy Score = (TP + TN) / (TP + TN + FP + FN)"
   ]
  },
  {
   "cell_type": "code",
   "execution_count": 13,
   "id": "690214f8",
   "metadata": {},
   "outputs": [],
   "source": [
    "def accuracy_v2(y_true, y_pred):\n",
    " \"\"\"\n",
    " Function to calculate accuracy using tp/tn/fp/fn\n",
    " :param y_true: list of true values\n",
    " :param y_pred: list of predicted values\n",
    " :return: accuracy score\n",
    " \"\"\"\n",
    " tp = true_positive(y_true, y_pred)\n",
    " fp = false_positive(y_true, y_pred)\n",
    " fn = false_negative(y_true, y_pred)\n",
    " tn = true_negative(y_true, y_pred)\n",
    " accuracy_score = (tp + tn) / (tp + tn + fp + fn)\n",
    " return accuracy_score"
   ]
  },
  {
   "cell_type": "code",
   "execution_count": 14,
   "id": "de799b19",
   "metadata": {},
   "outputs": [
    {
     "data": {
      "text/plain": [
       "0.125"
      ]
     },
     "execution_count": 14,
     "metadata": {},
     "output_type": "execute_result"
    }
   ],
   "source": [
    "l1 = [0,1,1,1,0,0,0,1]\n",
    "l2 = [0,1,0,1,0,1,0,0]\n",
    "\n",
    "accuracy(l1, l2)"
   ]
  },
  {
   "cell_type": "code",
   "execution_count": 17,
   "id": "1f942e43",
   "metadata": {},
   "outputs": [
    {
     "data": {
      "text/plain": [
       "0.625"
      ]
     },
     "execution_count": 17,
     "metadata": {},
     "output_type": "execute_result"
    }
   ],
   "source": [
    "from sklearn.metrics import accuracy_score\n",
    "accuracy_score(l1, l2)"
   ]
  },
  {
   "cell_type": "markdown",
   "id": "06aad79d",
   "metadata": {},
   "source": [
    "Precision is defined as:\n",
    "Precision = TP / (TP + FP)"
   ]
  },
  {
   "cell_type": "code",
   "execution_count": 18,
   "id": "68c45c9e",
   "metadata": {},
   "outputs": [],
   "source": [
    "def precision(y_true, y_pred):\n",
    " \"\"\"\n",
    " Function to calculate precision\n",
    " :param y_true: list of true values\n",
    " :param y_pred: list of predicted values\n",
    " :return: precision score\n",
    " \"\"\"\n",
    " tp = true_positive(y_true, y_pred)\n",
    " fp = false_positive(y_true, y_pred)\n",
    " precision = tp / (tp + fp)\n",
    " return precision"
   ]
  },
  {
   "cell_type": "code",
   "execution_count": 19,
   "id": "9b0df425",
   "metadata": {},
   "outputs": [
    {
     "data": {
      "text/plain": [
       "0.6666666666666666"
      ]
     },
     "execution_count": 19,
     "metadata": {},
     "output_type": "execute_result"
    }
   ],
   "source": [
    "precision(l1, l2)"
   ]
  },
  {
   "cell_type": "markdown",
   "id": "6df6d677",
   "metadata": {},
   "source": [
    "Recall is defined as:\n",
    "Recall = TP / (TP + FN)"
   ]
  },
  {
   "cell_type": "code",
   "execution_count": 20,
   "id": "fc7adde4",
   "metadata": {},
   "outputs": [],
   "source": [
    "def recall(y_true, y_pred):\n",
    " \"\"\"\n",
    " Function to calculate recall\n",
    " :param y_true: list of true values\n",
    " :param y_pred: list of predicted values\n",
    " :return: recall score\n",
    " \"\"\"\n",
    " tp = true_positive(y_true, y_pred)\n",
    " fn = false_negative(y_true, y_pred)\n",
    " recall = tp / (tp + fn)\n",
    " return recall"
   ]
  },
  {
   "cell_type": "code",
   "execution_count": 21,
   "id": "1b9dd3cc",
   "metadata": {},
   "outputs": [
    {
     "data": {
      "text/plain": [
       "0.5"
      ]
     },
     "execution_count": 21,
     "metadata": {},
     "output_type": "execute_result"
    }
   ],
   "source": [
    " recall(l1, l2)"
   ]
  },
  {
   "cell_type": "markdown",
   "id": "10892227",
   "metadata": {},
   "source": [
    "And that matches our calculated value!\n",
    "\n",
    "For a “good” model, our precision and recall values should be high. We see that in \n",
    "the above example, the recall value is quite high. However, precision is very low! \n",
    "Our model produces quite a lot of false positives but less false negatives. Fewer\n",
    "false negatives are good in this type of problem because you don’t want to say that \n",
    "\n",
    "patients do not have pneumothorax when they do. That is going to be more harmful. \n",
    "But we do have a lot of false positives, and that’s not good either.\n",
    "Most of the models predict a probability, and when we predict, we usually choose \n",
    "this threshold to be 0.5. This threshold is not always ideal, and depending on this \n",
    "threshold, your value of precision and recall can change drastically. If for every \n",
    "threshold we choose, we calculate the precision and recall values, we can create a \n",
    "plot between these sets of values. This plot or curve is known as the precision-recall \n",
    "curve."
   ]
  },
  {
   "cell_type": "code",
   "execution_count": 23,
   "id": "43ade4c5",
   "metadata": {},
   "outputs": [],
   "source": [
    "y_true = [0, 0, 0, 1, 0, 0, 0, 0, 0, 0, 1, 0, 0, 0, 0, 0, 0, 0, 1, 0]\n",
    "y_pred = [0.02638412, 0.11114267, 0.31620708, 0.0490937, 0.0191491, 0.17554844,0.15952202, \n",
    "          0.03819563, 0.11639273, 0.079377, 0.08584789, 0.39095342, 0.27259048, 0.03447096,\n",
    "          0.04644807,0.03543574, 0.18521942, 0.05934905, 0.61977213, 0.33056815]"
   ]
  },
  {
   "cell_type": "markdown",
   "id": "b0779194",
   "metadata": {},
   "source": [
    "So, y_true is our targets, and y_pred is the probability values for a sample being \n",
    "assigned a value of 1. So, now, we look at probabilities in prediction instead of the \n",
    "predicted value (which is most of the time calculated with a threshold at 0.5)."
   ]
  },
  {
   "cell_type": "code",
   "execution_count": 24,
   "id": "8afd2f2a",
   "metadata": {},
   "outputs": [],
   "source": [
    "precisions = []\n",
    "recalls = []\n",
    "\n",
    "# how we assumed these thresholds is a long story\n",
    "thresholds = [0.0490937 , 0.05934905, 0.079377, 0.08584789, 0.11114267, 0.11639273, \n",
    "              0.15952202, 0.17554844, 0.18521942, 0.27259048, 0.31620708, 0.33056815, 0.39095342, 0.61977213]\n",
    "\n",
    "# for every threshold, calculate predictions in binary\n",
    "# and append calculated precisions and recalls\n",
    "# to their respective lists\n",
    "\n",
    "for i in thresholds:\n",
    " temp_prediction = [1 if x >= i else 0 for x in y_pred]\n",
    " p = precision(y_true, temp_prediction)\n",
    " r = recall(y_true, temp_prediction)\n",
    " precisions.append(p)\n",
    " recalls.append(r)"
   ]
  },
  {
   "cell_type": "markdown",
   "id": "45c10f6d",
   "metadata": {},
   "source": [
    "Now, we can plot these values of precisions and recalls."
   ]
  },
  {
   "cell_type": "code",
   "execution_count": 26,
   "id": "f1a2661f",
   "metadata": {},
   "outputs": [
    {
     "data": {
      "text/plain": [
       "Text(0, 0.5, 'Precision')"
      ]
     },
     "execution_count": 26,
     "metadata": {},
     "output_type": "execute_result"
    },
    {
     "data": {
      "image/png": "[encoded data removed]",
      "text/plain": [
       "<Figure size 504x504 with 1 Axes>"
      ]
     },
     "metadata": {
      "needs_background": "light"
     },
     "output_type": "display_data"
    }
   ],
   "source": [
    "import matplotlib.pyplot as plt\n",
    "plt.figure(figsize=(7, 7))\n",
    "plt.plot(recalls, precisions)\n",
    "plt.xlabel('Recall', fontsize=15)\n",
    "plt.ylabel('Precision', fontsize=15)"
   ]
  },
  {
   "cell_type": "markdown",
   "id": "8fbc67f0",
   "metadata": {},
   "source": [
    "You will notice that it’s challenging to choose a value of threshold that gives both \n",
    "good precision and recall values. If the threshold is too high, you have a smaller\n",
    "number of true positives and a high number of false negatives. This decreases your \n",
    "recall; however, your precision score will be high. If you reduce the threshold too \n",
    "low, false positives will increase a lot, and precision will be less.\n",
    "\n",
    "Both precision and recall range from 0 to 1 and a value closer to 1 is better.\n",
    "\n",
    "F1 score is a metric that combines both precision and recall. It is defined as a simple \n",
    "weighted average (harmonic mean) of precision and recall. If we denote precision \n",
    "using P and recall using R, we can represent the F1 score as:\n",
    "\n",
    "F1 = 2PR / (P + R)\n",
    "\n",
    "A little bit of mathematics will lead you to the following equation of F1 based on \n",
    "\n",
    "TP, FP and FN\n",
    "\n",
    "F1 = 2TP / (2TP + FP + FN)"
   ]
  },
  {
   "cell_type": "code",
   "execution_count": 27,
   "id": "9b4cced9",
   "metadata": {},
   "outputs": [],
   "source": [
    "def f1(y_true, y_pred):\n",
    " \"\"\"\n",
    " Function to calculate f1 score\n",
    " :param y_true: list of true values\n",
    " :param y_pred: list of predicted values\n",
    " :return: f1 score\n",
    " \"\"\"\n",
    " p = precision(y_true, y_pred)\n",
    " r = recall(y_true, y_pred)\n",
    " score = 2 * p * r / (p + r)\n",
    " return score"
   ]
  },
  {
   "cell_type": "code",
   "execution_count": 29,
   "id": "3e4f72bd",
   "metadata": {},
   "outputs": [
    {
     "data": {
      "text/plain": [
       "0.5714285714285715"
      ]
     },
     "execution_count": 29,
     "metadata": {},
     "output_type": "execute_result"
    }
   ],
   "source": [
    "y_true = [0, 0, 0, 1, 0, 0, 0, 0, 0, 0, 1, 0, 0, 0, 0, 0, 0, 0, 1, 0]\n",
    "y_pred = [0, 0, 1, 0, 0, 0, 1, 0, 0, 0, 1, 0, 0, 0, 0, 0, 0, 0, 1, 0]\n",
    "\n",
    "f1(y_true, y_pred)"
   ]
  },
  {
   "cell_type": "code",
   "execution_count": 31,
   "id": "6a693010",
   "metadata": {},
   "outputs": [
    {
     "data": {
      "text/plain": [
       "0.5714285714285715"
      ]
     },
     "execution_count": 31,
     "metadata": {},
     "output_type": "execute_result"
    }
   ],
   "source": [
    "from sklearn import metrics\n",
    "metrics.f1_score(y_true, y_pred)"
   ]
  },
  {
   "cell_type": "markdown",
   "id": "e4ce2a32",
   "metadata": {},
   "source": [
    "Instead of looking at precision and recall individually, you can also just look at F1\n",
    "score. Same as for precision, recall and accuracy, F1 score also ranges from 0 to 1,\n",
    "and a perfect prediction model has an F1 of 1. When dealing with datasets that have \n",
    "skewed targets, we should look at F1 (or precision and recall) instead of accuracy.\n",
    "\n",
    "Then there are other crucial terms that we should know about. \n",
    "\n",
    "The first one is TPR or True Positive Rate, which is the same as recall.\n",
    "TPR = TP / (TP + FN)\n",
    "\n",
    "TPR or recall is also known as sensitivity.\n"
   ]
  },
  {
   "cell_type": "code",
   "execution_count": 32,
   "id": "52a5dad0",
   "metadata": {},
   "outputs": [],
   "source": [
    "def tpr(y_true, y_pred):\n",
    " \"\"\"\n",
    " Function to calculate tpr\n",
    " :param y_true: list of true values\n",
    " :param y_pred: list of predicted values\n",
    " :return: tpr/recall\n",
    " \"\"\"\n",
    " return recall(y_true, y_pred)"
   ]
  },
  {
   "cell_type": "markdown",
   "id": "8f9d791e",
   "metadata": {},
   "source": [
    "And FPR or False Positive Rate, which is defined as:\n",
    "\n",
    "FPR = FP / (TN + FP)\n",
    "\n",
    "And 1 - FPR is known as specificity or True Negative Rate or TNR."
   ]
  },
  {
   "cell_type": "code",
   "execution_count": 33,
   "id": "a3b3efc3",
   "metadata": {},
   "outputs": [],
   "source": [
    "def fpr(y_true, y_pred):\n",
    " \"\"\"\n",
    " Function to calculate fpr\n",
    " :param y_true: list of true values\n",
    " :param y_pred: list of predicted values\n",
    " :return: fpr\n",
    " \"\"\"\n",
    " fp = false_positive(y_true, y_pred)\n",
    " tn = true_negative(y_true, y_pred)\n",
    " return fp / (tn + fp)"
   ]
  },
  {
   "cell_type": "markdown",
   "id": "ee13325a",
   "metadata": {},
   "source": [
    "These are a lot of terms, but the most important ones out of these are only TPR and \n",
    "FPR. \n",
    "\n",
    "Let’s assume that we have only 15 samples and their target values are binary:\n",
    "Actual targets : [0, 0, 0, 0, 1, 0, 1, 0, 0, 1, 0, 1, 0, 0, 1, 0, 1]\n",
    "\n",
    "We train a model like the random forest, and we can get the probability of when a \n",
    "sample is positive.\n",
    "\n",
    "\n",
    "Predicted probabilities for 1: [0.1, 0.3, 0.2, 0.6, 0.8, 0.05, 0.9, 0.5, 0.3, 0.66, 0.3, \n",
    "0.2, 0.85, 0.15, 0.99]\n",
    "\n",
    "For a typical threshold of >= 0.5, we can evaluate all the above values of precision, \n",
    "recall/TPR, F1 and FPR. But we can do the same if we choose the value of the \n",
    "threshold to be 0.4 or 0.6. In fact, we can choose any value between 0 and 1 and \n",
    "calculate all the metrics described above.\n",
    "\n",
    "Let’s calculate only two values, though: TPR and FPR"
   ]
  },
  {
   "cell_type": "code",
   "execution_count": 34,
   "id": "a1e24457",
   "metadata": {},
   "outputs": [],
   "source": [
    "# empty lists to store tpr \n",
    "# and fpr values\n",
    "tpr_list = []\n",
    "fpr_list = []\n",
    "# actual targets\n",
    "y_true = [0, 0, 0, 0, 1, 0, 1, \n",
    " 0, 0, 1, 0, 1, 0, 0, 1]\n",
    "# predicted probabilities of a sample being 1\n",
    "y_pred = [0.1, 0.3, 0.2, 0.6, 0.8, 0.05, \n",
    " 0.9, 0.5, 0.3, 0.66, 0.3, 0.2, \n",
    " 0.85, 0.15, 0.99]\n",
    "# handmade thresholds\n",
    "thresholds = [0, 0.1, 0.2, 0.3, 0.4, 0.5,\n",
    " 0.6, 0.7, 0.8, 0.85, 0.9, 0.99, 1.0]\n",
    "# loop over all thresholds\n",
    "for thresh in thresholds: \n",
    " # calculate predictions for a given threshold\n",
    " temp_pred = [1 if x >= thresh else 0 for x in y_pred]\n",
    " # calculate tpr\n",
    " temp_tpr = tpr(y_true, temp_pred)\n",
    " # calculate fpr\n",
    " temp_fpr = fpr(y_true, temp_pred)\n",
    " # append tpr and fpr to lists\n",
    " tpr_list.append(temp_tpr)\n",
    " fpr_list.append(temp_fpr)"
   ]
  },
  {
   "cell_type": "code",
   "execution_count": 39,
   "id": "d121e7ef",
   "metadata": {},
   "outputs": [
    {
     "data": {
      "image/png": "[encoded data removed]",
      "text/plain": [
       "<Figure size 504x504 with 1 Axes>"
      ]
     },
     "metadata": {
      "needs_background": "light"
     },
     "output_type": "display_data"
    }
   ],
   "source": [
    "plt.figure(figsize=(7, 7))\n",
    "plt.fill_between(fpr_list, tpr_list, alpha=0.4)\n",
    "plt.plot(fpr_list, tpr_list, lw=3)\n",
    "plt.xlim(0, 1.0)\n",
    "plt.ylim(0, 1.0)\n",
    "plt.xlabel('FPR', fontsize=15)\n",
    "plt.ylabel('TPR', fontsize=15)\n",
    "plt.show()"
   ]
  },
  {
   "cell_type": "markdown",
   "id": "1ad36059",
   "metadata": {},
   "source": [
    "This curve is also known as the Receiver Operating Characteristic (ROC). And \n",
    "if we calculate the area under this ROC curve, we are calculating another metric \n",
    "which is used very often when you have a dataset which has skewed binary targets. \n",
    "This metric is known as the Area Under ROC Curve or Area Under Curve or \n",
    "just simply AUC. There are many ways to calculate the area under the ROC curve. "
   ]
  },
  {
   "cell_type": "code",
   "execution_count": 40,
   "id": "75d880db",
   "metadata": {},
   "outputs": [
    {
     "data": {
      "text/plain": [
       "0.8300000000000001"
      ]
     },
     "execution_count": 40,
     "metadata": {},
     "output_type": "execute_result"
    }
   ],
   "source": [
    " metrics.roc_auc_score(y_true, y_pred)"
   ]
  },
  {
   "cell_type": "markdown",
   "id": "fbfb6073",
   "metadata": {},
   "source": [
    "AUC values range from 0 to 1.\n",
    "\n",
    "- AUC = 1 implies you have a perfect model. Most of the time, it means that \n",
    "you made some mistake with validation and should revisit data processing \n",
    "and validation pipeline of yours. If you didn’t make any mistakes, then \n",
    "congratulations, you have the best model one can have for the dataset you \n",
    "built it on.\n",
    "\n",
    "- AUC = 0 implies that your model is very bad (or very good!). Try inverting \n",
    "the probabilities for the predictions, for example, if your probability for the \n",
    "positive class is p, try substituting it with 1-p. This kind of AUC may also \n",
    "mean that there is some problem with your validation or data processing.\n",
    "\n",
    "- AUC = 0.5 implies that your predictions are random. So, for any binary \n",
    "\n",
    "classification problem, if I predict all targets as 0.5, I will get an AUC of \n",
    "0.5.\n",
    "AUC values between 0 and 0.5 imply that your model is worse than random. Most \n",
    "of the time, it’s because you inverted the classes. If you try to invert your \n",
    "predictions, your AUC might become more than 0.5. AUC values closer to 1 are \n",
    "considered good."
   ]
  },
  {
   "cell_type": "markdown",
   "id": "67b96841",
   "metadata": {},
   "source": [
    "But what does AUC say about our model? \n",
    "\n",
    "Suppose you get an AUC of 0.85 when you build a model to detect pneumothorax \n",
    "from chest x-ray images. This means that if you select a random image from your \n",
    "dataset with pneumothorax (positive sample) and another random image without \n",
    "pneumothorax (negative sample), then the pneumothorax image will rank higher \n",
    "than a non-pneumothorax image with a probability of 0.85.\n"
   ]
  },
  {
   "cell_type": "code",
   "execution_count": 45,
   "id": "0e14b019",
   "metadata": {},
   "outputs": [],
   "source": [
    "# empty lists to store true positive \n",
    "# and false positive values\n",
    "tp_list = []\n",
    "fp_list = []\n",
    "# actual targets\n",
    "y_true = [0, 0, 0, 0, 1, 0, 1, 0, 0, 1, 0, 1, 0, 0, 1]\n",
    "# predicted probabilities of a sample being 1\n",
    "y_pred = [0.1, 0.3, 0.2, 0.6, 0.8, 0.05, 0.9, 0.5, 0.3, 0.66, 0.3, 0.2, 0.85, 0.15, 0.99]\n",
    "# some handmade thresholds\n",
    "thresholds = [0, 0.1, 0.2, 0.3, 0.4, 0.5,0.6, 0.7, 0.8, 0.85, 0.9, 0.99, 1.0]\n",
    "# loop over all thresholds\n",
    "for thresh in thresholds: \n",
    "# calculate predictions for a given threshold\n",
    " temp_pred = [1 if x >= thresh else 0 for x in y_pred]\n",
    " # calculate tp\n",
    " temp_tp = true_positive(y_true, temp_pred)\n",
    " # calculate fp\n",
    " temp_fp = false_positive(y_true, temp_pred)\n",
    " # append tp and fp to lists\n",
    " tp_list.append(temp_tp)\n",
    " fp_list.append(temp_fp)"
   ]
  },
  {
   "cell_type": "code",
   "execution_count": 46,
   "id": "fba79dda",
   "metadata": {},
   "outputs": [
    {
     "data": {
      "image/png": "[encoded data removed]",
      "text/plain": [
       "<Figure size 504x504 with 1 Axes>"
      ]
     },
     "metadata": {
      "needs_background": "light"
     },
     "output_type": "display_data"
    }
   ],
   "source": [
    "plt.figure(figsize=(7, 7))\n",
    "plt.fill_between(fp_list, tp_list, alpha=0.4)\n",
    "plt.plot(fp_list, tp_list, lw=3)\n",
    "plt.xlim(0, 1.0)\n",
    "plt.ylim(0, 1.0)\n",
    "plt.xlabel('FPR', fontsize=15)\n",
    "plt.ylabel('TPR', fontsize=15)\n",
    "plt.show()"
   ]
  },
  {
   "cell_type": "markdown",
   "id": "add894c8",
   "metadata": {},
   "source": [
    "Most of the time, the top-left value on ROC curve should give you a quite good \n",
    "threshold, as shown in figure ."
   ]
  },
  {
   "cell_type": "markdown",
   "id": "3f6a3031",
   "metadata": {},
   "source": [
    "Another important metric you should learn after learning AUC is log loss. In case \n",
    "of a binary classification problem, we define log loss as:\n",
    "\n",
    "Log Loss = - 1.0 * ( target * log(prediction) + (1 - target) * log(1 - prediction) )\n",
    "\n",
    "Where target is either 0 or 1 and prediction is a probability of a sample belonging \n",
    "to class 1.\n",
    "\n",
    "For multiple samples in the dataset, the log-loss over all samples is a mere average \n",
    "of all individual log losses. One thing to remember is that log loss penalizes quite \n",
    "high for an incorrect or a far-off prediction, i.e. log loss punishes you for being very \n",
    "sure and very wrong"
   ]
  },
  {
   "cell_type": "code",
   "execution_count": 50,
   "id": "9e63f34c",
   "metadata": {},
   "outputs": [],
   "source": [
    "import numpy as np\n",
    "def log_loss(y_true, y_proba):\n",
    "    \n",
    " \"\"\"\n",
    " Function to calculate log loss\n",
    " :param y_true: list of true values\n",
    " :param y_proba: list of probabilities for 1\n",
    " :return: overall log loss\n",
    " \"\"\"\n",
    " # define an epsilon value\n",
    " # this can also be an input\n",
    " # this value is used to clip probabilities\n",
    " epsilon = 1e-15\n",
    " # initialize empty list to store\n",
    " # individual losses\n",
    " loss = []\n",
    " # loop over all true and predicted probability values\n",
    " for yt, yp in zip(y_true, y_proba):\n",
    " # adjust probability\n",
    " # 0 gets converted to 1e-15\n",
    " # 1 gets converted to 1-1e-15\n",
    " # Why? Think about it!\n",
    "     yp = np.clip(yp, epsilon, 1 - epsilon)\n",
    "     # calculate loss for one sample\n",
    "     temp_loss = - 1.0 * (yt * np.log(yp) + (1 - yt) * np.log(1 - yp))\n",
    "     # add to loss list\n",
    "     loss.append(temp_loss)\n",
    " # return mean loss over all samples\n",
    " return np.mean(loss)"
   ]
  },
  {
   "cell_type": "code",
   "execution_count": 51,
   "id": "4f6b3da3",
   "metadata": {},
   "outputs": [
    {
     "data": {
      "text/plain": [
       "0.49882711861432294"
      ]
     },
     "execution_count": 51,
     "metadata": {},
     "output_type": "execute_result"
    }
   ],
   "source": [
    "y_true = [0, 0, 0, 0, 1, 0, 1,0, 0, 1, 0, 1, 0, 0, 1]\n",
    "y_proba = [0.1, 0.3, 0.2, 0.6, 0.8, 0.05, 0.9, 0.5, 0.3, 0.66, 0.3, 0.2,0.85, 0.15, 0.99]\n",
    "log_loss(y_true, y_proba)"
   ]
  },
  {
   "cell_type": "markdown",
   "id": "4d2f8f03",
   "metadata": {},
   "source": [
    "We can compare this with scikit-learn"
   ]
  },
  {
   "cell_type": "code",
   "execution_count": 52,
   "id": "a7d60583",
   "metadata": {},
   "outputs": [
    {
     "data": {
      "text/plain": [
       "0.49882711861432294"
      ]
     },
     "execution_count": 52,
     "metadata": {},
     "output_type": "execute_result"
    }
   ],
   "source": [
    "metrics.log_loss(y_true, y_proba)"
   ]
  },
  {
   "cell_type": "markdown",
   "id": "d782373c",
   "metadata": {},
   "source": [
    "Thus, our implementation is correct. Implementation of log loss is easy. \n",
    "Interpretation may seem a bit difficult. You must remember that log loss penalizes \n",
    "a lot more than other metrics. \n",
    "For example, if you are 51% sure about a sample belonging to class 1, log loss \n",
    "would be:\n",
    "\n",
    "- 1.0 * ( 1 * log(0.51) + (1 - 1) * log(1 – 0.51) ) = 0.67\n",
    "\n",
    "And if you are 49% sure for a sample belonging to class 0, log loss would be:\n",
    "\n",
    "- 1.0 * ( 0 * log(0.49) + (1 - 0) * log(1 – 0.49) ) = 0.67\n",
    "\n",
    "So, even though we can choose a cut off at 0.5 and get perfect predictions, we will \n",
    "still have a very high log loss. So, when dealing with log loss, you need to be very \n",
    "careful; any non-confident prediction will have a very high log loss."
   ]
  },
  {
   "cell_type": "markdown",
   "id": "0b79b440",
   "metadata": {},
   "source": [
    "There are three different ways to calculate this which might get confusing from time \n",
    "to time. Let’s assume we are interested in precision first. We know that precision \n",
    "depends on true positives and false positives.\n",
    "\n",
    "- Macro averaged precision: calculate precision for all classes individually \n",
    "and then average them\n",
    "- Micro averaged precision: calculate class wise true positive and false \n",
    "positive and then use that to calculate overall precision\n",
    "- Weighted precision: same as macro but in this case, it is weighted average \n",
    "depending on the number of items in each class\n"
   ]
  },
  {
   "cell_type": "code",
   "execution_count": 62,
   "id": "a667ceaf",
   "metadata": {},
   "outputs": [],
   "source": [
    "import numpy as np\n",
    "def macro_precision(y_true, y_pred):\n",
    " \"\"\"\n",
    " Function to calculate macro averaged precision\n",
    " :param y_true: list of true values\n",
    " :param y_pred: list of predicted values\n",
    " :return: macro precision score\n",
    " \"\"\"\n",
    " \n",
    " # find the number of classes by taking\n",
    " # length of unique values in true list\n",
    " num_classes = len(np.unique(y_true))\n",
    " \n",
    " # initialize precision to 0\n",
    " precision = 0\n",
    " \n",
    " # loop over all classes\n",
    " for class_ in range(num_classes):\n",
    " \n",
    " # all classes except current are considered negative\n",
    "     temp_true = [1 if p == class_ else 0 for p in y_true]\n",
    "     temp_pred = [1 if p == class_ else 0 for p in y_pred]\n",
    " \n",
    " # calculate true positive for current class\n",
    "     tp = true_positive(temp_true, temp_pred)\n",
    " \n",
    " # calculate false positive for current class\n",
    "     fp = false_positive(temp_true, temp_pred)\n",
    " \n",
    " # calculate precision for current class\n",
    "     temp_precision = tp / (tp + fp)\n",
    " \n",
    " # keep adding precision for all classes\n",
    "     precision += temp_precision\n",
    " # calculate and return average precision over all classes\n",
    "     precision /= num_classes\n",
    " return precision"
   ]
  },
  {
   "cell_type": "code",
   "execution_count": 58,
   "id": "8f9700e2",
   "metadata": {},
   "outputs": [],
   "source": [
    "import numpy as np\n",
    "def micro_precision(y_true, y_pred):\n",
    " \"\"\"\n",
    " Function to calculate micro averaged precision\n",
    " :param y_true: list of true values\n",
    " :param y_pred: list of predicted values\n",
    " :return: micro precision score\n",
    " \"\"\"\n",
    " \n",
    " # find the number of classes by taking\n",
    " # length of unique values in true list\n",
    " num_classes = len(np.unique(y_true))\n",
    " \n",
    " # initialize tp and fp to 0\n",
    " tp = 0\n",
    " fp = 0\n",
    " \n",
    " # loop over all classes\n",
    " for class_ in range(num_classes):\n",
    "        # all classes except current are considered negative\n",
    "        temp_true = [1 if p == class_ else 0 for p in y_true]\n",
    "        temp_pred = [1 if p == class_ else 0 for p in y_pred]\n",
    " \n",
    " # calculate true positive for current class\n",
    " # and update overall tp\n",
    "        tp += true_positive(temp_true, temp_pred)\n",
    " \n",
    " # calculate false positive for current class\n",
    " # and update overall tp\n",
    "        fp += false_positive(temp_true, temp_pred)\n",
    " \n",
    " # calculate and return overall precision\n",
    " precision = tp / (tp + fp)\n",
    " return precision"
   ]
  },
  {
   "cell_type": "code",
   "execution_count": 59,
   "id": "7087f8d3",
   "metadata": {},
   "outputs": [],
   "source": [
    "#Now, let’s look at the implementation of weighted precision.\n",
    "\n",
    "from collections import Counter\n",
    "import numpy as np\n",
    "def weighted_precision(y_true, y_pred):\n",
    " \"\"\"\n",
    " Function to calculate weighted averaged precision\n",
    " :param y_true: list of true values\n",
    " :param y_pred: list of predicted values\n",
    " :return: weighted precision score\n",
    " \"\"\"\n",
    " \n",
    " # find the number of classes by taking\n",
    " # length of unique values in true list\n",
    " num_classes = len(np.unique(y_true))\n",
    " \n",
    " # create class:sample count dictionary\n",
    " # it looks something like this:\n",
    " # {0: 20, 1:15, 2:21}\n",
    " class_counts = Counter(y_true)\n",
    " \n",
    " # initialize precision to 0\n",
    " precision = 0\n",
    " \n",
    " # loop over all classes\n",
    " for class_ in range(num_classes):\n",
    " # all classes except current are considered negative\n",
    "     temp_true = [1 if p == class_ else 0 for p in y_true]\n",
    "     temp_pred = [1 if p == class_ else 0 for p in y_pred]\n",
    " \n",
    " # calculate tp and fp for class\n",
    "     tp = true_positive(temp_true, temp_pred)\n",
    "     fp = false_positive(temp_true, temp_pred)\n",
    " \n",
    " # calculate precision of class\n",
    "     temp_precision = tp / (tp + fp)\n",
    " \n",
    " # multiply precision with count of samples in class\n",
    "     weighted_precision = class_counts[class_] * temp_precision\n",
    " \n",
    " # add to overall precision\n",
    "     precision += weighted_precision\n",
    " # calculate overall precision by dividing by\n",
    " # total number of samples\n",
    "     overall_precision = precision / len(y_true)\n",
    "\n",
    " return overall_precision"
   ]
  },
  {
   "cell_type": "code",
   "execution_count": 63,
   "id": "cb44ca48",
   "metadata": {},
   "outputs": [
    {
     "data": {
      "text/plain": [
       "0.39814814814814814"
      ]
     },
     "execution_count": 63,
     "metadata": {},
     "output_type": "execute_result"
    }
   ],
   "source": [
    "from sklearn import metrics\n",
    "y_true = [0, 1, 2, 0, 1, 2, 0, 2, 2]\n",
    "y_pred = [0, 2, 1, 0, 2, 1, 0, 0, 2]\n",
    "macro_precision(y_true, y_pred)"
   ]
  },
  {
   "cell_type": "code",
   "execution_count": 64,
   "id": "e97dc479",
   "metadata": {},
   "outputs": [
    {
     "data": {
      "text/plain": [
       "0.3611111111111111"
      ]
     },
     "execution_count": 64,
     "metadata": {},
     "output_type": "execute_result"
    }
   ],
   "source": [
    "metrics.precision_score(y_true, y_pred, average=\"macro\")"
   ]
  },
  {
   "cell_type": "code",
   "execution_count": 65,
   "id": "078df91f",
   "metadata": {},
   "outputs": [
    {
     "data": {
      "text/plain": [
       "0.4444444444444444"
      ]
     },
     "execution_count": 65,
     "metadata": {},
     "output_type": "execute_result"
    }
   ],
   "source": [
    "micro_precision(y_true, y_pred)"
   ]
  },
  {
   "cell_type": "code",
   "execution_count": 66,
   "id": "57816f16",
   "metadata": {},
   "outputs": [
    {
     "data": {
      "text/plain": [
       "0.4444444444444444"
      ]
     },
     "execution_count": 66,
     "metadata": {},
     "output_type": "execute_result"
    }
   ],
   "source": [
    "metrics.precision_score(y_true, y_pred, average=\"micro\")"
   ]
  },
  {
   "cell_type": "code",
   "execution_count": 67,
   "id": "48992453",
   "metadata": {},
   "outputs": [
    {
     "data": {
      "text/plain": [
       "0.39814814814814814"
      ]
     },
     "execution_count": 67,
     "metadata": {},
     "output_type": "execute_result"
    }
   ],
   "source": [
    "weighted_precision(y_true, y_pred)"
   ]
  },
  {
   "cell_type": "code",
   "execution_count": 68,
   "id": "792f9c26",
   "metadata": {},
   "outputs": [
    {
     "data": {
      "text/plain": [
       "0.39814814814814814"
      ]
     },
     "execution_count": 68,
     "metadata": {},
     "output_type": "execute_result"
    }
   ],
   "source": [
    "metrics.precision_score(y_true, y_pred, average=\"weighted\")"
   ]
  },
  {
   "cell_type": "markdown",
   "id": "59839044",
   "metadata": {},
   "source": [
    "Similarly, we can implement the recall metric for multi-class. Precision and recall \n",
    "depend on true positive, false positive and false negative while F1 depends on \n",
    "precision and recall. "
   ]
  },
  {
   "cell_type": "code",
   "execution_count": 70,
   "id": "a7eeef1c",
   "metadata": {},
   "outputs": [],
   "source": [
    "from collections import Counter\n",
    "import numpy as np\n",
    "def weighted_f1(y_true, y_pred):\n",
    " \"\"\"\n",
    " Function to calculate weighted f1 score\n",
    " :param y_true: list of true values\n",
    " :param y_proba: list of predicted values\n",
    " :return: weighted f1 score\n",
    " \"\"\"\n",
    " \n",
    " # find the number of classes by taking\n",
    " # length of unique values in true list\n",
    " num_classes = len(np.unique(y_true))\n",
    " \n",
    " # create class:sample count dictionary\n",
    " # it looks something like this:\n",
    " # {0: 20, 1:15, 2:21}\n",
    " class_counts = Counter(y_true)\n",
    " \n",
    " # initialize f1 to 0\n",
    " f1 = 0\n",
    " \n",
    " # loop over all classes\n",
    " for class_ in range(num_classes):\n",
    " # all classes except current are considered negative\n",
    "    temp_true = [1 if p == class_ else 0 for p in y_true]\n",
    "    temp_pred = [1 if p == class_ else 0 for p in y_pred]\n",
    " \n",
    " # calculate precision and recall for class\n",
    "    p = precision(temp_true, temp_pred)\n",
    "    r = recall(temp_true, temp_pred)\n",
    " \n",
    " # calculate f1 of class\n",
    " if p + r != 0:\n",
    "    temp_f1 = 2 * p * r / (p + r)\n",
    " else:\n",
    "    temp_f1 = 0\n",
    " \n",
    " # multiply f1 with count of samples in class\n",
    " weighted_f1 = class_counts[class_] * temp_f1\n",
    " \n",
    " # add to f1 precision\n",
    " f1 += weighted_f1\n",
    "\n",
    "# calculate overall F1 by dividing by\n",
    " # total number of samples\n",
    " overall_f1 = f1 / len(y_true)\n",
    " return overall_f1"
   ]
  },
  {
   "cell_type": "code",
   "execution_count": 71,
   "id": "171974b6",
   "metadata": {},
   "outputs": [
    {
     "data": {
      "text/plain": [
       "0.126984126984127"
      ]
     },
     "execution_count": 71,
     "metadata": {},
     "output_type": "execute_result"
    }
   ],
   "source": [
    "weighted_f1(y_true, y_pred)"
   ]
  },
  {
   "cell_type": "code",
   "execution_count": 72,
   "id": "b5c940e1",
   "metadata": {},
   "outputs": [
    {
     "data": {
      "text/plain": [
       "0.41269841269841273"
      ]
     },
     "execution_count": 72,
     "metadata": {},
     "output_type": "execute_result"
    }
   ],
   "source": [
    "metrics.f1_score(y_true, y_pred, average=\"weighted\")"
   ]
  },
  {
   "cell_type": "markdown",
   "id": "89907212",
   "metadata": {},
   "source": [
    "### Confusion matrix"
   ]
  },
  {
   "cell_type": "code",
   "execution_count": 73,
   "id": "3ed4dac7",
   "metadata": {},
   "outputs": [
    {
     "data": {
      "text/plain": [
       "Text(0.5, 50.5, 'Predicted Labels')"
      ]
     },
     "execution_count": 73,
     "metadata": {},
     "output_type": "execute_result"
    },
    {
     "data": {
      "image/png": "[encoded data removed]",
      "text/plain": [
       "<Figure size 720x720 with 1 Axes>"
      ]
     },
     "metadata": {
      "needs_background": "light"
     },
     "output_type": "display_data"
    }
   ],
   "source": [
    "import matplotlib.pyplot as plt\n",
    "import seaborn as sns\n",
    "from sklearn import metrics\n",
    "# some targets\n",
    "y_true = [0, 1, 2, 0, 1, 2, 0, 2, 2]\n",
    "#some predictions\n",
    "y_pred = [0, 2, 1, 0, 2, 1, 0, 0, 2]\n",
    "# get confusion matrix from sklearn\n",
    "cm = metrics.confusion_matrix(y_true, y_pred)\n",
    "\n",
    "# plot using matplotlib and seaborn\n",
    "plt.figure(figsize=(10, 10))\n",
    "cmap = sns.cubehelix_palette(50, hue=0.05, rot=0, light=0.9, dark=0, as_cmap=True)\n",
    "sns.set(font_scale=2.5)\n",
    "sns.heatmap(cm, annot=True, cmap=cmap, cbar=False)\n",
    "plt.ylabel('Actual Labels', fontsize=20)\n",
    "plt.xlabel('Predicted Labels', fontsize=20)"
   ]
  },
  {
   "cell_type": "markdown",
   "id": "92749f00",
   "metadata": {},
   "source": [
    ", one image can have multiple targets associated with it. This type of \n",
    "problem is the multi-label classification problem.\n",
    "The metrics for this type of classification problem are a bit different. Some suitable \n",
    "and most common metrics are:\n",
    "- Precision at k (P@k)\n",
    "- Average precision at k (AP@k)\n",
    "- Mean average precision at k (MAP@k)\n",
    "- Log loss"
   ]
  },
  {
   "cell_type": "markdown",
   "id": "6287827d",
   "metadata": {},
   "source": [
    "### precision at k or P@k.\n",
    "One must not confuse this precision with \n",
    "the precision discussed earlier. If you have a list of original classes for a given \n",
    "sample and list of predicted classes for the same, precision is defined as the number \n",
    "of hits in the predicted list considering only top-k predictions, divided by k."
   ]
  },
  {
   "cell_type": "code",
   "execution_count": 75,
   "id": "9eff02ff",
   "metadata": {},
   "outputs": [],
   "source": [
    "def pk(y_true, y_pred, k):\n",
    " \"\"\"\n",
    " This function calculates precision at k \n",
    " for a single sample\n",
    " :param y_true: list of values, actual classes\n",
    " :param y_pred: list of values, predicted classes\n",
    " :param k: the value for k\n",
    " :return: precision at a given value k\n",
    " \"\"\"\n",
    " # if k is 0, return 0. we should never have this\n",
    " # as k is always >= 1\n",
    " if k == 0:\n",
    "        return 0\n",
    " # we are interested only in top-k predictions\n",
    " y_pred = y_pred[:k]\n",
    " # convert predictions to set\n",
    " pred_set = set(y_pred)\n",
    " # convert actual values to set\n",
    " true_set = set(y_true)\n",
    " # find common values\n",
    " common_values = pred_set.intersection(true_set)\n",
    " # return length of common values over k\n",
    " return len(common_values) / len(y_pred[:k])"
   ]
  },
  {
   "cell_type": "markdown",
   "id": "240f6cfb",
   "metadata": {},
   "source": [
    "### average precision at k or AP@k. \n",
    "AP@k is calculated using P@k. \n",
    "For example, if we have to calculate AP@3, we calculate P@1, P@2 and P@3 and \n",
    "then divide the sum by 3."
   ]
  },
  {
   "cell_type": "code",
   "execution_count": 78,
   "id": "ad1f9ce2",
   "metadata": {},
   "outputs": [],
   "source": [
    "def apk(y_true, y_pred, k):\n",
    " \"\"\"\n",
    " This function calculates average precision at k \n",
    " for a single sample\n",
    " :param y_true: list of values, actual classes\n",
    " :param y_pred: list of values, predicted classes\n",
    " :return: average precision at a given value k\n",
    " \"\"\"\n",
    " # initialize p@k list of values\n",
    " pk_values = []\n",
    " # loop over all k. from 1 to k + 1\n",
    " for i in range(1, k + 1):\n",
    " # calculate p@i and append to list\n",
    "     pk_values.append(pk(y_true, y_pred, i))\n",
    " # if we have no values in the list, return 0\n",
    " if len(pk_values) == 0:\n",
    "     return 0\n",
    " # else, we return the sum of list over length of list\n",
    " return sum(pk_values) / len(pk_values)"
   ]
  },
  {
   "cell_type": "code",
   "execution_count": 80,
   "id": "908d0634",
   "metadata": {},
   "outputs": [
    {
     "name": "stdout",
     "output_type": "stream",
     "text": [
      "\n",
      "y_true=[1, 2, 3],\n",
      "y_pred=[0, 1, 2],\n",
      "AP@1=0.0\n",
      "\n",
      "\n",
      "y_true=[1, 2, 3],\n",
      "y_pred=[0, 1, 2],\n",
      "AP@2=0.25\n",
      "\n",
      "\n",
      "y_true=[1, 2, 3],\n",
      "y_pred=[0, 1, 2],\n",
      "AP@3=0.38888888888888884\n",
      "\n",
      "\n",
      "y_true=[0, 2],\n",
      "y_pred=[1],\n",
      "AP@1=0.0\n",
      "\n",
      "\n",
      "y_true=[0, 2],\n",
      "y_pred=[1],\n",
      "AP@2=0.0\n",
      "\n",
      "\n",
      "y_true=[0, 2],\n",
      "y_pred=[1],\n",
      "AP@3=0.0\n",
      "\n",
      "\n",
      "y_true=[1],\n",
      "y_pred=[0, 2, 3],\n",
      "AP@1=0.0\n",
      "\n",
      "\n",
      "y_true=[1],\n",
      "y_pred=[0, 2, 3],\n",
      "AP@2=0.0\n",
      "\n",
      "\n",
      "y_true=[1],\n",
      "y_pred=[0, 2, 3],\n",
      "AP@3=0.0\n",
      "\n",
      "\n",
      "y_true=[2, 3],\n",
      "y_pred=[2, 3, 4, 0],\n",
      "AP@1=1.0\n",
      "\n",
      "\n",
      "y_true=[2, 3],\n",
      "y_pred=[2, 3, 4, 0],\n",
      "AP@2=1.0\n",
      "\n",
      "\n",
      "y_true=[2, 3],\n",
      "y_pred=[2, 3, 4, 0],\n",
      "AP@3=0.8888888888888888\n",
      "\n",
      "\n",
      "y_true=[1, 0],\n",
      "y_pred=[0, 1, 2],\n",
      "AP@1=1.0\n",
      "\n",
      "\n",
      "y_true=[1, 0],\n",
      "y_pred=[0, 1, 2],\n",
      "AP@2=1.0\n",
      "\n",
      "\n",
      "y_true=[1, 0],\n",
      "y_pred=[0, 1, 2],\n",
      "AP@3=0.8888888888888888\n",
      "\n",
      "\n",
      "y_true=[],\n",
      "y_pred=[0],\n",
      "AP@1=0.0\n",
      "\n",
      "\n",
      "y_true=[],\n",
      "y_pred=[0],\n",
      "AP@2=0.0\n",
      "\n",
      "\n",
      "y_true=[],\n",
      "y_pred=[0],\n",
      "AP@3=0.0\n",
      "\n"
     ]
    }
   ],
   "source": [
    "y_true = [[1, 2, 3],[0, 2],[1],[2, 3],[1, 0],[]]\n",
    "y_pred = [[0, 1, 2],[1],[0, 2, 3], [2, 3, 4, 0],[0, 1, 2],[0]]\n",
    "for i in range(len(y_true)):\n",
    "    for j in range(1, 4):\n",
    "        print(\n",
    "f\"\"\"\n",
    "y_true={y_true[i]},\n",
    "y_pred={y_pred[i]},\n",
    "AP@{j}={apk(y_true[i], y_pred[i], k=j)}\n",
    "\"\"\")"
   ]
  },
  {
   "cell_type": "code",
   "execution_count": 81,
   "id": "9124fac9",
   "metadata": {},
   "outputs": [],
   "source": [
    "def mapk(y_true, y_pred, k):\n",
    " \"\"\"\n",
    " This function calculates mean avg precision at k \n",
    " for a single sample\n",
    " :param y_true: list of values, actual classes\n",
    " :param y_pred: list of values, predicted classes\n",
    " :return: mean avg precision at a given value k\n",
    " \"\"\"\n",
    " # initialize empty list for apk values\n",
    " apk_values = []\n",
    " # loop over all samples\n",
    " for i in range(len(y_true)):\n",
    " # store apk values for every sample\n",
    "    apk_values.append(apk(y_true[i], y_pred[i], k=k))\n",
    " # return mean of apk values list\n",
    " return sum(apk_values) / len(apk_values)"
   ]
  },
  {
   "cell_type": "code",
   "execution_count": 82,
   "id": "41751d21",
   "metadata": {},
   "outputs": [
    {
     "data": {
      "text/plain": [
       "0.3333333333333333"
      ]
     },
     "execution_count": 82,
     "metadata": {},
     "output_type": "execute_result"
    }
   ],
   "source": [
    "mapk(y_true, y_pred, k=1)"
   ]
  },
  {
   "cell_type": "code",
   "execution_count": 83,
   "id": "823fa8eb",
   "metadata": {},
   "outputs": [
    {
     "data": {
      "text/plain": [
       "0.375"
      ]
     },
     "execution_count": 83,
     "metadata": {},
     "output_type": "execute_result"
    }
   ],
   "source": [
    "mapk(y_true, y_pred, k=2)"
   ]
  },
  {
   "cell_type": "code",
   "execution_count": 84,
   "id": "4f908cf9",
   "metadata": {},
   "outputs": [
    {
     "data": {
      "text/plain": [
       "0.3611111111111111"
      ]
     },
     "execution_count": 84,
     "metadata": {},
     "output_type": "execute_result"
    }
   ],
   "source": [
    "mapk(y_true, y_pred, k=3)"
   ]
  },
  {
   "cell_type": "code",
   "execution_count": 85,
   "id": "4af55211",
   "metadata": {},
   "outputs": [
    {
     "data": {
      "text/plain": [
       "0.34722222222222215"
      ]
     },
     "execution_count": 85,
     "metadata": {},
     "output_type": "execute_result"
    }
   ],
   "source": [
    "mapk(y_true, y_pred, k=4)"
   ]
  },
  {
   "cell_type": "markdown",
   "id": "a2eb3acf",
   "metadata": {},
   "source": [
    "P@k, AP@k and MAP@k all range from 0 to 1 with 1 being the best"
   ]
  },
  {
   "cell_type": "markdown",
   "id": "078905c3",
   "metadata": {},
   "source": [
    "### log loss for multi-label classification. \n",
    "This is quite easy. You \n",
    "can convert the targets to binary format and then use a log loss for each column. In \n",
    "the end, you can take the average of log loss in each column. This is also known as \n",
    "mean column-wise log loss."
   ]
  },
  {
   "cell_type": "markdown",
   "id": "e51faee3",
   "metadata": {},
   "source": [
    "The most common metric in regression is error. Error is simple and very easy to \n",
    "understand.\n",
    "\n",
    "#### Error = True Value – Predicted Value\n",
    "\n",
    "Absolute error is just absolute of the above.\n",
    "\n",
    "#### Absolute Error = Abs ( True Value – Predicted Value )\n",
    "\n",
    "Then we have mean absolute error (MAE). It’s just mean of all absolute errors."
   ]
  },
  {
   "cell_type": "code",
   "execution_count": 86,
   "id": "1b87c55a",
   "metadata": {},
   "outputs": [],
   "source": [
    "import numpy as np\n",
    "def mean_absolute_error(y_true, y_pred):\n",
    " \"\"\"\n",
    " This function calculates mae\n",
    " :param y_true: list of real numbers, true values\n",
    " :param y_pred: list of real numbers, predicted values\n",
    " :return: mean absolute error\n",
    " \"\"\"\n",
    " # initialize error at 0\n",
    " error = 0\n",
    " # loop over all samples in the true and predicted list\n",
    " for yt, yp in zip(y_true, y_pred):\n",
    " # calculate absolute error \n",
    " # and add to error\n",
    "    error += np.abs(yt - yp)\n",
    " # return mean error\n",
    " return error / len(y_true)"
   ]
  },
  {
   "cell_type": "markdown",
   "id": "32e6e041",
   "metadata": {},
   "source": [
    "Similarly, we have squared error and mean squared error (MSE).\n",
    "\n",
    "#### Squared Error = ( True Value – Predicted Value )2\n",
    "\n",
    "And mean squared error (MSE) can be implemented as follows."
   ]
  },
  {
   "cell_type": "code",
   "execution_count": 87,
   "id": "dfbedfde",
   "metadata": {},
   "outputs": [],
   "source": [
    "def mean_squared_error(y_true, y_pred):\n",
    " \"\"\"\n",
    " This function calculates mse\n",
    " :param y_true: list of real numbers, true values\n",
    " :param y_pred: list of real numbers, predicted values\n",
    " :return: mean squared error\n",
    " \"\"\"\n",
    " # initialize error at 0\n",
    " error = 0\n",
    " # loop over all samples in the true and predicted list\n",
    " for yt, yp in zip(y_true, y_pred):\n",
    " # calculate squared error \n",
    " # and add to error\n",
    "    error += (yt - yp) ** 2\n",
    " # return mean error\n",
    " return error / len(y_true)"
   ]
  },
  {
   "cell_type": "markdown",
   "id": "d14fe7fd",
   "metadata": {},
   "source": [
    "MSE and RMSE (root mean squared error) are the most popular metrics used in \n",
    "evaluating regression models.\n",
    "\n",
    "#### RMSE = SQRT ( MSE )\n",
    "\n",
    "Another type of error in same class is squared logarithmic error. Some people \n",
    "call it SLE, and when we take mean of this error across all samples, it is known as \n",
    "MSLE (mean squared logarithmic error) and implemented as follows."
   ]
  },
  {
   "cell_type": "code",
   "execution_count": 89,
   "id": "e88dd5e5",
   "metadata": {},
   "outputs": [],
   "source": [
    "import numpy as np\n",
    "def mean_squared_log_error(y_true, y_pred):\n",
    " \"\"\"\n",
    " This function calculates msle\n",
    " :param y_true: list of real numbers, true values\n",
    " :param y_pred: list of real numbers, predicted values\n",
    " :return: mean squared logarithmic error\n",
    " \"\"\"\n",
    " # initialize error at 0\n",
    " error = 0\n",
    " # loop over all samples in true and predicted list\n",
    " for yt, yp in zip(y_true, y_pred):\n",
    " # calculate squared log error \n",
    " # and add to error\n",
    "    error += (np.log(1 + yt) - np.log(1 + yp)) ** 2\n",
    " # return mean error\n",
    " return error / len(y_true)"
   ]
  },
  {
   "cell_type": "markdown",
   "id": "ea797280",
   "metadata": {},
   "source": [
    "Root mean squared logarithmic error is just a square root of this. It is also known \n",
    "as RMSLE. \n",
    "Then we have the percentage error:\n",
    "\n",
    "#### Percentage Error = ( ( True Value – Predicted Value ) / True Value ) * 100\n",
    "\n",
    "Same can be converted to mean percentage error for all samples"
   ]
  },
  {
   "cell_type": "code",
   "execution_count": 90,
   "id": "6d53480f",
   "metadata": {},
   "outputs": [],
   "source": [
    "def mean_percentage_error(y_true, y_pred):\n",
    " \"\"\"\n",
    " This function calculates mpe\n",
    " :param y_true: list of real numbers, true values\n",
    " :param y_pred: list of real numbers, predicted values\n",
    " :return: mean percentage error\n",
    " \"\"\"\n",
    " # initialize error at 0\n",
    " error = 0\n",
    " # loop over all samples in true and predicted list\n",
    " for yt, yp in zip(y_true, y_pred):\n",
    " # calculate percentage error \n",
    " # and add to error\n",
    "   error += (yt - yp) / yt\n",
    " # return mean percentage error\n",
    " return error / len(y_true)"
   ]
  },
  {
   "cell_type": "markdown",
   "id": "28ad487f",
   "metadata": {},
   "source": [
    "And an absolute version of the same (and more common version) is known as \n",
    "\n",
    "#### mean absolute percentage error or MAPE."
   ]
  },
  {
   "cell_type": "code",
   "execution_count": 91,
   "id": "27b82765",
   "metadata": {},
   "outputs": [],
   "source": [
    "import numpy as np\n",
    "def mean_abs_percentage_error(y_true, y_pred):\n",
    " \"\"\"\n",
    " This function calculates MAPE\n",
    " :param y_true: list of real numbers, true values\n",
    " :param y_pred: list of real numbers, predicted values\n",
    " :return: mean absolute percentage error\n",
    " \"\"\"\n",
    " # initialize error at 0\n",
    " error = 0\n",
    " # loop over all samples in true and predicted list\n",
    " for yt, yp in zip(y_true, y_pred):\n",
    " # calculate percentage error \n",
    " # and add to error\n",
    "    error += np.abs(yt - yp) / yt\n",
    " # return mean percentage error\n",
    " return error / len(y_true)"
   ]
  },
  {
   "cell_type": "markdown",
   "id": "89dd03c9",
   "metadata": {},
   "source": [
    "#### R2 (R-squared), also known as the coefficient of determination. \n",
    "In simple words, R-squared says how good your model fits the data. R-squared \n",
    "closer to 1.0 says that the model fits the data quite well, whereas closer 0 means \n",
    "that model isn’t that good. R-squared can also be negative when the model just \n",
    "makes absurd predictions."
   ]
  },
  {
   "cell_type": "code",
   "execution_count": 95,
   "id": "7e7c1567",
   "metadata": {},
   "outputs": [],
   "source": [
    "import numpy as np\n",
    "def r2(y_true, y_pred):\n",
    " \"\"\"\n",
    " This function calculates r-squared score\n",
    " :param y_true: list of real numbers, true values\n",
    " :param y_pred: list of real numbers, predicted values\n",
    " :return: r2 score\n",
    " \"\"\"\n",
    " \n",
    " # calculate the mean value of true values\n",
    " mean_true_value = np.mean(y_true)\n",
    " \n",
    " # initialize numerator with 0\n",
    " numerator = 0\n",
    " # initialize denominator with 0\n",
    " denominator = 0\n",
    " \n",
    " # loop over all true and predicted values\n",
    " for yt, yp in zip(y_true, y_pred):\n",
    " # update numerator\n",
    "    numerator += (yt - yp) ** 2\n",
    " # update denominator\n",
    "    denominator += (yt - mean_true_value) ** 2\n",
    " # calculate the ratio\n",
    "    ratio = numerator / denominator\n",
    "    return 1-ratio"
   ]
  },
  {
   "cell_type": "markdown",
   "id": "903af507",
   "metadata": {},
   "source": [
    "An important metric is **Matthew’s Correlation Coefficient (MCC)**. MCC ranges \n",
    "from -1 to 1. 1 is perfect prediction, -1 is imperfect prediction, and 0 is random \n",
    "prediction. The formula for MCC is quite simple.\n",
    "\n",
    "\n",
    "MCC =  TP * TN - FP * FN / [ (TP + FP) * (FN + TN) * (FP + TN) * (TP + FN) ] ^ (0.5)\n"
   ]
  },
  {
   "cell_type": "markdown",
   "id": "531bb5b9",
   "metadata": {},
   "source": [
    "We see that MCC takes into consideration TP, FP, TN and FN and thus can be used \n",
    "for problems where classes are skewed. You can quickly implement it in python by \n",
    "using what we have already implemented"
   ]
  },
  {
   "cell_type": "code",
   "execution_count": 97,
   "id": "ad9c1a0f",
   "metadata": {},
   "outputs": [],
   "source": [
    "def mcc(y_true, y_pred):\n",
    " \"\"\"\n",
    " This function calculates Matthew's Correlation Coefficient\n",
    " for binary classification.\n",
    " :param y_true: list of true values\n",
    " :param y_pred: list of predicted values\n",
    " :return: mcc score\n",
    " \"\"\"\n",
    " tp = true_positive(y_true, y_pred)\n",
    " tn = true_negative(y_true, y_pred)\n",
    " fp = false_positive(y_true, y_pred)\n",
    " fn = false_negative(y_true, y_pred)\n",
    " numerator = (tp * tn) - (fp * fn)\n",
    " denominator = (\n",
    " (tp + fp) *\n",
    " (fn + tn) *\n",
    " (fp + tn) *\n",
    " (tp + fn)\n",
    " )\n",
    " denominator = denominator ** 0.5\n",
    " return numerator/denominator"
   ]
  },
  {
   "cell_type": "code",
   "execution_count": null,
   "id": "4988606e",
   "metadata": {},
   "outputs": [],
   "source": []
  }
 ],
 "metadata": {
  "kernelspec": {
   "display_name": "Python 3",
   "language": "python",
   "name": "python3"
  },
  "language_info": {
   "codemirror_mode": {
    "name": "ipython",
    "version": 3
   },
   "file_extension": ".py",
   "mimetype": "text/x-python",
   "name": "python",
   "nbconvert_exporter": "python",
   "pygments_lexer": "ipython3",
   "version": "3.8.8"
  }
 },
 "nbformat": 4,
 "nbformat_minor": 5
}
