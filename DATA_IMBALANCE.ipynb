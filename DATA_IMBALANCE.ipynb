{
 "cells": [
  {
   "cell_type": "markdown",
   "metadata": {
    "id": "ePNJwZyqU0W7"
   },
   "source": [
    "# **What is Class/Data Imbalance?**"
   ]
  },
  {
   "cell_type": "markdown",
   "metadata": {
    "id": "XQu_lxRQU0W_"
   },
   "source": [
    "In simple terms ***class imbalance*** is the situation where the classes in your dataset are not represented equally.\n",
    "\n",
    "That's is, one class is having higher distribution than the other.\n",
    "\n",
    "Example, let's say you have a dataset and you want to predict whether a person is ***vegeterrian*** or ***non-vegeterrian***. \n",
    "Now, let's say you have **500** ***vegeterrians*** in your target class and **50** ***non-vegeterrians***. If you build model on this dataset to predict whether a person is ***vegeterrian*** or ***non-vegeterrian***, what do you think will happen?\n",
    "\n",
    "## **The Problem with Imbalance Dataset**\n",
    "\n",
    "You will end up predicting almost every person as vegeterrian because your algorithm will memorise the ***vegeterrian*** class which is having higher distribution. \n",
    "\n",
    "Data Imbalance is a common problem in machine learning. Again, there are problems where a class imbalance is not just common, but it is ideally expected to happen that way. For instance, datasets that are used for such cases as predicting whether a certain transaction is fraudulent or not. The vast majority of the transactions will be in the **“Not-Fraud”** class and a very small minority will be in the **“Fraud”** class.\n"
   ]
  },
  {
   "cell_type": "markdown",
   "metadata": {
    "id": "JUNJ4nBuU0XB"
   },
   "source": [
    "### Let's confirm this on **Imbalance Dataset**"
   ]
  },
  {
   "cell_type": "markdown",
   "metadata": {
    "id": "z2VtPdYTU0XC"
   },
   "source": [
    "We will be using the [credit card fraud detection dataset](https://www.kaggle.com/mlg-ulb/creditcardfraud/home) to demonstrate this."
   ]
  },
  {
   "cell_type": "code",
   "execution_count": 1,
   "metadata": {
    "id": "Woiw-sujU0XD"
   },
   "outputs": [],
   "source": [
    "#Import the necessary libraries\n",
    "\n",
    "import pandas as pd\n",
    "import numpy as np\n",
    "import matplotlib.pyplot as plt\n",
    "import seaborn as sns\n",
    "\n",
    "\n",
    "import warnings\n",
    "warnings.filterwarnings(\"ignore\")"
   ]
  },
  {
   "cell_type": "code",
   "execution_count": 2,
   "metadata": {
    "id": "5rX7u7F5U0XF"
   },
   "outputs": [],
   "source": [
    "\n",
    "## let's load our dataset\n",
    "\n",
    "df=pd.read_csv('C:/Users/Aabha Gupta/Downloads/workbench-dataset/creditcard.csv')"
   ]
  },
  {
   "cell_type": "code",
   "execution_count": 3,
   "metadata": {
    "colab": {
     "base_uri": "https://localhost:8080/",
     "height": 224
    },
    "id": "3JRi-oAFU0XF",
    "outputId": "f92d1e59-24a5-405f-8baa-296e84ef726f"
   },
   "outputs": [
    {
     "data": {
      "text/html": [
       "<div>\n",
       "<style scoped>\n",
       "    .dataframe tbody tr th:only-of-type {\n",
       "        vertical-align: middle;\n",
       "    }\n",
       "\n",
       "    .dataframe tbody tr th {\n",
       "        vertical-align: top;\n",
       "    }\n",
       "\n",
       "    .dataframe thead th {\n",
       "        text-align: right;\n",
       "    }\n",
       "</style>\n",
       "<table border=\"1\" class=\"dataframe\">\n",
       "  <thead>\n",
       "    <tr style=\"text-align: right;\">\n",
       "      <th></th>\n",
       "      <th>Time</th>\n",
       "      <th>V1</th>\n",
       "      <th>V2</th>\n",
       "      <th>V3</th>\n",
       "      <th>V4</th>\n",
       "      <th>V5</th>\n",
       "      <th>V6</th>\n",
       "      <th>V7</th>\n",
       "      <th>V8</th>\n",
       "      <th>V9</th>\n",
       "      <th>...</th>\n",
       "      <th>V21</th>\n",
       "      <th>V22</th>\n",
       "      <th>V23</th>\n",
       "      <th>V24</th>\n",
       "      <th>V25</th>\n",
       "      <th>V26</th>\n",
       "      <th>V27</th>\n",
       "      <th>V28</th>\n",
       "      <th>Amount</th>\n",
       "      <th>Class</th>\n",
       "    </tr>\n",
       "  </thead>\n",
       "  <tbody>\n",
       "    <tr>\n",
       "      <th>0</th>\n",
       "      <td>0.0</td>\n",
       "      <td>-1.359807</td>\n",
       "      <td>-0.072781</td>\n",
       "      <td>2.536347</td>\n",
       "      <td>1.378155</td>\n",
       "      <td>-0.338321</td>\n",
       "      <td>0.462388</td>\n",
       "      <td>0.239599</td>\n",
       "      <td>0.098698</td>\n",
       "      <td>0.363787</td>\n",
       "      <td>...</td>\n",
       "      <td>-0.018307</td>\n",
       "      <td>0.277838</td>\n",
       "      <td>-0.110474</td>\n",
       "      <td>0.066928</td>\n",
       "      <td>0.128539</td>\n",
       "      <td>-0.189115</td>\n",
       "      <td>0.133558</td>\n",
       "      <td>-0.021053</td>\n",
       "      <td>149.62</td>\n",
       "      <td>0</td>\n",
       "    </tr>\n",
       "    <tr>\n",
       "      <th>1</th>\n",
       "      <td>0.0</td>\n",
       "      <td>1.191857</td>\n",
       "      <td>0.266151</td>\n",
       "      <td>0.166480</td>\n",
       "      <td>0.448154</td>\n",
       "      <td>0.060018</td>\n",
       "      <td>-0.082361</td>\n",
       "      <td>-0.078803</td>\n",
       "      <td>0.085102</td>\n",
       "      <td>-0.255425</td>\n",
       "      <td>...</td>\n",
       "      <td>-0.225775</td>\n",
       "      <td>-0.638672</td>\n",
       "      <td>0.101288</td>\n",
       "      <td>-0.339846</td>\n",
       "      <td>0.167170</td>\n",
       "      <td>0.125895</td>\n",
       "      <td>-0.008983</td>\n",
       "      <td>0.014724</td>\n",
       "      <td>2.69</td>\n",
       "      <td>0</td>\n",
       "    </tr>\n",
       "    <tr>\n",
       "      <th>2</th>\n",
       "      <td>1.0</td>\n",
       "      <td>-1.358354</td>\n",
       "      <td>-1.340163</td>\n",
       "      <td>1.773209</td>\n",
       "      <td>0.379780</td>\n",
       "      <td>-0.503198</td>\n",
       "      <td>1.800499</td>\n",
       "      <td>0.791461</td>\n",
       "      <td>0.247676</td>\n",
       "      <td>-1.514654</td>\n",
       "      <td>...</td>\n",
       "      <td>0.247998</td>\n",
       "      <td>0.771679</td>\n",
       "      <td>0.909412</td>\n",
       "      <td>-0.689281</td>\n",
       "      <td>-0.327642</td>\n",
       "      <td>-0.139097</td>\n",
       "      <td>-0.055353</td>\n",
       "      <td>-0.059752</td>\n",
       "      <td>378.66</td>\n",
       "      <td>0</td>\n",
       "    </tr>\n",
       "    <tr>\n",
       "      <th>3</th>\n",
       "      <td>1.0</td>\n",
       "      <td>-0.966272</td>\n",
       "      <td>-0.185226</td>\n",
       "      <td>1.792993</td>\n",
       "      <td>-0.863291</td>\n",
       "      <td>-0.010309</td>\n",
       "      <td>1.247203</td>\n",
       "      <td>0.237609</td>\n",
       "      <td>0.377436</td>\n",
       "      <td>-1.387024</td>\n",
       "      <td>...</td>\n",
       "      <td>-0.108300</td>\n",
       "      <td>0.005274</td>\n",
       "      <td>-0.190321</td>\n",
       "      <td>-1.175575</td>\n",
       "      <td>0.647376</td>\n",
       "      <td>-0.221929</td>\n",
       "      <td>0.062723</td>\n",
       "      <td>0.061458</td>\n",
       "      <td>123.50</td>\n",
       "      <td>0</td>\n",
       "    </tr>\n",
       "    <tr>\n",
       "      <th>4</th>\n",
       "      <td>2.0</td>\n",
       "      <td>-1.158233</td>\n",
       "      <td>0.877737</td>\n",
       "      <td>1.548718</td>\n",
       "      <td>0.403034</td>\n",
       "      <td>-0.407193</td>\n",
       "      <td>0.095921</td>\n",
       "      <td>0.592941</td>\n",
       "      <td>-0.270533</td>\n",
       "      <td>0.817739</td>\n",
       "      <td>...</td>\n",
       "      <td>-0.009431</td>\n",
       "      <td>0.798278</td>\n",
       "      <td>-0.137458</td>\n",
       "      <td>0.141267</td>\n",
       "      <td>-0.206010</td>\n",
       "      <td>0.502292</td>\n",
       "      <td>0.219422</td>\n",
       "      <td>0.215153</td>\n",
       "      <td>69.99</td>\n",
       "      <td>0</td>\n",
       "    </tr>\n",
       "  </tbody>\n",
       "</table>\n",
       "<p>5 rows × 31 columns</p>\n",
       "</div>"
      ],
      "text/plain": [
       "   Time        V1        V2        V3        V4        V5        V6        V7  \\\n",
       "0   0.0 -1.359807 -0.072781  2.536347  1.378155 -0.338321  0.462388  0.239599   \n",
       "1   0.0  1.191857  0.266151  0.166480  0.448154  0.060018 -0.082361 -0.078803   \n",
       "2   1.0 -1.358354 -1.340163  1.773209  0.379780 -0.503198  1.800499  0.791461   \n",
       "3   1.0 -0.966272 -0.185226  1.792993 -0.863291 -0.010309  1.247203  0.237609   \n",
       "4   2.0 -1.158233  0.877737  1.548718  0.403034 -0.407193  0.095921  0.592941   \n",
       "\n",
       "         V8        V9  ...       V21       V22       V23       V24       V25  \\\n",
       "0  0.098698  0.363787  ... -0.018307  0.277838 -0.110474  0.066928  0.128539   \n",
       "1  0.085102 -0.255425  ... -0.225775 -0.638672  0.101288 -0.339846  0.167170   \n",
       "2  0.247676 -1.514654  ...  0.247998  0.771679  0.909412 -0.689281 -0.327642   \n",
       "3  0.377436 -1.387024  ... -0.108300  0.005274 -0.190321 -1.175575  0.647376   \n",
       "4 -0.270533  0.817739  ... -0.009431  0.798278 -0.137458  0.141267 -0.206010   \n",
       "\n",
       "        V26       V27       V28  Amount  Class  \n",
       "0 -0.189115  0.133558 -0.021053  149.62      0  \n",
       "1  0.125895 -0.008983  0.014724    2.69      0  \n",
       "2 -0.139097 -0.055353 -0.059752  378.66      0  \n",
       "3 -0.221929  0.062723  0.061458  123.50      0  \n",
       "4  0.502292  0.219422  0.215153   69.99      0  \n",
       "\n",
       "[5 rows x 31 columns]"
      ]
     },
     "execution_count": 3,
     "metadata": {},
     "output_type": "execute_result"
    }
   ],
   "source": [
    "df.head()"
   ]
  },
  {
   "cell_type": "markdown",
   "metadata": {
    "id": "NL1niwglyr72"
   },
   "source": [
    "Check Distribution of **Class**"
   ]
  },
  {
   "cell_type": "code",
   "execution_count": 4,
   "metadata": {
    "colab": {
     "base_uri": "https://localhost:8080/"
    },
    "id": "UHjsdTJZU0XJ",
    "outputId": "2728c1a3-a3e6-47e8-f3d9-eb503d44943a"
   },
   "outputs": [
    {
     "data": {
      "text/plain": [
       "0    284315\n",
       "1       492\n",
       "Name: Class, dtype: int64"
      ]
     },
     "execution_count": 4,
     "metadata": {},
     "output_type": "execute_result"
    }
   ],
   "source": [
    "\n",
    "df['Class'].value_counts()"
   ]
  },
  {
   "cell_type": "markdown",
   "metadata": {
    "id": "IzVTeNM3U0XK"
   },
   "source": [
    "from the above, we can see that most of the transactions are non-fruadulent transactions while only a few are fraudulent transactions.\n",
    "\n",
    "This is a clear example of data imbalance. If we try to build a model on this dataset without dealing with the imbalance of the classes(fraud and non-fraud transactions), our model will end up memorising and predicting the non-fraud transactions, as it will try to figure out that in this case the best scenario to get a higher accuracy is to predict the non-fraudulent transactions."
   ]
  },
  {
   "cell_type": "code",
   "execution_count": 5,
   "metadata": {
    "colab": {
     "base_uri": "https://localhost:8080/",
     "height": 509
    },
    "id": "wNXp9ODfU0XK",
    "outputId": "6d126104-0e7d-49c4-ed2a-ec874c7d461b"
   },
   "outputs": [
    {
     "data": {
      "image/png": "[encoded data removed]",
      "text/plain": [
       "<Figure size 720x576 with 1 Axes>"
      ]
     },
     "metadata": {},
     "output_type": "display_data"
    }
   ],
   "source": [
    "\n",
    "fraud =len(df[df['Class']==1])\n",
    "notfraud = len(df[df['Class']==0])\n",
    "\n",
    "# Data to plot\n",
    "labels = 'Fraud','Not Fraud'\n",
    "sizes = [fraud,notfraud]\n",
    "\n",
    "# Plot\n",
    "plt.figure(figsize=(10,8))\n",
    "plt.pie(sizes, labels=labels,\n",
    "autopct='%1.1f%%', shadow=True, startangle=0)\n",
    "plt.title('Ratio of Fraud Vs Non-Fraud\\n', fontsize=20)\n",
    "sns.set_context(\"paper\", font_scale=2)"
   ]
  },
  {
   "cell_type": "markdown",
   "metadata": {
    "id": "fDJCY031U0XL"
   },
   "source": [
    "<br>\n",
    "\n",
    "**Let's try to build a model on the imbalance dataset and see our result**"
   ]
  },
  {
   "cell_type": "code",
   "execution_count": 6,
   "metadata": {
    "colab": {
     "base_uri": "https://localhost:8080/"
    },
    "id": "zbpwK8zu8PH9",
    "outputId": "594229d2-7b3d-4428-87ce-a95a6754e5bc"
   },
   "outputs": [
    {
     "data": {
      "text/plain": [
       "Time      False\n",
       "V1        False\n",
       "V2        False\n",
       "V3        False\n",
       "V4        False\n",
       "V5        False\n",
       "V6        False\n",
       "V7        False\n",
       "V8        False\n",
       "V9        False\n",
       "V10       False\n",
       "V11       False\n",
       "V12       False\n",
       "V13       False\n",
       "V14       False\n",
       "V15       False\n",
       "V16       False\n",
       "V17       False\n",
       "V18       False\n",
       "V19       False\n",
       "V20       False\n",
       "V21       False\n",
       "V22       False\n",
       "V23       False\n",
       "V24       False\n",
       "V25       False\n",
       "V26       False\n",
       "V27       False\n",
       "V28       False\n",
       "Amount    False\n",
       "Class     False\n",
       "dtype: bool"
      ]
     },
     "execution_count": 6,
     "metadata": {},
     "output_type": "execute_result"
    }
   ],
   "source": [
    "pd.isnull(df).sum() > 0"
   ]
  },
  {
   "cell_type": "code",
   "execution_count": 7,
   "metadata": {
    "id": "lbWzeU1C8cIH"
   },
   "outputs": [],
   "source": [
    "df = df.dropna(how='any',axis=0) "
   ]
  },
  {
   "cell_type": "code",
   "execution_count": 8,
   "metadata": {
    "colab": {
     "base_uri": "https://localhost:8080/"
    },
    "id": "zEqIzeaE8f-j",
    "outputId": "52fe3de2-984c-4a11-8399-4bd2cbbe4fee"
   },
   "outputs": [
    {
     "data": {
      "text/plain": [
       "Time      False\n",
       "V1        False\n",
       "V2        False\n",
       "V3        False\n",
       "V4        False\n",
       "V5        False\n",
       "V6        False\n",
       "V7        False\n",
       "V8        False\n",
       "V9        False\n",
       "V10       False\n",
       "V11       False\n",
       "V12       False\n",
       "V13       False\n",
       "V14       False\n",
       "V15       False\n",
       "V16       False\n",
       "V17       False\n",
       "V18       False\n",
       "V19       False\n",
       "V20       False\n",
       "V21       False\n",
       "V22       False\n",
       "V23       False\n",
       "V24       False\n",
       "V25       False\n",
       "V26       False\n",
       "V27       False\n",
       "V28       False\n",
       "Amount    False\n",
       "Class     False\n",
       "dtype: bool"
      ]
     },
     "execution_count": 8,
     "metadata": {},
     "output_type": "execute_result"
    }
   ],
   "source": [
    "\n",
    "pd.isnull(df).sum() > 0"
   ]
  },
  {
   "cell_type": "markdown",
   "metadata": {
    "id": "fkiC77XWU0XL"
   },
   "source": [
    "## Dummy Classifier"
   ]
  },
  {
   "cell_type": "code",
   "execution_count": 9,
   "metadata": {
    "id": "JFBXn55HU0XM"
   },
   "outputs": [],
   "source": [
    "# Separate input features and target\n",
    "y = df['Class']\n",
    "X = df.drop('Class', axis=1)"
   ]
  },
  {
   "cell_type": "code",
   "execution_count": 10,
   "metadata": {
    "id": "VA_BvRPvU0XM"
   },
   "outputs": [],
   "source": [
    "\n",
    "from sklearn.model_selection import train_test_split\n",
    "from sklearn.dummy import DummyClassifier\n",
    "from sklearn.metrics import accuracy_score, f1_score, confusion_matrix, recall_score\n",
    "\n",
    "\n",
    "# split the data into training and testing set\n",
    "X_train, X_test, y_train, y_test = train_test_split(X, y, test_size=0.25, random_state=50)\n",
    "\n",
    "# DummyClassifier \n",
    "model = DummyClassifier(strategy='most_frequent')\n",
    "\n",
    "#train the model\n",
    "model.fit(X_train, y_train)\n",
    "\n",
    "#make some predictions\n",
    "dummyPred = model.predict(X_test)"
   ]
  },
  {
   "cell_type": "code",
   "execution_count": 11,
   "metadata": {
    "colab": {
     "base_uri": "https://localhost:8080/"
    },
    "id": "SMY8ZUXcU0XN",
    "outputId": "710fbfa0-2ca3-48ff-e209-1f492709fc63"
   },
   "outputs": [
    {
     "name": "stdout",
     "output_type": "stream",
     "text": [
      "Unique predicted labels:  [0]\n",
      "Test score:  0.9984129659279234\n"
     ]
    }
   ],
   "source": [
    "# checking unique labels\n",
    "print('Unique predicted labels: ', (np.unique(dummyPred)))\n",
    "\n",
    "# checking accuracy\n",
    "print('Test score: ', accuracy_score(y_test, dummyPred))"
   ]
  },
  {
   "cell_type": "markdown",
   "metadata": {
    "id": "OnKjtcG4U0XN"
   },
   "source": [
    "<br>\n",
    "\n",
    "### **Let's try with one more algorithm**: Logistic Regression"
   ]
  },
  {
   "cell_type": "code",
   "execution_count": 12,
   "metadata": {
    "id": "QOVfSnXlU0XN"
   },
   "outputs": [
    {
     "data": {
      "text/plain": [
       "LogisticRegression(solver='liblinear')"
      ]
     },
     "execution_count": 12,
     "metadata": {},
     "output_type": "execute_result"
    }
   ],
   "source": [
    "\n",
    "from sklearn.linear_model import LogisticRegression\n",
    "\n",
    "logistic = LogisticRegression(solver='liblinear')\n",
    "logistic.fit(X_train, y_train)"
   ]
  },
  {
   "cell_type": "code",
   "execution_count": 13,
   "metadata": {
    "colab": {
     "base_uri": "https://localhost:8080/"
    },
    "id": "jsedXdf_U0XO",
    "outputId": "c0694342-0a72-4571-b33e-66c534b38f66"
   },
   "outputs": [
    {
     "data": {
      "text/plain": [
       "0.9991432824920649"
      ]
     },
     "execution_count": 13,
     "metadata": {},
     "output_type": "execute_result"
    }
   ],
   "source": [
    "\n",
    "# Predict on training set\n",
    "logistic_pred = logistic.predict(X_test)\n",
    "\n",
    "# Checking accuracy\n",
    "accuracy_score(y_test, logistic_pred)\n"
   ]
  },
  {
   "cell_type": "markdown",
   "metadata": {
    "id": "vqA96bimU0XO"
   },
   "source": [
    "Our model is acheiving almost 100%. This is complete overfitting. Our model has memorised the dominant class and is able to perform so well. However, this will fail if we take it to production. We want a model that can generalise well, even if the fraud cases are few, we want a model that can capture them, else there's no point building the model in the first place."
   ]
  },
  {
   "cell_type": "markdown",
   "metadata": {
    "id": "Di76btk_U0XP"
   },
   "source": [
    "<br>\n",
    "\n",
    "# Dealing with **Imbalance Data**"
   ]
  },
  {
   "cell_type": "markdown",
   "metadata": {
    "id": "rRnUiB-bU0XP"
   },
   "source": [
    "There are several methods that we can use to deal with **Imbalance Data**.\n",
    "\n",
    "We will take a look at some of the popular ones"
   ]
  },
  {
   "cell_type": "markdown",
   "metadata": {
    "id": "kxZFi0RZU0XP"
   },
   "source": [
    "## 1. **Adding More Data**"
   ]
  },
  {
   "cell_type": "markdown",
   "metadata": {
    "id": "lpOxCGlTU0XP"
   },
   "source": [
    "Our data is imbalace because we have more samples of one class than the other.\n",
    "\n",
    "If we can collect more data and explore more of the other classes(in this case the fraudulent transactions) then we will be to approach a balanced dataset."
   ]
  },
  {
   "cell_type": "markdown",
   "metadata": {
    "id": "4h7m7ca9U0XQ"
   },
   "source": [
    "## 2. **Change Your Performance Metrics**"
   ]
  },
  {
   "cell_type": "markdown",
   "metadata": {
    "id": "xrKQmMdiU0XQ"
   },
   "source": [
    "Accuracy is not the ultimate performance metrics and infact in the case of imbalace dataset, it might not be appropriate at all.\n",
    "\n",
    "Trying different performance metrics that can provide more insights into the performance of the model. Among these metrics are:\n",
    "\n",
    "1. **Confusion Matrix:** A matrix showing correct predictions and the types of incorrect predictions made\n",
    "   \n",
    "2. **Precision:** A measure of the exactness of classifiers.\n",
    "   \n",
    "3. **Recall:** A measure of the completeness of classifiers.\n",
    "4. **F1 Score (or F-score):** A weighted average of precision and recall."
   ]
  },
  {
   "cell_type": "markdown",
   "metadata": {
    "id": "N_OFnPNVU0XQ"
   },
   "source": [
    "### **Let's apply some of these Performance Metrics**"
   ]
  },
  {
   "cell_type": "markdown",
   "metadata": {
    "id": "VQAmmatOU0XQ"
   },
   "source": [
    "#### **Confusion Metrics**"
   ]
  },
  {
   "cell_type": "code",
   "execution_count": 14,
   "metadata": {
    "colab": {
     "base_uri": "https://localhost:8080/",
     "height": 111
    },
    "id": "aOuzfoW6U0XR",
    "outputId": "0c15b574-f11c-4e30-c0b2-97f76b38e667"
   },
   "outputs": [
    {
     "data": {
      "text/html": [
       "<div>\n",
       "<style scoped>\n",
       "    .dataframe tbody tr th:only-of-type {\n",
       "        vertical-align: middle;\n",
       "    }\n",
       "\n",
       "    .dataframe tbody tr th {\n",
       "        vertical-align: top;\n",
       "    }\n",
       "\n",
       "    .dataframe thead th {\n",
       "        text-align: right;\n",
       "    }\n",
       "</style>\n",
       "<table border=\"1\" class=\"dataframe\">\n",
       "  <thead>\n",
       "    <tr style=\"text-align: right;\">\n",
       "      <th></th>\n",
       "      <th>0</th>\n",
       "      <th>1</th>\n",
       "    </tr>\n",
       "  </thead>\n",
       "  <tbody>\n",
       "    <tr>\n",
       "      <th>0</th>\n",
       "      <td>71064</td>\n",
       "      <td>25</td>\n",
       "    </tr>\n",
       "    <tr>\n",
       "      <th>1</th>\n",
       "      <td>36</td>\n",
       "      <td>77</td>\n",
       "    </tr>\n",
       "  </tbody>\n",
       "</table>\n",
       "</div>"
      ],
      "text/plain": [
       "       0   1\n",
       "0  71064  25\n",
       "1     36  77"
      ]
     },
     "execution_count": 14,
     "metadata": {},
     "output_type": "execute_result"
    }
   ],
   "source": [
    "\n",
    "from sklearn.metrics import confusion_matrix\n",
    "\n",
    "\n",
    "\n",
    "pd.DataFrame(confusion_matrix(y_test, logistic_pred))"
   ]
  },
  {
   "cell_type": "code",
   "execution_count": 15,
   "metadata": {
    "colab": {
     "base_uri": "https://localhost:8080/",
     "height": 298
    },
    "id": "OygkqbPnU0Xe",
    "outputId": "05906b98-25ca-4d26-f63c-ae77e586e70e"
   },
   "outputs": [
    {
     "data": {
      "image/png": "[encoded data removed]",
      "text/plain": [
       "<Figure size 432x288 with 2 Axes>"
      ]
     },
     "metadata": {
      "needs_background": "light"
     },
     "output_type": "display_data"
    }
   ],
   "source": [
    "\n",
    "from sklearn.metrics import plot_confusion_matrix\n",
    "\n",
    "\n",
    "plot_confusion_matrix(logistic, X_test, y_test)  \n",
    "plt.show() "
   ]
  },
  {
   "cell_type": "markdown",
   "metadata": {
    "id": "4HoKjEWKU0Xf"
   },
   "source": [
    "We can see that our model is predicting most of the **Os(i.e non-fruad cases)** and less of the **1s(fraud cases)**"
   ]
  },
  {
   "cell_type": "markdown",
   "metadata": {
    "id": "HsHNPsyhU0Xg"
   },
   "source": [
    "#### **F1-Score And Recall**"
   ]
  },
  {
   "cell_type": "code",
   "execution_count": 16,
   "metadata": {
    "colab": {
     "base_uri": "https://localhost:8080/"
    },
    "id": "YRGqZeL2U0Xh",
    "outputId": "ce8bcc1b-2289-4c38-a155-c6d0bba16c46"
   },
   "outputs": [
    {
     "name": "stdout",
     "output_type": "stream",
     "text": [
      "F1-Score is: 0.7162790697674417\n",
      "Recall is: 0.6814159292035398\n"
     ]
    }
   ],
   "source": [
    "\n",
    "# f1 score\n",
    "f1=f1_score(y_test, logistic_pred)\n",
    "print('F1-Score is:',f1)\n",
    "# recall score\n",
    "recall=recall_score(y_test, logistic_pred)\n",
    "print('Recall is:',recall)"
   ]
  },
  {
   "cell_type": "markdown",
   "metadata": {
    "id": "lPPsfKBrU0Xj"
   },
   "source": [
    "Not good scores. We expect our **F1-Score** to be very close to one, considering the performance, but it turned out that that is not the case.\n",
    "\n",
    "We also wanted to see a **recall** closer to 100% or 1 but as can be seen above, it is not the case, we got 69% or 6.9 which is low considering our model accuracy being almost 100% or 1. \n",
    "\n",
    "From this, we can see that, **Accuracy** was a deceptive measure of performance."
   ]
  },
  {
   "cell_type": "markdown",
   "metadata": {
    "id": "R810iGdAU0Xr"
   },
   "source": [
    "## 3. **Change the algorithm**"
   ]
  },
  {
   "cell_type": "markdown",
   "metadata": {
    "id": "q7YQKs7eU0Xs"
   },
   "source": [
    "Thankfully there are numerous algorithms to try out. If one algorithm is not performing well or is not meeting our expectations, we can still try different algorithms to see how well they are performing.\n",
    "\n",
    "We will consider a **Random Forest** algorithm as it usually performs better as against a single algorithm."
   ]
  },
  {
   "cell_type": "code",
   "execution_count": 17,
   "metadata": {
    "colab": {
     "base_uri": "https://localhost:8080/"
    },
    "id": "uQuza-xKU0Xu",
    "outputId": "f24b79b4-e68f-4cfe-cfa5-4d3097f0b90b"
   },
   "outputs": [
    {
     "data": {
      "text/plain": [
       "RandomForestClassifier()"
      ]
     },
     "execution_count": 17,
     "metadata": {},
     "output_type": "execute_result"
    }
   ],
   "source": [
    "from sklearn.ensemble import RandomForestClassifier\n",
    "\n",
    "#Initialisation\n",
    "rfc = RandomForestClassifier()\n",
    "rfc.fit(X_train, y_train)"
   ]
  },
  {
   "cell_type": "code",
   "execution_count": 18,
   "metadata": {
    "colab": {
     "base_uri": "https://localhost:8080/"
    },
    "id": "qjr65HgCU0Xu",
    "outputId": "7289ba8b-4060-48a0-aa39-09db89cab663"
   },
   "outputs": [
    {
     "data": {
      "text/plain": [
       "0.9995505744220669"
      ]
     },
     "execution_count": 18,
     "metadata": {},
     "output_type": "execute_result"
    }
   ],
   "source": [
    "\n",
    "# predict on test set\n",
    "rfc_pred = rfc.predict(X_test)\n",
    "\n",
    "accuracy_score(y_test, rfc_pred)"
   ]
  },
  {
   "cell_type": "code",
   "execution_count": 19,
   "metadata": {
    "colab": {
     "base_uri": "https://localhost:8080/",
     "height": 111
    },
    "id": "JpNChYZ6U0Xv",
    "outputId": "145e677d-f61e-400d-c3aa-c11b19c99131"
   },
   "outputs": [
    {
     "data": {
      "text/html": [
       "<div>\n",
       "<style scoped>\n",
       "    .dataframe tbody tr th:only-of-type {\n",
       "        vertical-align: middle;\n",
       "    }\n",
       "\n",
       "    .dataframe tbody tr th {\n",
       "        vertical-align: top;\n",
       "    }\n",
       "\n",
       "    .dataframe thead th {\n",
       "        text-align: right;\n",
       "    }\n",
       "</style>\n",
       "<table border=\"1\" class=\"dataframe\">\n",
       "  <thead>\n",
       "    <tr style=\"text-align: right;\">\n",
       "      <th></th>\n",
       "      <th>0</th>\n",
       "      <th>1</th>\n",
       "    </tr>\n",
       "  </thead>\n",
       "  <tbody>\n",
       "    <tr>\n",
       "      <th>0</th>\n",
       "      <td>71082</td>\n",
       "      <td>7</td>\n",
       "    </tr>\n",
       "    <tr>\n",
       "      <th>1</th>\n",
       "      <td>25</td>\n",
       "      <td>88</td>\n",
       "    </tr>\n",
       "  </tbody>\n",
       "</table>\n",
       "</div>"
      ],
      "text/plain": [
       "       0   1\n",
       "0  71082   7\n",
       "1     25  88"
      ]
     },
     "execution_count": 19,
     "metadata": {},
     "output_type": "execute_result"
    }
   ],
   "source": [
    "from sklearn.metrics import confusion_matrix\n",
    "\n",
    "\n",
    "pd.DataFrame(confusion_matrix(y_test, rfc_pred))"
   ]
  },
  {
   "cell_type": "code",
   "execution_count": 20,
   "metadata": {
    "colab": {
     "base_uri": "https://localhost:8080/"
    },
    "id": "AbmM9tRcU0Xv",
    "outputId": "5727954d-7c65-4ccf-a492-2b4a4929e4af"
   },
   "outputs": [
    {
     "name": "stdout",
     "output_type": "stream",
     "text": [
      "F1-Score is: 0.8461538461538461\n",
      "Recall is: 0.7787610619469026\n"
     ]
    }
   ],
   "source": [
    "\n",
    "# f1 score\n",
    "f1=f1_score(y_test, rfc_pred)\n",
    "print('F1-Score is:',f1)\n",
    "# recall score\n",
    "recall=recall_score(y_test, rfc_pred)\n",
    "print('Recall is:',recall)"
   ]
  },
  {
   "cell_type": "markdown",
   "metadata": {
    "id": "fxNap-KnU0Xw"
   },
   "source": [
    "We can see some improvements in F1-score and Recall score after we changed the algrithm. "
   ]
  },
  {
   "cell_type": "markdown",
   "metadata": {
    "id": "0iWi9uFqU0Xw"
   },
   "source": [
    "## 4. **Resampling Techniques**"
   ]
  },
  {
   "cell_type": "markdown",
   "metadata": {
    "id": "1sAOb7s9U0Xx"
   },
   "source": [
    "We can change the dataset that we are using to build our predictive model to have more balanced data.\n",
    "\n",
    "This approach is normally referred to as sampling the dataset. There are two main methods that are typically used.\n",
    "\n",
    "\n",
    "1. **Upsampling/OverSampling**\n",
    "2. **DownSampling/UnderSampling**\n",
    "\n",
    "We will see how each of these techniques are used below."
   ]
  },
  {
   "cell_type": "markdown",
   "metadata": {
    "id": "4EgYDrjTU0Xx"
   },
   "source": [
    "## **Upsampling/OverSampling**"
   ]
  },
  {
   "cell_type": "markdown",
   "metadata": {
    "id": "95ZTIarNU0Xy"
   },
   "source": [
    "In upsampling or oversampling, we increase the number of samples in minority class to match up with the number of samples of the majority class.\n",
    "\n",
    "That is, we take the minority class and try to create new samples that could match up to the length of the majority samples."
   ]
  },
  {
   "cell_type": "markdown",
   "metadata": {
    "id": "ahTTNiu2U0Xz"
   },
   "source": [
    "<img src= \"data:image/png;base64,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\"/>"
   ]
  },
  {
   "cell_type": "markdown",
   "metadata": {
    "id": "IbDIMcnuU0YD"
   },
   "source": [
    "**Implementation Using Resample**"
   ]
  },
  {
   "cell_type": "code",
   "execution_count": 21,
   "metadata": {
    "colab": {
     "base_uri": "https://localhost:8080/"
    },
    "id": "3PMzdv8UU0YH",
    "outputId": "5e8d221c-e38e-462a-8e3b-a71e626e0d27"
   },
   "outputs": [
    {
     "data": {
      "text/plain": [
       "0    284315\n",
       "1    284315\n",
       "Name: Class, dtype: int64"
      ]
     },
     "execution_count": 21,
     "metadata": {},
     "output_type": "execute_result"
    }
   ],
   "source": [
    "\n",
    "# separate minority and majority classes\n",
    "from sklearn.utils import resample\n",
    "\n",
    "not_fraud = df[df.Class==0]\n",
    "fraud = df[df.Class==1]\n",
    "\n",
    "# upsample minority\n",
    "fraud_data_upsampled = resample(fraud,#==87\n",
    "                          replace=True, # sample with replacement\n",
    "                          n_samples=len(not_fraud), #===23235, # match number in majority class\n",
    "                          random_state=67) # reproducible results\n",
    "\n",
    "# combine majority and upsampled minority\n",
    "upsampled = pd.concat([not_fraud, fraud_data_upsampled])\n",
    "\n",
    "# check new class counts\n",
    "upsampled['Class'].value_counts()"
   ]
  },
  {
   "cell_type": "markdown",
   "metadata": {
    "id": "0YbuROOjU0YI"
   },
   "source": [
    "<br>\n",
    "\n",
    "<br>\n",
    "\n",
    "**Alternatively**\n",
    "\n",
    "#### *We can also implement OverSampling Using RandomOverSampler*"
   ]
  },
  {
   "cell_type": "markdown",
   "metadata": {
    "id": "rSQmnTpfU0YI"
   },
   "source": [
    "## **RandomOverSampler method**"
   ]
  },
  {
   "cell_type": "code",
   "execution_count": 22,
   "metadata": {
    "colab": {
     "base_uri": "https://localhost:8080/"
    },
    "id": "1WFQnWplU0YP",
    "outputId": "668cf3e0-285c-4bed-9bea-706c8fffdd73"
   },
   "outputs": [
    {
     "name": "stdout",
     "output_type": "stream",
     "text": [
      "Collecting imbalanced-learn\n",
      "  Using cached imbalanced_learn-0.9.0-py3-none-any.whl (199 kB)\n",
      "Requirement already satisfied: scipy>=1.1.0 in c:\\programdata\\anaconda3\\lib\\site-packages (from imbalanced-learn) (1.6.2)\n",
      "Requirement already satisfied: joblib>=0.11 in c:\\programdata\\anaconda3\\lib\\site-packages (from imbalanced-learn) (1.0.1)\n",
      "Collecting scikit-learn>=1.0.1\n",
      "  Using cached scikit_learn-1.1.0-cp38-cp38-win_amd64.whl (7.3 MB)\n",
      "Requirement already satisfied: numpy>=1.14.6 in c:\\programdata\\anaconda3\\lib\\site-packages (from imbalanced-learn) (1.20.1)\n",
      "Requirement already satisfied: threadpoolctl>=2.0.0 in c:\\programdata\\anaconda3\\lib\\site-packages (from imbalanced-learn) (2.1.0)\n",
      "Installing collected packages: scikit-learn, imbalanced-learn\n",
      "  Attempting uninstall: scikit-learn\n",
      "    Found existing installation: scikit-learn 0.24.1\n",
      "    Uninstalling scikit-learn-0.24.1:\n",
      "Note: you may need to restart the kernel to use updated packages.\n"
     ]
    },
    {
     "name": "stderr",
     "output_type": "stream",
     "text": [
      "ERROR: Could not install packages due to an OSError: [WinError 5] Access is denied: 'c:\\\\programdata\\\\anaconda3\\\\lib\\\\site-packages\\\\scikit_learn-0.24.1.dist-info\\\\COPYING'\n",
      "Consider using the `--user` option or check the permissions.\n",
      "\n"
     ]
    }
   ],
   "source": [
    "pip install -U imbalanced-learn"
   ]
  },
  {
   "cell_type": "code",
   "execution_count": 23,
   "metadata": {
    "colab": {
     "base_uri": "https://localhost:8080/"
    },
    "id": "0c7-AkbGU0YP",
    "outputId": "646fdf19-43a3-4e65-a729-f53de98dcac3"
   },
   "outputs": [
    {
     "ename": "ModuleNotFoundError",
     "evalue": "No module named 'imblearn'",
     "output_type": "error",
     "traceback": [
      "\u001b[1;31m---------------------------------------------------------------------------\u001b[0m",
      "\u001b[1;31mModuleNotFoundError\u001b[0m                       Traceback (most recent call last)",
      "\u001b[1;32m<ipython-input-23-6e8a39a6529f>\u001b[0m in \u001b[0;36m<module>\u001b[1;34m\u001b[0m\n\u001b[0;32m      1\u001b[0m \u001b[1;31m# Randomoversampler\u001b[0m\u001b[1;33m\u001b[0m\u001b[1;33m\u001b[0m\u001b[1;33m\u001b[0m\u001b[0m\n\u001b[0;32m      2\u001b[0m \u001b[1;32mfrom\u001b[0m \u001b[0mcollections\u001b[0m \u001b[1;32mimport\u001b[0m \u001b[0mCounter\u001b[0m\u001b[1;33m\u001b[0m\u001b[1;33m\u001b[0m\u001b[0m\n\u001b[1;32m----> 3\u001b[1;33m \u001b[1;32mfrom\u001b[0m \u001b[0mimblearn\u001b[0m\u001b[1;33m.\u001b[0m\u001b[0mover_sampling\u001b[0m \u001b[1;32mimport\u001b[0m \u001b[0mRandomOverSampler\u001b[0m\u001b[1;33m\u001b[0m\u001b[1;33m\u001b[0m\u001b[0m\n\u001b[0m\u001b[0;32m      4\u001b[0m \u001b[1;33m\u001b[0m\u001b[0m\n\u001b[0;32m      5\u001b[0m \u001b[0mrandOver\u001b[0m \u001b[1;33m=\u001b[0m \u001b[0mRandomOverSampler\u001b[0m\u001b[1;33m(\u001b[0m\u001b[0mrandom_state\u001b[0m\u001b[1;33m=\u001b[0m\u001b[1;36m50\u001b[0m\u001b[1;33m)\u001b[0m\u001b[1;33m\u001b[0m\u001b[1;33m\u001b[0m\u001b[0m\n",
      "\u001b[1;31mModuleNotFoundError\u001b[0m: No module named 'imblearn'"
     ]
    }
   ],
   "source": [
    "# Randomoversampler\n",
    "from collections import Counter\n",
    "from imblearn.over_sampling import RandomOverSampler\n",
    "\n",
    "randOver = RandomOverSampler(random_state=50)\n",
    "x_res, y_res = randOver.fit_sample(X,y)\n",
    "\n",
    "\n",
    "print('Original dataset shape {}'.format(Counter(y)))\n",
    "print('Resampled dataset shape {}'.format(Counter(y_res)))"
   ]
  },
  {
   "cell_type": "markdown",
   "metadata": {
    "id": "Usq4Re5sAhX3"
   },
   "source": [
    "###Lt's try our Logistic Regression again on the **Balanced Dataset**"
   ]
  },
  {
   "cell_type": "code",
   "execution_count": null,
   "metadata": {
    "id": "2bb2G_RoU0YQ"
   },
   "outputs": [],
   "source": [
    "\n",
    "# trying logistic regression with the balanced dataset\n",
    "\n",
    "from sklearn.linear_model import LogisticRegression\n",
    "\n",
    "y_train = upsampled.Class\n",
    "X_train = upsampled.drop('Class', axis=1)\n",
    "\n",
    "model = LogisticRegression(solver='liblinear')\n",
    "model.fit(X_train, y_train)\n",
    "\n",
    "upsampled_pred = upsampled.predict(X_test)"
   ]
  },
  {
   "cell_type": "code",
   "execution_count": null,
   "metadata": {
    "colab": {
     "base_uri": "https://localhost:8080/"
    },
    "id": "oGFOmZH_U0YQ",
    "outputId": "04cf7df6-2f6d-464f-ee34-e44749bd77c8"
   },
   "outputs": [],
   "source": [
    "\n",
    "# Checking accuracy\n",
    "\n",
    "accuracy_score(y_test, upsampled_pred)"
   ]
  },
  {
   "cell_type": "code",
   "execution_count": null,
   "metadata": {
    "id": "pFc9qbydU0YR"
   },
   "outputs": [],
   "source": [
    "\n",
    "# recall score\n",
    "recall=recall_score(y_test, upsampled_pred)\n",
    "print('Recall is:',recall)"
   ]
  },
  {
   "cell_type": "markdown",
   "metadata": {
    "id": "glTcy0sI6EGR"
   },
   "source": [
    "Recall is: 1.0"
   ]
  },
  {
   "cell_type": "markdown",
   "metadata": {
    "id": "X4XmPpLXU0YR"
   },
   "source": [
    "Now we can see drastic improvement in **Recall**"
   ]
  },
  {
   "cell_type": "code",
   "execution_count": null,
   "metadata": {
    "colab": {
     "base_uri": "https://localhost:8080/",
     "height": 111
    },
    "id": "M8ayVYtfU0YR",
    "outputId": "e44a5f0b-0dad-496e-b23c-aad8b2be54c1"
   },
   "outputs": [],
   "source": [
    "from sklearn.metrics import confusion_matrix\n",
    "\n",
    "\n",
    "pd.DataFrame(confusion_matrix(y_test, upsampled_pred))"
   ]
  },
  {
   "cell_type": "markdown",
   "metadata": {
    "id": "-Q3IOGghU0YR"
   },
   "source": [
    "## **DownSampling/UnderSampling**"
   ]
  },
  {
   "cell_type": "markdown",
   "metadata": {
    "id": "qNeK2CZkU0YS"
   },
   "source": [
    "In undersampling, we decrease the number of samples in the majority class to match the number of samples of the minority class.\n",
    "\n",
    "That's we take the majority class and try to create new samples that match the length of the minority samples."
   ]
  },
  {
   "cell_type": "markdown",
   "metadata": {
    "id": "w4dIVANJU0YS"
   },
   "source": [
    "<img src=\"data:image/png;base64,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\"/>"
   ]
  },
  {
   "cell_type": "markdown",
   "metadata": {
    "id": "YjTTbu-DU0YT"
   },
   "source": [
    "**Implementation Using Resample**"
   ]
  },
  {
   "cell_type": "code",
   "execution_count": null,
   "metadata": {
    "colab": {
     "base_uri": "https://localhost:8080/"
    },
    "id": "ZuSa1SDRU0YT",
    "outputId": "687640af-0a29-4758-e2b5-5903bdbc9627"
   },
   "outputs": [],
   "source": [
    "\n",
    "# still using our separated classes fraud and not_fraud from above\n",
    "\n",
    "\n",
    "not_fraud = df[df.Class==0]\n",
    "fraud = df[df.Class==1]\n",
    "\n",
    "\n",
    "# downsample majority\n",
    "not_fraud_downsampled = resample(not_fraud,\n",
    "                                replace = False, # sample without replacement\n",
    "                                n_samples = len(fraud), # match minority n\n",
    "                                random_state = 27) # reproducible results\n",
    "\n",
    "# combine minority and downsampled majority\n",
    "downsampled = pd.concat([not_fraud_downsampled, fraud])\n",
    "\n",
    "# checking counts\n",
    "downsampled.Class.value_counts()"
   ]
  },
  {
   "cell_type": "code",
   "execution_count": null,
   "metadata": {
    "id": "v8CKkzGDU0YT"
   },
   "outputs": [],
   "source": [
    "\n",
    "# trying logistic regression again with the undersampled dataset\n",
    "\n",
    "y_train = downsampled.Class\n",
    "X_train = downsampled.drop('Class', axis=1)\n",
    "\n",
    "undersampled = LogisticRegression(solver='liblinear').fit(X_train, y_train)\n",
    "\n",
    "undersampled_pred = undersampled.predict(X_test)"
   ]
  },
  {
   "cell_type": "code",
   "execution_count": null,
   "metadata": {
    "colab": {
     "base_uri": "https://localhost:8080/"
    },
    "id": "GBO7GBycU0YU",
    "outputId": "6b3b25fc-b108-4929-9fd4-2cda284d60fd"
   },
   "outputs": [],
   "source": [
    "\n",
    "accuracy_score(y_test, undersampled_pred)"
   ]
  },
  {
   "cell_type": "code",
   "execution_count": null,
   "metadata": {
    "colab": {
     "base_uri": "https://localhost:8080/",
     "height": 111
    },
    "id": "XAXTPHMZU0YV",
    "outputId": "418102ce-7e2a-4488-83a7-8c25865468d5"
   },
   "outputs": [],
   "source": [
    "\n",
    "pd.DataFrame(confusion_matrix(y_test, undersampled_pred))"
   ]
  },
  {
   "cell_type": "code",
   "execution_count": null,
   "metadata": {
    "colab": {
     "base_uri": "https://localhost:8080/"
    },
    "id": "lFfQT9tmU0YV",
    "outputId": "7bbc9449-1432-44c2-9fdc-96dcaba54a2d"
   },
   "outputs": [],
   "source": [
    "\n",
    "# # f1 score\n",
    "# f1=f1_score(y_test, undersampled_pred)\n",
    "# print('F1-Score is:',f1)\n",
    "# # recall score\n",
    "recall=recall_score(y_test, undersampled_pred)\n",
    "print('Recall is:',recall)"
   ]
  },
  {
   "cell_type": "markdown",
   "metadata": {
    "id": "Ac--1mN9Bliu"
   },
   "source": [
    "We have achieved good **Recall**"
   ]
  },
  {
   "cell_type": "markdown",
   "metadata": {
    "id": "zxJ_utjEU0YW"
   },
   "source": [
    "## **Generate Synthetic Samples**: SMOTE\n",
    "\n",
    "\n",
    "\n",
    "\n",
    "\n",
    "\n",
    "\n",
    "SMOTE(SMOTE or Synthetic Minority Oversampling Technique)\n",
    "SMOTE or Synthetic Minority Oversampling Technique is a popular algorithm to creates sythetic observations of the minority class.\n",
    "\n",
    "SMOTE uses a nearest neighbors algorithm to generate new and synthetic data"
   ]
  },
  {
   "cell_type": "code",
   "execution_count": null,
   "metadata": {
    "id": "oC8q77CCU0YW"
   },
   "outputs": [],
   "source": [
    "# !pip install SMOTE"
   ]
  },
  {
   "cell_type": "code",
   "execution_count": null,
   "metadata": {
    "id": "keleSwzfU0YX"
   },
   "outputs": [],
   "source": [
    "\n",
    "# !pip install imbalanced-learn"
   ]
  },
  {
   "cell_type": "code",
   "execution_count": null,
   "metadata": {
    "id": "ET3ljJ8eU0YZ"
   },
   "outputs": [],
   "source": [
    "\n",
    "from imblearn.over_sampling import SMOTE\n",
    "\n",
    "# Separate input features and target\n",
    "y = df.Class\n",
    "X = df.drop('Class', axis=1)\n",
    "\n",
    "# setting up testing and training sets\n",
    "X_train1, X_test1, y_train1, y_test1 = train_test_split(X, y, test_size=0.25, random_state=27)"
   ]
  },
  {
   "cell_type": "code",
   "execution_count": null,
   "metadata": {
    "id": "Te3s_BSSU0Ya"
   },
   "outputs": [],
   "source": [
    "\n",
    "sm = SMOTE(random_state=27)\n",
    "X_train1, y_train1 = sm.fit_sample(X_train1, y_train1)"
   ]
  },
  {
   "cell_type": "code",
   "execution_count": null,
   "metadata": {
    "colab": {
     "base_uri": "https://localhost:8080/"
    },
    "id": "DVD3u5A6B52l",
    "outputId": "0cb4b164-3647-45dc-9118-46bab74badbc"
   },
   "outputs": [],
   "source": [
    "smote = LogisticRegression(solver='liblinear').fit(X_train1, y_train1)\n",
    "\n",
    "smote_pred = smote.predict(X_test1)\n",
    "\n",
    "# Checking accuracy\n",
    "accuracy_score(y_test1, smote_pred)"
   ]
  },
  {
   "cell_type": "code",
   "execution_count": null,
   "metadata": {
    "colab": {
     "base_uri": "https://localhost:8080/",
     "height": 111
    },
    "id": "yILyOmIQCAcJ",
    "outputId": "512fd07f-b0a2-4a80-bbd9-bc144e8690f6"
   },
   "outputs": [],
   "source": [
    "pd.DataFrame(confusion_matrix(y_test1, smote_pred))"
   ]
  },
  {
   "cell_type": "markdown",
   "metadata": {
    "id": "bNJCv1F7CNup"
   },
   "source": [
    "###Let's Build A **Random Forest Algorithm** On The New **Balanced Data** To See The Results:"
   ]
  },
  {
   "cell_type": "code",
   "execution_count": null,
   "metadata": {
    "id": "tSfWlDwXCI3m"
   },
   "outputs": [],
   "source": [
    "#@title\n",
    "\n",
    "from sklearn.ensemble import RandomForestClassifier"
   ]
  },
  {
   "cell_type": "code",
   "execution_count": null,
   "metadata": {
    "colab": {
     "base_uri": "https://localhost:8080/"
    },
    "id": "aORC4X8hCiio",
    "outputId": "c6f4d071-5550-4cb5-cb7f-e95a57f9e992"
   },
   "outputs": [],
   "source": [
    "\n",
    "\n",
    "randf = RandomForestClassifier(n_estimators=10).fit(X_train1, y_train1)\n",
    "\n",
    "# predict on test set\n",
    "randf_pred = randf.predict(X_test1)\n",
    "\n",
    "accuracy_score(y_test1, randf_pred)"
   ]
  },
  {
   "cell_type": "code",
   "execution_count": null,
   "metadata": {
    "colab": {
     "base_uri": "https://localhost:8080/",
     "height": 111
    },
    "id": "DGCrhMurCmON",
    "outputId": "fdc3fc26-0681-4968-bac4-5f4327424564"
   },
   "outputs": [],
   "source": [
    "\n",
    "pd.DataFrame(confusion_matrix(y_test1, randf_pred))"
   ]
  },
  {
   "cell_type": "markdown",
   "metadata": {
    "id": "-BNnBwDXC_pZ"
   },
   "source": [
    "In this case **SMOTE** is not working for us, we will therefore consider *Upsampling* and *Downsampling* in dealing with imbalance data.\n",
    "\n",
    "\n",
    "**Note:** Every dataset is different and what worked for one dataset might not work exactly the same way for all datasets. For example **SMOTE** might work very well on a different dataset while **Upsampling** or **Downsampling** might not perform good. \n",
    "\n",
    "It is therefore advisable to consider all these strategies and select the one that works best for your dataset."
   ]
  },
  {
   "cell_type": "code",
   "execution_count": null,
   "metadata": {
    "id": "vyXoS3E3CpE-"
   },
   "outputs": [],
   "source": []
  }
 ],
 "metadata": {
  "colab": {
   "collapsed_sections": [
    "0YbuROOjU0YI"
   ],
   "name": "DATA IMBALANCE.ipynb",
   "provenance": [],
   "toc_visible": true
  },
  "kernelspec": {
   "display_name": "Python 3",
   "language": "python",
   "name": "python3"
  },
  "language_info": {
   "codemirror_mode": {
    "name": "ipython",
    "version": 3
   },
   "file_extension": ".py",
   "mimetype": "text/x-python",
   "name": "python",
   "nbconvert_exporter": "python",
   "pygments_lexer": "ipython3",
   "version": "3.8.8"
  }
 },
 "nbformat": 4,
 "nbformat_minor": 1
}
